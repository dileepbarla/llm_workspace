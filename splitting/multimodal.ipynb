{
 "cells": [
  {
   "cell_type": "code",
   "execution_count": 1,
   "metadata": {},
   "outputs": [
    {
     "name": "stderr",
     "output_type": "stream",
     "text": [
      "/Users/dileepbarla/Library/Python/3.9/lib/python/site-packages/urllib3/__init__.py:35: NotOpenSSLWarning: urllib3 v2 only supports OpenSSL 1.1.1+, currently the 'ssl' module is compiled with 'LibreSSL 2.8.3'. See: https://github.com/urllib3/urllib3/issues/3020\n",
      "  warnings.warn(\n"
     ]
    }
   ],
   "source": [
    "from typing import Any\n",
    "\n",
    "from pydantic import BaseModel\n",
    "from unstructured.partition.pdf import partition_pdf"
   ]
  },
  {
   "cell_type": "code",
   "execution_count": 22,
   "metadata": {},
   "outputs": [],
   "source": [
    "filepath = \"pdf_files/southwindsor_park.pdf\""
   ]
  },
  {
   "cell_type": "code",
   "execution_count": 9,
   "metadata": {},
   "outputs": [
    {
     "name": "stdout",
     "output_type": "stream",
     "text": [
      "/Library/Developer/CommandLineTools/usr/bin:/Users/dileepbarla/Library/Python/3.9/bin:/usr/local/bin:/System/Cryptexes/App/usr/bin:/usr/bin:/bin:/usr/sbin:/sbin:/var/run/com.apple.security.cryptexd/codex.system/bootstrap/usr/local/bin:/var/run/com.apple.security.cryptexd/codex.system/bootstrap/usr/bin:/var/run/com.apple.security.cryptexd/codex.system/bootstrap/usr/appleinternal/bin:/usr/local/bin:/System/Cryptexes/App/usr/bin:/usr/bin:/bin:/usr/sbin:/sbin:/var/run/com.apple.security.cryptexd/codex.system/bootstrap/usr/local/bin:/var/run/com.apple.security.cryptexd/codex.system/bootstrap/usr/bin:/var/run/com.apple.security.cryptexd/codex.system/bootstrap/usr/appleinternal/bin:/opt/homebrew/Cellar/tesseract/5.3.4_1/bin/opt/homebrew/Cellar/poppler/24.04.0/bin:/opt/homebrew/Cellar/tesseract/5.3.4_1/bin:/opt/homebrew/Cellar/poppler/24.04.0/bin:/opt/homebrew/Cellar/tesseract/5.3.4_1/bin:/opt/homebrew/Cellar/poppler/24.04.0/bin\n"
     ]
    }
   ],
   "source": [
    "import os\n",
    "os.environ[\"PATH\"] = os.getenv('PATH') + ':' + '/opt/homebrew/Cellar/tesseract/5.3.4_1/bin' + ':' + '/opt/homebrew/Cellar/poppler/24.04.0/bin'\n",
    "print(os.getenv('PATH'))"
   ]
  },
  {
   "cell_type": "code",
   "execution_count": 23,
   "metadata": {},
   "outputs": [
    {
     "name": "stderr",
     "output_type": "stream",
     "text": [
      "This function will be deprecated in a future release and `unstructured` will simply use the DEFAULT_MODEL from `unstructured_inference.model.base` to set default model name\n"
     ]
    }
   ],
   "source": [
    "# Get elements\n",
    "raw_pdf_elements = partition_pdf(\n",
    "    filename=filepath,\n",
    "    \n",
    "    # Using pdf format to find embedded image blocks\n",
    "    extract_images_in_pdf=True,\n",
    "    \n",
    "    # Use layout model (YOLOX) to get bounding boxes (for tables) and find titles\n",
    "    # Titles are any sub-section of the document\n",
    "    infer_table_structure=True,\n",
    "    \n",
    "    # Post processing to aggregate text once we have the title\n",
    "    chunking_strategy=\"by_title\",\n",
    "    # Chunking params to aggregate text blocks\n",
    "    # Attempt to create a new chunk 3800 chars\n",
    "    # Attempt to keep chunks > 2000 chars\n",
    "    # Hard max on chunks\n",
    "    max_characters=4000,\n",
    "    new_after_n_chars=3800,\n",
    "    combine_text_under_n_chars=2000,\n",
    "    # image_output_dir_path=\"./pdf_outputfiles/\",\n",
    ")"
   ]
  },
  {
   "cell_type": "code",
   "execution_count": 24,
   "metadata": {},
   "outputs": [
    {
     "name": "stdout",
     "output_type": "stream",
     "text": [
      "[<unstructured.documents.elements.CompositeElement object at 0x3638df250>, <unstructured.documents.elements.CompositeElement object at 0x3613e8760>, <unstructured.documents.elements.Table object at 0x3613e8ee0>, <unstructured.documents.elements.Table object at 0x36432b310>, <unstructured.documents.elements.Table object at 0x358bc41c0>, <unstructured.documents.elements.Table object at 0x17f94f580>, <unstructured.documents.elements.CompositeElement object at 0x36f8bcaf0>, <unstructured.documents.elements.CompositeElement object at 0x36f8bc220>, <unstructured.documents.elements.CompositeElement object at 0x3588c7be0>, <unstructured.documents.elements.CompositeElement object at 0x3588c7bb0>, <unstructured.documents.elements.CompositeElement object at 0x3588c7cd0>, <unstructured.documents.elements.CompositeElement object at 0x3588c7460>, <unstructured.documents.elements.CompositeElement object at 0x3588c7880>, <unstructured.documents.elements.CompositeElement object at 0x3588c7670>, <unstructured.documents.elements.CompositeElement object at 0x3588c7820>, <unstructured.documents.elements.CompositeElement object at 0x358bbe550>, <unstructured.documents.elements.CompositeElement object at 0x358bbe490>, <unstructured.documents.elements.Table object at 0x358991430>, <unstructured.documents.elements.CompositeElement object at 0x358bbec40>, <unstructured.documents.elements.Table object at 0x358bbec10>, <unstructured.documents.elements.CompositeElement object at 0x358bbe250>, <unstructured.documents.elements.CompositeElement object at 0x358bbed30>, <unstructured.documents.elements.CompositeElement object at 0x358bbea30>, <unstructured.documents.elements.CompositeElement object at 0x358bbe670>, <unstructured.documents.elements.CompositeElement object at 0x358bbecd0>, <unstructured.documents.elements.CompositeElement object at 0x358bbe8e0>, <unstructured.documents.elements.CompositeElement object at 0x358bbe580>, <unstructured.documents.elements.CompositeElement object at 0x358bbe880>, <unstructured.documents.elements.CompositeElement object at 0x358bbe370>, <unstructured.documents.elements.CompositeElement object at 0x358bbeb50>, <unstructured.documents.elements.CompositeElement object at 0x358bbe310>, <unstructured.documents.elements.CompositeElement object at 0x358bbeee0>, <unstructured.documents.elements.CompositeElement object at 0x358bbef70>, <unstructured.documents.elements.CompositeElement object at 0x358bbea60>, <unstructured.documents.elements.CompositeElement object at 0x358bbe100>, <unstructured.documents.elements.CompositeElement object at 0x392f9d6a0>, <unstructured.documents.elements.Table object at 0x358bbe4c0>, <unstructured.documents.elements.CompositeElement object at 0x358bbeb20>, <unstructured.documents.elements.CompositeElement object at 0x1736bf4c0>, <unstructured.documents.elements.CompositeElement object at 0x1736bf460>, <unstructured.documents.elements.CompositeElement object at 0x1736bfdf0>, <unstructured.documents.elements.CompositeElement object at 0x1736bfa60>, <unstructured.documents.elements.CompositeElement object at 0x1736bf700>, <unstructured.documents.elements.Table object at 0x1736bfa90>, <unstructured.documents.elements.CompositeElement object at 0x1736bfdc0>, <unstructured.documents.elements.CompositeElement object at 0x1736bf8e0>, <unstructured.documents.elements.CompositeElement object at 0x392fb6130>]\n"
     ]
    }
   ],
   "source": [
    "print(raw_pdf_elements)"
   ]
  },
  {
   "cell_type": "code",
   "execution_count": 25,
   "metadata": {},
   "outputs": [
    {
     "data": {
      "text/plain": [
       "True"
      ]
     },
     "execution_count": 25,
     "metadata": {},
     "output_type": "execute_result"
    }
   ],
   "source": [
    "from langchain.chat_models import ChatOpenAI\n",
    "from langchain.schema.messages import HumanMessage\n",
    "import os\n",
    "from dotenv import load_dotenv\n",
    "from PIL import Image\n",
    "import base64\n",
    "import io\n",
    "\n",
    "load_dotenv()"
   ]
  },
  {
   "cell_type": "code",
   "execution_count": 26,
   "metadata": {},
   "outputs": [
    {
     "name": "stderr",
     "output_type": "stream",
     "text": [
      "/Users/dileepbarla/Library/Python/3.9/lib/python/site-packages/langchain_core/_api/deprecation.py:119: LangChainDeprecationWarning: The class `ChatOpenAI` was deprecated in LangChain 0.0.10 and will be removed in 0.2.0. An updated version of the class exists in the langchain-openai package and should be used instead. To use it run `pip install -U langchain-openai` and import as `from langchain_openai import ChatOpenAI`.\n",
      "  warn_deprecated(\n"
     ]
    }
   ],
   "source": [
    "llm = ChatOpenAI(model=\"gpt-4-vision-preview\")"
   ]
  },
  {
   "cell_type": "code",
   "execution_count": 28,
   "metadata": {},
   "outputs": [],
   "source": [
    "# Function to convert image to base64\n",
    "def image_to_base64(image_path):\n",
    "    with Image.open(image_path) as image:\n",
    "        buffered = io.BytesIO()\n",
    "        image.save(buffered, format=image.format)\n",
    "        img_str = base64.b64encode(buffered.getvalue())\n",
    "        return img_str.decode('utf-8')\n",
    "\n",
    "image_str = image_to_base64(\"figures/figure-1-1.jpg\")"
   ]
  },
  {
   "cell_type": "code",
   "execution_count": 39,
   "metadata": {},
   "outputs": [],
   "source": [
    "chat = ChatOpenAI(model=\"gpt-4-vision-preview\",\n",
    "                  max_tokens=1024)\n",
    "\n",
    "msg = chat.invoke(\n",
    "    [\n",
    "        HumanMessage(\n",
    "            content=[\n",
    "                {\"type\": \"text\", \"text\" : \"Whats the difference between residents and non-residents\"},\n",
    "                {\n",
    "                    \"type\": \"image_url\",\n",
    "                    \"image_url\": {\n",
    "                        \"url\": f\"data:image/jpeg;base64,{image_str}\"\n",
    "                    },\n",
    "                },\n",
    "            ]\n",
    "        )\n",
    "    ]\n",
    ")"
   ]
  }
 ],
 "metadata": {
  "kernelspec": {
   "display_name": "my-python3-kernel-jupyter",
   "language": "python",
   "name": "my-python3-kernel-jupyter"
  },
  "language_info": {
   "codemirror_mode": {
    "name": "ipython",
    "version": 3
   },
   "file_extension": ".py",
   "mimetype": "text/x-python",
   "name": "python",
   "nbconvert_exporter": "python",
   "pygments_lexer": "ipython3",
   "version": "3.9.6"
  }
 },
 "nbformat": 4,
 "nbformat_minor": 2
}
