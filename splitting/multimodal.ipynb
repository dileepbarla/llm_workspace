{
 "cells": [
  {
   "cell_type": "code",
   "execution_count": 41,
   "metadata": {},
   "outputs": [],
   "source": [
    "from typing import Any\n",
    "\n",
    "from pydantic import BaseModel\n",
    "from unstructured.partition.pdf import partition_pdf"
   ]
  },
  {
   "cell_type": "code",
   "execution_count": 42,
   "metadata": {},
   "outputs": [],
   "source": [
    "filepath = \"pdf_files/southwindsor_park.pdf\""
   ]
  },
  {
   "cell_type": "code",
   "execution_count": 43,
   "metadata": {},
   "outputs": [
    {
     "name": "stdout",
     "output_type": "stream",
     "text": [
      "/Library/Developer/CommandLineTools/usr/bin:/Users/dileepbarla/Library/Python/3.9/bin:/usr/local/bin:/System/Cryptexes/App/usr/bin:/usr/bin:/bin:/usr/sbin:/sbin:/var/run/com.apple.security.cryptexd/codex.system/bootstrap/usr/local/bin:/var/run/com.apple.security.cryptexd/codex.system/bootstrap/usr/bin:/var/run/com.apple.security.cryptexd/codex.system/bootstrap/usr/appleinternal/bin:/usr/local/bin:/System/Cryptexes/App/usr/bin:/usr/bin:/bin:/usr/sbin:/sbin:/var/run/com.apple.security.cryptexd/codex.system/bootstrap/usr/local/bin:/var/run/com.apple.security.cryptexd/codex.system/bootstrap/usr/bin:/var/run/com.apple.security.cryptexd/codex.system/bootstrap/usr/appleinternal/bin:/opt/homebrew/Cellar/tesseract/5.3.4_1/bin/opt/homebrew/Cellar/poppler/24.04.0/bin:/opt/homebrew/Cellar/tesseract/5.3.4_1/bin:/opt/homebrew/Cellar/poppler/24.04.0/bin:/opt/homebrew/Cellar/tesseract/5.3.4_1/bin:/opt/homebrew/Cellar/poppler/24.04.0/bin:/opt/homebrew/Cellar/tesseract/5.3.4_1/bin:/opt/homebrew/Cellar/poppler/24.04.0/bin\n"
     ]
    }
   ],
   "source": [
    "import os\n",
    "os.environ[\"PATH\"] = os.getenv('PATH') + ':' + '/opt/homebrew/Cellar/tesseract/5.3.4_1/bin' + ':' + '/opt/homebrew/Cellar/poppler/24.04.0/bin'\n",
    "print(os.getenv('PATH'))"
   ]
  },
  {
   "cell_type": "code",
   "execution_count": 44,
   "metadata": {},
   "outputs": [
    {
     "name": "stderr",
     "output_type": "stream",
     "text": [
      "This function will be deprecated in a future release and `unstructured` will simply use the DEFAULT_MODEL from `unstructured_inference.model.base` to set default model name\n"
     ]
    }
   ],
   "source": [
    "# Get elements\n",
    "raw_pdf_elements = partition_pdf(\n",
    "    filename=filepath,\n",
    "    \n",
    "    # Using pdf format to find embedded image blocks\n",
    "    extract_images_in_pdf=True,\n",
    "    \n",
    "    # Use layout model (YOLOX) to get bounding boxes (for tables) and find titles\n",
    "    # Titles are any sub-section of the document\n",
    "    infer_table_structure=True,\n",
    "    \n",
    "    # Post processing to aggregate text once we have the title\n",
    "    chunking_strategy=\"by_title\",\n",
    "    # Chunking params to aggregate text blocks\n",
    "    # Attempt to create a new chunk 3800 chars\n",
    "    # Attempt to keep chunks > 2000 chars\n",
    "    # Hard max on chunks\n",
    "    max_characters=4000,\n",
    "    new_after_n_chars=3800,\n",
    "    combine_text_under_n_chars=2000,\n",
    "    # image_output_dir_path=\"./pdf_outputfiles/\",\n",
    ")"
   ]
  },
  {
   "cell_type": "code",
   "execution_count": 45,
   "metadata": {},
   "outputs": [
    {
     "name": "stdout",
     "output_type": "stream",
     "text": [
      "[<unstructured.documents.elements.CompositeElement object at 0x3645ca910>, <unstructured.documents.elements.CompositeElement object at 0x171513e50>, <unstructured.documents.elements.Table object at 0x35ee0d9d0>, <unstructured.documents.elements.Table object at 0x3645ca880>, <unstructured.documents.elements.Table object at 0x36206a040>, <unstructured.documents.elements.Table object at 0x36207a5e0>, <unstructured.documents.elements.CompositeElement object at 0x362046fa0>, <unstructured.documents.elements.CompositeElement object at 0x332330be0>, <unstructured.documents.elements.CompositeElement object at 0x362046cd0>, <unstructured.documents.elements.CompositeElement object at 0x362050be0>, <unstructured.documents.elements.CompositeElement object at 0x332330f70>, <unstructured.documents.elements.CompositeElement object at 0x36ec490d0>, <unstructured.documents.elements.CompositeElement object at 0x364d1c9d0>, <unstructured.documents.elements.CompositeElement object at 0x364d1c8b0>, <unstructured.documents.elements.CompositeElement object at 0x35f51daf0>, <unstructured.documents.elements.CompositeElement object at 0x35e18e8b0>, <unstructured.documents.elements.CompositeElement object at 0x364d1c610>, <unstructured.documents.elements.Table object at 0x35ca9c280>, <unstructured.documents.elements.CompositeElement object at 0x380531df0>, <unstructured.documents.elements.Table object at 0x332330eb0>, <unstructured.documents.elements.CompositeElement object at 0x380531dc0>, <unstructured.documents.elements.CompositeElement object at 0x385cce610>, <unstructured.documents.elements.CompositeElement object at 0x385ccefd0>, <unstructured.documents.elements.CompositeElement object at 0x385cce6a0>, <unstructured.documents.elements.CompositeElement object at 0x385cce550>, <unstructured.documents.elements.CompositeElement object at 0x385cce100>, <unstructured.documents.elements.CompositeElement object at 0x385cce2e0>, <unstructured.documents.elements.CompositeElement object at 0x385cce4c0>, <unstructured.documents.elements.CompositeElement object at 0x385cce3a0>, <unstructured.documents.elements.CompositeElement object at 0x385cceaf0>, <unstructured.documents.elements.CompositeElement object at 0x385cce9d0>, <unstructured.documents.elements.CompositeElement object at 0x385cce700>, <unstructured.documents.elements.CompositeElement object at 0x385cce8e0>, <unstructured.documents.elements.CompositeElement object at 0x385cce310>, <unstructured.documents.elements.CompositeElement object at 0x385cce190>, <unstructured.documents.elements.CompositeElement object at 0x385cce370>, <unstructured.documents.elements.Table object at 0x3620724c0>, <unstructured.documents.elements.CompositeElement object at 0x362066520>, <unstructured.documents.elements.CompositeElement object at 0x3620660a0>, <unstructured.documents.elements.CompositeElement object at 0x36206c8e0>, <unstructured.documents.elements.CompositeElement object at 0x3620663d0>, <unstructured.documents.elements.CompositeElement object at 0x358bd2760>, <unstructured.documents.elements.CompositeElement object at 0x1736af580>, <unstructured.documents.elements.Table object at 0x36206c700>, <unstructured.documents.elements.CompositeElement object at 0x1736af5b0>, <unstructured.documents.elements.CompositeElement object at 0x362048ee0>, <unstructured.documents.elements.CompositeElement object at 0x3645ca250>]\n"
     ]
    }
   ],
   "source": [
    "print(raw_pdf_elements)"
   ]
  },
  {
   "cell_type": "code",
   "execution_count": 46,
   "metadata": {},
   "outputs": [
    {
     "data": {
      "text/plain": [
       "True"
      ]
     },
     "execution_count": 46,
     "metadata": {},
     "output_type": "execute_result"
    }
   ],
   "source": [
    "from langchain.chat_models import ChatOpenAI\n",
    "from langchain.schema.messages import HumanMessage\n",
    "import os\n",
    "from dotenv import load_dotenv\n",
    "from PIL import Image\n",
    "import base64\n",
    "import io\n",
    "\n",
    "load_dotenv()"
   ]
  },
  {
   "cell_type": "code",
   "execution_count": 47,
   "metadata": {},
   "outputs": [],
   "source": [
    "llm = ChatOpenAI(model=\"gpt-4-vision-preview\")"
   ]
  },
  {
   "cell_type": "code",
   "execution_count": 48,
   "metadata": {},
   "outputs": [],
   "source": [
    "# Function to convert image to base64\n",
    "def image_to_base64(image_path):\n",
    "    with Image.open(image_path) as image:\n",
    "        buffered = io.BytesIO()\n",
    "        image.save(buffered, format=image.format)\n",
    "        img_str = base64.b64encode(buffered.getvalue())\n",
    "        return img_str.decode('utf-8')\n",
    "\n",
    "image_str = image_to_base64(\"figures/figure-1-1.jpg\")"
   ]
  },
  {
   "cell_type": "code",
   "execution_count": 49,
   "metadata": {},
   "outputs": [],
   "source": [
    "chat = ChatOpenAI(model=\"gpt-4-vision-preview\",\n",
    "                  max_tokens=1024)\n",
    "\n",
    "msg = chat.invoke(\n",
    "    [\n",
    "        HumanMessage(\n",
    "            content=[\n",
    "                {\"type\": \"text\", \"text\" : \"Whats the difference between residents and non-residents\"},\n",
    "                {\n",
    "                    \"type\": \"image_url\",\n",
    "                    \"image_url\": {\n",
    "                        \"url\": f\"data:image/jpeg;base64,{image_str}\"\n",
    "                    },\n",
    "                },\n",
    "            ]\n",
    "        )\n",
    "    ]\n",
    ")"
   ]
  },
  {
   "cell_type": "code",
   "execution_count": 51,
   "metadata": {},
   "outputs": [
    {
     "name": "stdout",
     "output_type": "stream",
     "text": [
      "In the context of the image, which appears to be a brochure or flyer for the Town of South Windsor Parks and Recreation Department, \"residents\" typically refers to individuals who live within the boundaries of South Windsor and are often eligible for certain benefits, discounts, or priority registration for local services, events, or programs. The flyer indicates there is a specific registration date for residents, which is likely earlier than for non-residents to allow them the first opportunity to sign up for activities.\n",
      "\n",
      "\"Non-residents,\" on the other hand, are individuals who do not live within the town or city limits of South Windsor. They may still be allowed to participate in programs and events but might have to pay higher fees, register on a different date, or have secondary priority compared to residents. In this case, the non-resident registration opens a week later than the resident registration, as per the dates listed on the flyer.\n",
      "\n",
      "These distinctions are common in municipal recreation programs as a way to prioritize and manage resources for the local community while still offering access to a broader audience.\n"
     ]
    }
   ],
   "source": [
    "print(msg.content)"
   ]
  },
  {
   "cell_type": "code",
   "execution_count": 52,
   "metadata": {},
   "outputs": [
    {
     "name": "stdout",
     "output_type": "stream",
     "text": [
      "The image is a promotional poster for the \"Town of South Windsor Parks and Rec\" for the Fall & Winter 2023/2024 season. At the top of the poster, the text is set against a vibrant red background which transitions to a green one as it mentions \"PARKS AND REC\". Below this section is a photograph of six young children standing behind a large, multicolored structure built from what appears to be large interlocking plastic bricks. The kids are smiling and seem to be enjoying themselves.\n",
      "\n",
      "The children are wearing casual clothing, with some in t-shirts that feature familiar characters or logos. Below the photograph, there's a section with a green and white logo for the South Windsor Parks and Recreation and a list titled \"NEW & UPCOMING\" which highlights important dates for registration and mentions new preschool classes and the return of a \"Haunted Torch Walk\".\n",
      "\n",
      "The overall design of the poster is colorful and appears to be aimed at a family audience, emphasizing community recreational activities and programs for residents of South Windsor.\n"
     ]
    }
   ],
   "source": [
    "chat = ChatOpenAI(model=\"gpt-4-vision-preview\",\n",
    "                  max_tokens=1024)\n",
    "\n",
    "msg = chat.invoke(\n",
    "    [\n",
    "        HumanMessage(\n",
    "            content=[\n",
    "                {\"type\": \"text\", \"text\" : \"Please give a summary of the image provided. Be descriptive.\"},\n",
    "                {\n",
    "                    \"type\": \"image_url\",\n",
    "                    \"image_url\": {\n",
    "                        \"url\": f\"data:image/jpeg;base64,{image_str}\"\n",
    "                    },\n",
    "                },\n",
    "            ]\n",
    "        )\n",
    "    ]\n",
    ")\n",
    "print(msg.content)"
   ]
  }
 ],
 "metadata": {
  "kernelspec": {
   "display_name": "my-python3-kernel-jupyter",
   "language": "python",
   "name": "my-python3-kernel-jupyter"
  },
  "language_info": {
   "codemirror_mode": {
    "name": "ipython",
    "version": 3
   },
   "file_extension": ".py",
   "mimetype": "text/x-python",
   "name": "python",
   "nbconvert_exporter": "python",
   "pygments_lexer": "ipython3",
   "version": "3.9.6"
  }
 },
 "nbformat": 4,
 "nbformat_minor": 2
}
