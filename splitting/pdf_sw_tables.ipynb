{
 "cells": [
  {
   "cell_type": "code",
   "execution_count": 1,
   "metadata": {},
   "outputs": [
    {
     "name": "stderr",
     "output_type": "stream",
     "text": [
      "/Users/dileepbarla/Library/Python/3.9/lib/python/site-packages/urllib3/__init__.py:35: NotOpenSSLWarning: urllib3 v2 only supports OpenSSL 1.1.1+, currently the 'ssl' module is compiled with 'LibreSSL 2.8.3'. See: https://github.com/urllib3/urllib3/issues/3020\n",
      "  warnings.warn(\n"
     ]
    }
   ],
   "source": [
    "import os\n",
    "# import unstructured\n",
    "from unstructured.partition.pdf import partition_pdf\n",
    "from unstructured.staging.base import elements_to_json"
   ]
  },
  {
   "cell_type": "markdown",
   "metadata": {},
   "source": [
    "Install poppler & tesseract and set path "
   ]
  },
  {
   "cell_type": "code",
   "execution_count": 2,
   "metadata": {},
   "outputs": [
    {
     "name": "stdout",
     "output_type": "stream",
     "text": [
      "/Library/Developer/CommandLineTools/usr/bin:/Users/dileepbarla/Library/Python/3.9/bin:/usr/local/bin:/System/Cryptexes/App/usr/bin:/usr/bin:/bin:/usr/sbin:/sbin:/var/run/com.apple.security.cryptexd/codex.system/bootstrap/usr/local/bin:/var/run/com.apple.security.cryptexd/codex.system/bootstrap/usr/bin:/var/run/com.apple.security.cryptexd/codex.system/bootstrap/usr/appleinternal/bin:/usr/local/bin:/System/Cryptexes/App/usr/bin:/usr/bin:/bin:/usr/sbin:/sbin:/var/run/com.apple.security.cryptexd/codex.system/bootstrap/usr/local/bin:/var/run/com.apple.security.cryptexd/codex.system/bootstrap/usr/bin:/var/run/com.apple.security.cryptexd/codex.system/bootstrap/usr/appleinternal/bin:/opt/homebrew/Cellar/tesseract/5.3.4_1/bin:/opt/homebrew/Cellar/poppler/24.04.0/bin\n"
     ]
    }
   ],
   "source": [
    "import os\n",
    "os.environ[\"PATH\"] = os.getenv('PATH') + ':' + '/opt/homebrew/Cellar/tesseract/5.3.4_1/bin' + ':' + '/opt/homebrew/Cellar/poppler/24.04.0/bin'\n",
    "print(os.getenv('PATH'))"
   ]
  },
  {
   "cell_type": "code",
   "execution_count": 3,
   "metadata": {},
   "outputs": [
    {
     "name": "stderr",
     "output_type": "stream",
     "text": [
      "Some weights of the model checkpoint at microsoft/table-transformer-structure-recognition were not used when initializing TableTransformerForObjectDetection: ['model.backbone.conv_encoder.model.layer2.0.downsample.1.num_batches_tracked', 'model.backbone.conv_encoder.model.layer3.0.downsample.1.num_batches_tracked', 'model.backbone.conv_encoder.model.layer4.0.downsample.1.num_batches_tracked']\n",
      "- This IS expected if you are initializing TableTransformerForObjectDetection from the checkpoint of a model trained on another task or with another architecture (e.g. initializing a BertForSequenceClassification model from a BertForPreTraining model).\n",
      "- This IS NOT expected if you are initializing TableTransformerForObjectDetection from the checkpoint of a model that you expect to be exactly identical (initializing a BertForSequenceClassification model from a BertForSequenceClassification model).\n"
     ]
    }
   ],
   "source": [
    "file_name = \"pdf_files/SW_school_report.pdf\"\n",
    "\n",
    "# Extracts the elements from the PDF\n",
    "elements = partition_pdf(\n",
    "    filename=file_name,\n",
    "\n",
    "    # Unstructured Helpers\n",
    "    strategy=\"hi_res\", \n",
    "    infer_table_structure=True, \n",
    "    model_name=\"yolox\"\n",
    ")"
   ]
  },
  {
   "cell_type": "code",
   "execution_count": 4,
   "metadata": {},
   "outputs": [
    {
     "name": "stdout",
     "output_type": "stream",
     "text": [
      "[<unstructured.documents.elements.Image object at 0x378751130>, <unstructured.documents.elements.Title object at 0x34facb3a0>, <unstructured.documents.elements.NarrativeText object at 0x378839250>, <unstructured.documents.elements.Title object at 0x378839b50>, <unstructured.documents.elements.Title object at 0x378839100>, <unstructured.documents.elements.Title object at 0x378751280>, <unstructured.documents.elements.Table object at 0x378839e50>, <unstructured.documents.elements.Text object at 0x37843c820>, <unstructured.documents.elements.NarrativeText object at 0x378839700>, <unstructured.documents.elements.NarrativeText object at 0x37843cd00>, <unstructured.documents.elements.Table object at 0x3780c7100>, <unstructured.documents.elements.Text object at 0x37843c5e0>, <unstructured.documents.elements.Text object at 0x37843cf40>, <unstructured.documents.elements.Text object at 0x37843cd30>, <unstructured.documents.elements.Text object at 0x37843c0a0>, <unstructured.documents.elements.Title object at 0x17337f0a0>, <unstructured.documents.elements.Title object at 0x37843c190>, <unstructured.documents.elements.NarrativeText object at 0x17337dfd0>, <unstructured.documents.elements.NarrativeText object at 0x17337d040>, <unstructured.documents.elements.NarrativeText object at 0x17337db20>, <unstructured.documents.elements.NarrativeText object at 0x378082340>, <unstructured.documents.elements.Title object at 0x37843ca30>, <unstructured.documents.elements.Table object at 0x378839e80>, <unstructured.documents.elements.NarrativeText object at 0x17337fa60>, <unstructured.documents.elements.Title object at 0x17337fd90>, <unstructured.documents.elements.Table object at 0x17337f6d0>, <unstructured.documents.elements.Text object at 0x37843c6d0>, <unstructured.documents.elements.Title object at 0x378082460>, <unstructured.documents.elements.Title object at 0x34facb6d0>, <unstructured.documents.elements.NarrativeText object at 0x34facbe50>, <unstructured.documents.elements.NarrativeText object at 0x34facbb50>, <unstructured.documents.elements.NarrativeText object at 0x34facbb20>, <unstructured.documents.elements.Title object at 0x34facb8e0>, <unstructured.documents.elements.Title object at 0x34facb2b0>, <unstructured.documents.elements.Title object at 0x378722640>, <unstructured.documents.elements.Title object at 0x378722790>, <unstructured.documents.elements.Title object at 0x3787220d0>, <unstructured.documents.elements.Title object at 0x378722100>, <unstructured.documents.elements.Table object at 0x378722580>, <unstructured.documents.elements.Title object at 0x37843c970>, <unstructured.documents.elements.Table object at 0x378722880>, <unstructured.documents.elements.NarrativeText object at 0x37843c100>, <unstructured.documents.elements.Title object at 0x37843c640>, <unstructured.documents.elements.Text object at 0x37843c910>, <unstructured.documents.elements.Text object at 0x37843c670>, <unstructured.documents.elements.Text object at 0x37843c8e0>, <unstructured.documents.elements.Title object at 0x37872f670>, <unstructured.documents.elements.Title object at 0x37843c9d0>, <unstructured.documents.elements.Title object at 0x37843cbb0>, <unstructured.documents.elements.Title object at 0x37843cf70>, <unstructured.documents.elements.Title object at 0x37843ce20>, <unstructured.documents.elements.Title object at 0x37843cc10>, <unstructured.documents.elements.Text object at 0x37843cdc0>, <unstructured.documents.elements.Text object at 0x3781946d0>, <unstructured.documents.elements.Title object at 0x3787366d0>, <unstructured.documents.elements.Title object at 0x378736760>, <unstructured.documents.elements.Table object at 0x3787363a0>, <unstructured.documents.elements.Title object at 0x3787368b0>, <unstructured.documents.elements.Table object at 0x378736400>, <unstructured.documents.elements.NarrativeText object at 0x378194640>, <unstructured.documents.elements.Title object at 0x3781946a0>, <unstructured.documents.elements.Table object at 0x3786f8790>, <unstructured.documents.elements.Title object at 0x378736fd0>, <unstructured.documents.elements.Table object at 0x3786f8730>, <unstructured.documents.elements.NarrativeText object at 0x3786f8940>, <unstructured.documents.elements.Title object at 0x3786f8d60>, <unstructured.documents.elements.Title object at 0x3786f8df0>, <unstructured.documents.elements.Title object at 0x3786f8370>, <unstructured.documents.elements.Title object at 0x3786f8eb0>, <unstructured.documents.elements.Title object at 0x3786c67f0>, <unstructured.documents.elements.NarrativeText object at 0x3786c6d60>, <unstructured.documents.elements.Title object at 0x378194940>, <unstructured.documents.elements.Title object at 0x378194850>, <unstructured.documents.elements.Title object at 0x3781947f0>, <unstructured.documents.elements.Table object at 0x3786c60d0>, <unstructured.documents.elements.Title object at 0x3786c6970>, <unstructured.documents.elements.Table object at 0x3786ceeb0>, <unstructured.documents.elements.Title object at 0x3786c68b0>, <unstructured.documents.elements.Table object at 0x3786c6bb0>, <unstructured.documents.elements.NarrativeText object at 0x3786cea90>, <unstructured.documents.elements.NarrativeText object at 0x3786cefd0>, <unstructured.documents.elements.Title object at 0x3786cecd0>, <unstructured.documents.elements.Title object at 0x3786ced30>, <unstructured.documents.elements.Title object at 0x3786ce730>, <unstructured.documents.elements.Title object at 0x3786ceaf0>, <unstructured.documents.elements.Text object at 0x3781948e0>, <unstructured.documents.elements.Table object at 0x378742040>, <unstructured.documents.elements.NarrativeText object at 0x378194ac0>, <unstructured.documents.elements.Title object at 0x378194670>, <unstructured.documents.elements.Table object at 0x378742af0>, <unstructured.documents.elements.Title object at 0x3787425b0>, <unstructured.documents.elements.Table object at 0x3787423d0>, <unstructured.documents.elements.NarrativeText object at 0x378194790>, <unstructured.documents.elements.NarrativeText object at 0x378194a60>, <unstructured.documents.elements.NarrativeText object at 0x378742760>, <unstructured.documents.elements.NarrativeText object at 0x3787429a0>, <unstructured.documents.elements.NarrativeText object at 0x3787708b0>, <unstructured.documents.elements.Title object at 0x378770940>, <unstructured.documents.elements.Title object at 0x3787709d0>, <unstructured.documents.elements.Title object at 0x378770220>, <unstructured.documents.elements.Title object at 0x378770250>, <unstructured.documents.elements.NarrativeText object at 0x378770490>, <unstructured.documents.elements.Table object at 0x3787702b0>, <unstructured.documents.elements.Text object at 0x378194b50>, <unstructured.documents.elements.Text object at 0x378194b20>, <unstructured.documents.elements.Text object at 0x378194af0>, <unstructured.documents.elements.Title object at 0x378194e80>, <unstructured.documents.elements.Title object at 0x378194e50>, <unstructured.documents.elements.Title object at 0x378194220>, <unstructured.documents.elements.Title object at 0x378194ee0>, <unstructured.documents.elements.Title object at 0x378194460>, <unstructured.documents.elements.Title object at 0x3781941c0>, <unstructured.documents.elements.Title object at 0x378194070>, <unstructured.documents.elements.Title object at 0x378194130>, <unstructured.documents.elements.Text object at 0x3781943a0>, <unstructured.documents.elements.NarrativeText object at 0x37841c220>, <unstructured.documents.elements.Table object at 0x37841c9a0>, <unstructured.documents.elements.NarrativeText object at 0x3781942e0>, <unstructured.documents.elements.Table object at 0x37841cdc0>, <unstructured.documents.elements.Title object at 0x378194490>, <unstructured.documents.elements.Title object at 0x378194be0>, <unstructured.documents.elements.Title object at 0x378194580>, <unstructured.documents.elements.NarrativeText object at 0x3781944f0>, <unstructured.documents.elements.Title object at 0x37843c370>, <unstructured.documents.elements.Title object at 0x37843c7f0>]\n"
     ]
    }
   ],
   "source": [
    "print(elements)"
   ]
  },
  {
   "cell_type": "code",
   "execution_count": 5,
   "metadata": {},
   "outputs": [],
   "source": [
    "elements_to_json(elements, \"SW_school_report.json\")"
   ]
  },
  {
   "cell_type": "markdown",
   "metadata": {},
   "source": [
    "Retrieve tables from json"
   ]
  },
  {
   "cell_type": "code",
   "execution_count": 7,
   "metadata": {},
   "outputs": [],
   "source": [
    "import json\n",
    "def process_json_file(input_filename):\n",
    "    \n",
    "# Read the JSON file\n",
    "    with open(input_filename, 'r') as file:\n",
    "        data = json.load(file)\n",
    "\n",
    "# Iterate over the JSON data and extract required table elements\n",
    "    extracted_elements = []\n",
    "    for entry in data:\n",
    "        if entry[\"type\"] == \"Table\":\n",
    "            extracted_elements.append(entry[\"metadata\"][\"text_as_html\"])\n",
    "\n",
    "# Write the extracted elements to the output file\n",
    "    with open(\"SW_school_report_tbl.txt\", 'w') as output_file:\n",
    "        for element in extracted_elements:\n",
    "            output_file.write(element + \"\\n\\n\") # Adding two newlines for separation    "
   ]
  },
  {
   "cell_type": "code",
   "execution_count": 8,
   "metadata": {},
   "outputs": [],
   "source": [
    "process_json_file(\"SW_school_report.json\")"
   ]
  },
  {
   "cell_type": "code",
   "execution_count": 9,
   "metadata": {},
   "outputs": [],
   "source": [
    "from langchain.document_loaders import TextLoader\n",
    "loader = TextLoader(\"SW_school_report_tbl.txt\")\n",
    "documents = loader.load()"
   ]
  },
  {
   "cell_type": "code",
   "execution_count": 10,
   "metadata": {},
   "outputs": [
    {
     "name": "stdout",
     "output_type": "stream",
     "text": [
      "[Document(page_content='<table><tr><td>Grade Range</td><td>9-12</td></tr><tr><td>Enrollment</td><td>1,325</td></tr><tr><td colspan=\"2\">Per Pupil Expenditures’ $17,134</td></tr><tr><td>Total Expenditures’</td><td>$21,965,866</td></tr></table>\\n\\n<table><tr><td colspan=\"2\">Contents</td></tr><tr><td colspan=\"2\">Students.</td></tr><tr><td>EGUCatOrSmescssssesresersesrrersrssrertesrrersesersstrsrrsesereressesrssesestts</td><td>2</td></tr><tr><td colspan=\"2\">Instruction ANd RESOUMCES...........ssscssessssesesssscsessseceessees 2</td></tr><tr><td>Performance and Accountability.</td><td></td></tr></table>\\n\\n<table><thead><th></th><th colspan=\"2\">School</th><th rowspan=\"2\">District Percent of Total (%)</th></thead><thead><th></th><th>Count</th><th>Percent of Total (%)</th><th></th></thead><tr><td>Female</td><td>*</td><td>*</td><td>*</td></tr><tr><td>Male</td><td>666</td><td>50.1</td><td>51.2</td></tr><tr><td>Non-Binary</td><td>*</td><td>*</td><td>*</td></tr><tr><td>American Indian or Alaska Native</td><td>*</td><td>*</td><td>*</td></tr><tr><td>Asian</td><td>335</td><td>25.2</td><td>30.8</td></tr><tr><td>Black or African American</td><td>94</td><td>7.1</td><td>6.0</td></tr><tr><td>Hispanic or Latino of any race</td><td>123</td><td>9.3</td><td>10.5</td></tr><tr><td>Native Hawaiian or Other Pacific Islander</td><td>*</td><td>*</td><td>*</td></tr><tr><td>Two or More Races</td><td>74</td><td>5.6</td><td>48</td></tr><tr><td>White</td><td>700</td><td>52.7</td><td>47.8</td></tr><tr><td>English Learners/Multilingual Learners</td><td>25</td><td>1.9</td><td>8.8</td></tr><tr><td>Eligible for Free or Reduced-Price Meals</td><td>225</td><td>16.9</td><td>16.9</td></tr><tr><td>Students with Disabilities?</td><td>177</td><td>13.3</td><td>13.2</td></tr></table>\\n\\n<table><thead><th></th><th>Chronic Count</th><th>Absenteeism? Rate (%)</th><th>Count</th><th>Suspension/Expulsion* Rate (%)</th></thead><tr><td>Female</td><td>80</td><td>12.1</td><td>13</td><td>1.9</td></tr><tr><td>Male</td><td>*</td><td>*</td><td>28</td><td>4.1</td></tr><tr><td>Non-Binary</td><td>*</td><td>*</td><td>0</td><td>*</td></tr><tr><td>Black or African American</td><td>18</td><td>20.2</td><td>11</td><td>11.6</td></tr><tr><td>Hispanic or Latino of any race</td><td>19</td><td>14.5</td><td>*</td><td>*</td></tr><tr><td>White</td><td>77</td><td>11.1</td><td>15</td><td>2.1</td></tr><tr><td>English Learners/Multilingual Learners</td><td>*</td><td>*</td><td>*</td><td>*</td></tr><tr><td>Eligible for Free or Reduced-Price Meals</td><td>55</td><td>24.8</td><td>18</td><td>7.3</td></tr><tr><td>Students with Disabilities</td><td>39</td><td>22.0</td><td>20</td><td>10.4</td></tr><tr><td>School</td><td>138</td><td>10.4</td><td>41</td><td>3.0</td></tr><tr><td>District</td><td></td><td>10.4</td><td></td><td>1.7</td></tr></table>\\n\\n<table><thead><th></th><th colspan=\"2\">School</th><th rowspan=\"2\">District | Percent of Total (%)</th></thead><thead><th></th><th>Count</th><th>Percent of Total (%)</th><th></th></thead><tr><td>American Indian or Alaska Native</td><td>0</td><td>0.0</td><td>0.0</td></tr><tr><td>Asian</td><td>6</td><td>4.3</td><td>3.7</td></tr><tr><td>Black or African American</td><td>4</td><td>2.9</td><td>2.9</td></tr><tr><td>Hispanic or Latino of any race</td><td>8</td><td>5.8</td><td>3.9</td></tr><tr><td>Native Hawaiian or Other Pacific Islander</td><td>ie)</td><td>0.0</td><td>0.0</td></tr><tr><td>Two or More Races</td><td>0</td><td>0.0</td><td>0.2</td></tr><tr><td>White</td><td>121</td><td>87.1</td><td>89.3</td></tr></table>\\n\\n<table><thead><th colspan=\"2\">General Education</th></thead><thead><th>Paraprofessional Instructional Assistants</th><th>0.5</th></thead><tr><td colspan=\"2\">Special Education</td></tr><tr><td>Teachers and Instructors</td><td>14.7</td></tr><tr><td>Paraprofessional Instructional Assistants</td><td>15.0</td></tr><tr><td colspan=\"2\">Administrators, Coordinators and Department Chairs</td></tr><tr><td>School Level</td><td>44</td></tr><tr><td colspan=\"2\">Library/Media</td></tr><tr><td>Specialists (Certified)</td><td>1.0</td></tr><tr><td>Support Staff</td><td>2.0</td></tr><tr><td>Instructional Specialists Who Support Teachers</td><td>2.0</td></tr><tr><td>Counselors, Social Workers and School Psychologists</td><td>10.6</td></tr><tr><td>School Nurses</td><td>2.0</td></tr><tr><td>Other Staff Providing Non-Instructional Services/Support</td><td>41.2</td></tr></table>\\n\\n<table><thead><th></th><th>Total (S$)</th><th>Per Pupil ($)</th></thead><tr><td>Instruction</td><td>$14,341,863</td><td>$11,187</td></tr><tr><td>Support Services - Students</td><td>$2,796,770</td><td>$2,182</td></tr><tr><td>Improvement of Instruction</td><td>$44,631</td><td>$35</td></tr><tr><td>Library and Media Services</td><td>$205,348</td><td>$160</td></tr><tr><td>Support Services - Instruction</td><td>$504,262</td><td>$393</td></tr><tr><td>Support Services - School-Based</td><td>$1,929,616</td><td>$1,505</td></tr><tr><td>Operation and Maintenance of Plant</td><td>$2,116,882</td><td>$1,651</td></tr><tr><td>Transportation Other Than to/From</td><td>$26,494</td><td>$21</td></tr><tr><td>Enterprise Operations</td><td>:</td><td>.</td></tr><tr><td>Total</td><td>$21,965,866</td><td>$17,134</td></tr></table>\\n\\n<table><thead><th></th><th>Count</th><th>Rate (%)</th></thead><tr><td>Autism</td><td>13</td><td>*</td></tr><tr><td>Emotional Disability</td><td>9</td><td>*</td></tr><tr><td>Intellectual Disability</td><td>0</td><td>0.0</td></tr><tr><td>Learning Disability</td><td>58</td><td>86.6</td></tr><tr><td>Other Health Impairment</td><td>54</td><td>98.2</td></tr><tr><td>Other Disabilities</td><td>*</td><td>*</td></tr><tr><td>Speech/Language Impairment</td><td>*</td><td>*</td></tr><tr><td>School</td><td>142</td><td>80.2</td></tr><tr><td>District</td><td></td><td>78.1</td></tr></table>\\n\\n<table><thead><th></th><th colspan=\"2\">11th</th><th colspan=\"2\">12th</th></thead><thead><th></th><th>Count</th><th>Rate(%)</th><th>| Count</th><th>Rate (%)</th></thead><tr><td>Black or African American</td><td>*</td><td>*</td><td>26</td><td>100.0</td></tr><tr><td>Hispanic or Latino of any race</td><td>23</td><td>79.3</td><td>27</td><td>96.4</td></tr><tr><td>White</td><td>179</td><td>93.2</td><td>179</td><td>100.0</td></tr><tr><td>English Learners/Multilingual Learners</td><td>*</td><td>*</td><td>*</td><td>*</td></tr><tr><td>Eligible for Free or Reduced-Price Meals</td><td>44</td><td>91.7</td><td>53</td><td>98.1</td></tr><tr><td>Students with Disabilities</td><td>37</td><td>90.2</td><td>40</td><td>100.0</td></tr><tr><td>School</td><td>288</td><td>92.6</td><td>328</td><td>99.7</td></tr><tr><td>District</td><td></td><td>92.4</td><td></td><td>99.1</td></tr></table>\\n\\n<table><thead><th>Days of Instruction</th><th>180</th></thead><tr><td colspan=\"2\">Hours of Instruction Per Year</td></tr><tr><td>Grades 1-12 and Full-Day Kindergarten</td><td>959</td></tr><tr><td>Half/Extended Day Kindergarten</td><td></td></tr><tr><td colspan=\"2\">School Hours for Students</td></tr><tr><td>Start Time</td><td>07:25 AM</td></tr><tr><td>End Time</td><td>02:00 PM</td></tr></table>\\n\\n<table><thead><th></th><th>Count</th><th>SPI</th><th>Count</th><th>SPI</th><th>Count</th><th>SPI</th></thead><tr><td>American Indian or Alaska Native</td><td>ie)</td><td></td><td>(0)</td><td></td><td>ie)</td><td></td></tr><tr><td>Asian</td><td>62</td><td>76.3</td><td>62</td><td>85.5</td><td>62</td><td>89.0</td></tr><tr><td>Black or African American</td><td>*</td><td>*</td><td>*</td><td>*</td><td>*</td><td>*</td></tr><tr><td>Hispanic or Latino of any race</td><td>27</td><td>43.9</td><td>27</td><td>47.0</td><td>27</td><td>55.8</td></tr><tr><td>Native Hawaiian or Other Pacific Islander</td><td>*</td><td>*</td><td>*</td><td>*</td><td>*</td><td>*</td></tr><tr><td>Two or More Races</td><td>14</td><td>*</td><td>14</td><td>*</td><td>14</td><td>*</td></tr><tr><td>White</td><td>188</td><td>59.2</td><td>188</td><td>60.4</td><td>190</td><td>73.4</td></tr><tr><td>English Learners/Multilingual Learners</td><td>8</td><td>*</td><td>8</td><td>*</td><td>8</td><td>*</td></tr><tr><td>Non-English Learners/Non-Multilingual Learners</td><td>295</td><td>61.4</td><td>295</td><td>64.3</td><td>297</td><td>75.0</td></tr><tr><td>Eligible for Free or Reduced-Price Meals</td><td>47</td><td>49.4</td><td>47</td><td>47.9</td><td>47</td><td>61.0</td></tr><tr><td>Not Eligible for Free or Reduced-Price Meals</td><td>256</td><td>63.0</td><td>256</td><td>66.8</td><td>258</td><td>76.9</td></tr><tr><td>Students with Disabilities</td><td>39</td><td>39.3</td><td>39</td><td>40.9</td><td>40</td><td>52.4</td></tr><tr><td>Students without Disabilities</td><td>264</td><td>64.1</td><td>264</td><td>67.3</td><td>265</td><td>77.8</td></tr><tr><td>High Needs</td><td>78</td><td>46.1</td><td>78</td><td>46.2</td><td>79</td><td>59.5</td></tr><tr><td>Non-High Needs</td><td>225</td><td>66.0</td><td>225</td><td>70.0</td><td>226</td><td>79.7</td></tr><tr><td>School</td><td>303</td><td>60.9</td><td>303</td><td>63.9</td><td>305</td><td>74.4</td></tr></table>\\n\\n<table><thead><th>READING</th><th>NAEP Grade4</th><th>2022 Grade8</th><th>NAEP 2013 Grade 12</th></thead><tr><td>Connecticut</td><td>35</td><td>35</td><td>50</td></tr><tr><td>National Public</td><td>32</td><td>29</td><td>36</td></tr><tr><td>MATH</td><td>Grade 4</td><td>Grade8</td><td>Grade 12</td></tr><tr><td>Connecticut</td><td>37</td><td>30</td><td>32</td></tr><tr><td>National Public</td><td>35</td><td>26</td><td>25</td></tr></table>\\n\\n<table><thead><th></th><th>Percent</th><th colspan=\"3\">of Students by Grade? (%)</th><th colspan=\"2\">All Tested Grades</th></thead><thead><th></th><th>4</th><th>6</th><th>8</th><th>HS</th><th>Count</th><th>Rate (%)</th></thead><tr><td>Sit &amp; Reach</td><td></td><td></td><td></td><td>83.8</td><td>308</td><td>83.8</td></tr><tr><td>Curl Up</td><td></td><td></td><td></td><td>96.4</td><td>309</td><td>96.4</td></tr><tr><td>Push Up</td><td></td><td></td><td></td><td>89.3</td><td>308</td><td>89.3</td></tr><tr><td>Mile Run/PACER</td><td></td><td></td><td></td><td>59.9</td><td>297</td><td>59.9</td></tr><tr><td>AllTests-School</td><td></td><td></td><td></td><td>49.7</td><td>294</td><td>49.7</td></tr><tr><td>All Tests - District</td><td>55.1</td><td>65.9</td><td>61.1</td><td>49.2</td><td></td><td>58.2</td></tr></table>\\n\\n<table><thead><th></th><th>Cohort Count?</th><th>Rate (%)</th></thead><tr><td>Black or African American</td><td>23</td><td>100.0</td></tr><tr><td>Hispanic or Latino of any race</td><td>28</td><td>96.4</td></tr><tr><td>White</td><td>179</td><td>97.8</td></tr><tr><td>English Learners/Multilingual Learners</td><td>*</td><td>*</td></tr><tr><td>Eligible for Free or Reduced-Price Meals</td><td>76</td><td>96.1</td></tr><tr><td>Students with Disabilities</td><td>46</td><td>91.3</td></tr><tr><td>School</td><td>302</td><td>98.3</td></tr><tr><td>District</td><td></td><td>96.8</td></tr></table>\\n\\n<table><thead><th></th><th rowspan=\"2\">Participation* Rate (%)</th><th colspan=\"2\">Meeting Benchmark</th></thead><thead><th></th><th></th><th>Count</th><th>Rate (%)</th></thead><tr><td>Female</td><td>*</td><td>*</td><td>*</td></tr><tr><td>Male</td><td>98.8</td><td>216</td><td>66.5</td></tr><tr><td>Non-Binary</td><td>*</td><td>*</td><td>*</td></tr><tr><td>Black or African American</td><td>97.4</td><td>*</td><td>*</td></tr><tr><td>Hispanic or Latino</td><td>96.5</td><td>22</td><td>38.6</td></tr><tr><td>White</td><td>98.9</td><td>240</td><td>64.7</td></tr><tr><td>English Learners/Multilingual Learners</td><td>*</td><td>*</td><td>*</td></tr><tr><td>Eligible for Free or Reduced-Price Meals</td><td>97.1</td><td>43</td><td>42.2</td></tr><tr><td>Students with Disabilities</td><td>93.8</td><td>16</td><td>19.8</td></tr><tr><td>School</td><td>98.8</td><td>431</td><td>67.3</td></tr><tr><td>District</td><td>97.4</td><td></td><td>65.0</td></tr></table>\\n\\n<table><thead><th></th><th rowspan=\"3\">Class of 2022 Entrance® Rate (%)</th><th rowspan=\"3\">Class of 2021 Persistence® Rate (%)</th></thead><thead><th></th><th></th><th></th></thead><thead><th></th><th></th><th></th></thead><tr><td>Female</td><td>87.0</td><td>95.8</td></tr><tr><td>Male</td><td>79.7</td><td>90.3</td></tr><tr><td>Non-Binary</td><td></td><td></td></tr><tr><td>Black or African American</td><td>86.4</td><td>*</td></tr><tr><td>Hispanic any White</td><td>83.1</td><td>90.8</td></tr><tr><td>English Learners/ Multilingual Learners</td><td>*</td><td>*</td></tr><tr><td>Eligible for Free or Reduced-Price Meals</td><td>67.1</td><td>87.0</td></tr><tr><td>Students with Disabilities</td><td>51.3</td><td>73.9</td></tr><tr><td>School</td><td>83.3</td><td>93.0</td></tr><tr><td>District</td><td>81.3</td><td>93.1</td></tr></table>\\n\\n<table><thead><th></th><th>Indicator</th><th>Index/Rate</th><th>Target</th><th>Points Earned</th><th>Max Points</th><th>% Points Earned</th><th>State Average Index/Rate</th></thead><tr><td rowspan=\"2\">_ =-LA Performance Index</td><td>All Students</td><td>60.9</td><td>75</td><td>121.8</td><td>150</td><td>81.2</td><td>63.9</td></tr><tr><td></td><td>. High Needs Students</td><td>46.1</td><td>75</td><td>92.2</td><td>150</td><td>61.5</td><td>54.1</td></tr><tr><td rowspan=\"2\">Vath Performance Index</td><td>All Students</td><td>63.9</td><td>75</td><td>127.8</td><td>150</td><td>85.2</td><td>59.7</td></tr><tr><td></td><td>. High Needs Students</td><td>46.2</td><td>75</td><td>92.4</td><td>150</td><td>61.6</td><td>48.9</td></tr><tr><td rowspan=\"2\">. science Performance Index</td><td>All Students</td><td>74.4</td><td>75</td><td>99.2</td><td>100</td><td>99.2</td><td>61.6</td></tr><tr><td></td><td>. High Needs Students</td><td>59.5</td><td>75</td><td>79.3</td><td>100</td><td>79.3</td><td>51.1</td></tr><tr><td rowspan=\"2\">_ . =LA Academic Growth</td><td></td><td>All Students</td><td>:</td><td>100%</td><td>.</td><td>:</td><td>.</td><td>57.2%</td></tr><tr><td>. High Needs Students</td><td>:</td><td>100%</td><td>:</td><td>:</td><td>°</td><td>52.5%</td></tr><tr><td rowspan=\"2\">. Vath Academic Growth</td><td>All Students</td><td>:</td><td>100%</td><td>.</td><td>:</td><td>.</td><td>61.8%</td></tr><tr><td></td><td>. High Needs Students</td><td>:</td><td>100%</td><td>:</td><td>.</td><td>°</td><td>55.5%</td></tr><tr><td>&gt;rogress Toward English</td><td>Literacy</td><td>:</td><td>100%</td><td>:</td><td>.</td><td>°</td><td>55.3%</td></tr><tr><td>-roficiency</td><td>Oral</td><td>:</td><td>100%</td><td>:</td><td>:</td><td>°</td><td>56.1%</td></tr><tr><td rowspan=\"2\">, . . chronic Absenteeism</td><td>All Students</td><td>10.4%</td><td>&lt;=5%</td><td>39.2</td><td>50</td><td>78.5</td><td>20.0%</td></tr><tr><td></td><td>. High Needs Students</td><td>21.6%</td><td>&lt;=5%</td><td>16.8</td><td>50</td><td>33.6</td><td>28.5%</td></tr><tr><td rowspan=\"2\">. reparation for CCR</td><td></td><td>% Taking Courses</td><td>96.3%</td><td>75%</td><td>50.0</td><td>50</td><td>100.0</td><td>90.4%</td></tr><tr><td>. % Meeting Benchmark</td><td>67.3%</td><td>75%</td><td>44.9</td><td>50</td><td>89.8</td><td>44.3%</td></tr><tr><td colspan=\"2\">On-track to High School Graduation</td><td>96.5%</td><td>94%</td><td>50.0</td><td>50</td><td>100.0</td><td>82.4%</td></tr><tr><td colspan=\"2\">1-year Graduation All Students (2022 Cohort)</td><td>98.3%</td><td>94%</td><td>100.0</td><td>100</td><td>100.0</td><td>88.9%</td></tr><tr><td colspan=\"2\">5-year Graduation - High Needs Students (2020 Cohort)</td><td>96.2%</td><td>94%</td><td>100.0</td><td>100</td><td>100.0</td><td>85.6%</td></tr><tr><td colspan=\"2\">-ostsecondary Entrance (Class of 2022)</td><td>83.3%</td><td>75%</td><td>100.0</td><td>100</td><td>100.0</td><td>66.1%</td></tr><tr><td colspan=\"2\">&gt;hysical Fitness (estimated part rate) and (fitness rate)</td><td>93.2% | 49.7%</td><td>75%</td><td>33.1</td><td>50</td><td>66.2</td><td>93.0% | 45.5%</td></tr><tr><td colspan=\"2\">Arts Access</td><td>66.8%</td><td>60%</td><td>50.0</td><td>50</td><td>100.0</td><td>54.5%</td></tr></table>\\n\\n<table><thead><th>Gap Indicators</th><th>Non-High Needs Rate!</th><th>High Needs Rate</th><th>Size of Gap</th><th>State Gap Mean +1 Stdev?</th><th>Is Gap an Outlier?”</th></thead><tr><td>Achievement Gap Size Outlier?</td><td></td><td></td><td></td><td></td><td>Y</td></tr><tr><td>ELA Performance Index Gap</td><td>66.0</td><td>46.1</td><td>20.0</td><td>17.0</td><td></td></tr><tr><td>Math Performance Index Gap</td><td>70.0</td><td>46.2</td><td>23.8</td><td>18.6</td><td></td></tr><tr><td>Science Performance Index Gap</td><td>75.0</td><td>59.5</td><td>15.5</td><td>18.6</td><td></td></tr><tr><td>Graduation Rate Gap</td><td>94.0%</td><td>96.2%</td><td>0.0%</td><td>5.4%</td><td>N</td></tr></table>\\n\\n<table><thead><th></th><th>Subject/Student Group</th><th>Participation Rate (%)°</th></thead><tr><td rowspan=\"2\">ELA</td><td>All Students</td><td>99.4</td></tr><tr><td></td><td>High Needs Students</td><td>98.8</td></tr><tr><td rowspan=\"2\">Math</td><td>All Students</td><td>99.4</td></tr><tr><td></td><td>High Needs Students</td><td>98.8</td></tr><tr><td rowspan=\"2\">Science</td><td>All Students</td><td>99.7</td></tr><tr><td></td><td>High Needs Students</td><td>98.8</td></tr></table>\\n\\n', metadata={'source': 'SW_school_report_tbl.txt'})]\n"
     ]
    }
   ],
   "source": [
    "print(documents)"
   ]
  },
  {
   "cell_type": "code",
   "execution_count": 11,
   "metadata": {},
   "outputs": [
    {
     "name": "stderr",
     "output_type": "stream",
     "text": [
      "Created a chunk of size 1157, which is longer than the specified 1000\n",
      "Created a chunk of size 1035, which is longer than the specified 1000\n",
      "Created a chunk of size 1929, which is longer than the specified 1000\n",
      "Created a chunk of size 3232, which is longer than the specified 1000\n"
     ]
    }
   ],
   "source": [
    "from langchain.text_splitter import CharacterTextSplitter\n",
    "# split it into chunks\n",
    "text_splitter = CharacterTextSplitter(chunk_size=1000, chunk_overlap=200)\n",
    "docs = text_splitter.split_documents(documents)"
   ]
  },
  {
   "cell_type": "code",
   "execution_count": 12,
   "metadata": {},
   "outputs": [
    {
     "name": "stderr",
     "output_type": "stream",
     "text": [
      "/Users/dileepbarla/Library/Python/3.9/lib/python/site-packages/langchain_core/_api/deprecation.py:119: LangChainDeprecationWarning: The class `OpenAIEmbeddings` was deprecated in LangChain 0.0.9 and will be removed in 0.2.0. An updated version of the class exists in the langchain-openai package and should be used instead. To use it run `pip install -U langchain-openai` and import as `from langchain_openai import OpenAIEmbeddings`.\n",
      "  warn_deprecated(\n"
     ]
    }
   ],
   "source": [
    "from dotenv import load_dotenv\n",
    "load_dotenv()\n",
    "from langchain.embeddings.openai import OpenAIEmbeddings\n",
    "embeddings = OpenAIEmbeddings()"
   ]
  },
  {
   "cell_type": "code",
   "execution_count": 13,
   "metadata": {},
   "outputs": [],
   "source": [
    "import chromadb\n",
    "from langchain_chroma import Chroma\n",
    "\n",
    "\n",
    "db = Chroma.from_documents(docs, embeddings)\n"
   ]
  },
  {
   "cell_type": "code",
   "execution_count": 14,
   "metadata": {},
   "outputs": [
    {
     "name": "stderr",
     "output_type": "stream",
     "text": [
      "/Users/dileepbarla/Library/Python/3.9/lib/python/site-packages/langchain_core/_api/deprecation.py:119: LangChainDeprecationWarning: The class `ChatOpenAI` was deprecated in LangChain 0.0.10 and will be removed in 0.2.0. An updated version of the class exists in the langchain-openai package and should be used instead. To use it run `pip install -U langchain-openai` and import as `from langchain_openai import ChatOpenAI`.\n",
      "  warn_deprecated(\n"
     ]
    }
   ],
   "source": [
    "from langchain.chat_models import ChatOpenAI\n",
    "from langchain.chains import RetrievalQA\n",
    "\n",
    "# Initialize your model and retriever\n",
    "llm = ChatOpenAI(model_name=\"gpt-3.5-turbo\", temperature=0)\n",
    "qa_chain = RetrievalQA.from_chain_type(llm, retriever=db.as_retriever())"
   ]
  },
  {
   "cell_type": "code",
   "execution_count": 15,
   "metadata": {},
   "outputs": [],
   "source": [
    "# List of questions\n",
    "questions = [\n",
    "\"How many students enrolled in October 1, 2022 Enrollment?\",\n",
    "\"How many Asian students enrolled in October 1, 2022 Enrollment?\",\n",
    "\"How many female students have Chronic Absenteeism and Suspension/Expulsion?\",\n",
    "\"What's Shareholder's net income?\"\n",
    "]"
   ]
  },
  {
   "cell_type": "code",
   "execution_count": 18,
   "metadata": {},
   "outputs": [
    {
     "name": "stderr",
     "output_type": "stream",
     "text": [
      "/Users/dileepbarla/Library/Python/3.9/lib/python/site-packages/langchain_core/_api/deprecation.py:119: LangChainDeprecationWarning: The method `Chain.__call__` was deprecated in langchain 0.1.0 and will be removed in 0.2.0. Use invoke instead.\n",
      "  warn_deprecated(\n"
     ]
    }
   ],
   "source": [
    "# Store responses in output_list\n",
    "output_list = []\n",
    "\n",
    "for query in questions:\n",
    "    response = qa_chain({\"query\": query})\n",
    "    output_list.append(response)"
   ]
  },
  {
   "cell_type": "code",
   "execution_count": 19,
   "metadata": {},
   "outputs": [
    {
     "name": "stdout",
     "output_type": "stream",
     "text": [
      "[   {   'query': 'How many students enrolled in October 1, 2022 Enrollment?',\n",
      "        'result': 'The number of students enrolled on October 1, 2022, is '\n",
      "                  '1,325.'},\n",
      "    {   'query': 'How many Asian students enrolled in October 1, 2022 '\n",
      "                 'Enrollment?',\n",
      "        'result': 'Based on the provided data, there were 335 Asian students '\n",
      "                  'enrolled in the October 1, 2022 Enrollment.'},\n",
      "    {   'query': 'How many female students have Chronic Absenteeism and '\n",
      "                 'Suspension/Expulsion?',\n",
      "        'result': 'In the provided data, there are 80 female students with '\n",
      "                  'Chronic Absenteeism and 13 female students with '\n",
      "                  'Suspension/Expulsion.'},\n",
      "    {   'query': \"What's Shareholder's net income?\",\n",
      "        'result': \"I don't have the specific information needed to calculate \"\n",
      "                  \"the Shareholder's net income based on the provided \"\n",
      "                  'context.'}]\n"
     ]
    }
   ],
   "source": [
    "\n",
    "import pprint\n",
    "\n",
    "# Use pprint to pretty print the output list\n",
    "pp = pprint.PrettyPrinter(indent=4)\n",
    "pp.pprint(output_list)"
   ]
  }
 ],
 "metadata": {
  "kernelspec": {
   "display_name": "my-python3-kernel-jupyter",
   "language": "python",
   "name": "my-python3-kernel-jupyter"
  },
  "language_info": {
   "codemirror_mode": {
    "name": "ipython",
    "version": 3
   },
   "file_extension": ".py",
   "mimetype": "text/x-python",
   "name": "python",
   "nbconvert_exporter": "python",
   "pygments_lexer": "ipython3",
   "version": "3.9.6"
  }
 },
 "nbformat": 4,
 "nbformat_minor": 2
}
