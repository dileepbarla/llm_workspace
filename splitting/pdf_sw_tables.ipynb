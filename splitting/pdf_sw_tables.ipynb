{
 "cells": [
  {
   "cell_type": "code",
   "execution_count": 1,
   "metadata": {},
   "outputs": [
    {
     "name": "stderr",
     "output_type": "stream",
     "text": [
      "/Users/dileepbarla/Library/Python/3.9/lib/python/site-packages/urllib3/__init__.py:35: NotOpenSSLWarning: urllib3 v2 only supports OpenSSL 1.1.1+, currently the 'ssl' module is compiled with 'LibreSSL 2.8.3'. See: https://github.com/urllib3/urllib3/issues/3020\n",
      "  warnings.warn(\n"
     ]
    }
   ],
   "source": [
    "import os\n",
    "# import unstructured\n",
    "from unstructured.partition.pdf import partition_pdf\n",
    "from unstructured.staging.base import elements_to_json"
   ]
  },
  {
   "cell_type": "markdown",
   "metadata": {},
   "source": [
    "Install poppler & tesseract and set path "
   ]
  },
  {
   "cell_type": "code",
   "execution_count": 2,
   "metadata": {},
   "outputs": [
    {
     "name": "stdout",
     "output_type": "stream",
     "text": [
      "/Library/Developer/CommandLineTools/usr/bin:/Users/dileepbarla/Library/Python/3.9/bin:/usr/local/bin:/System/Cryptexes/App/usr/bin:/usr/bin:/bin:/usr/sbin:/sbin:/var/run/com.apple.security.cryptexd/codex.system/bootstrap/usr/local/bin:/var/run/com.apple.security.cryptexd/codex.system/bootstrap/usr/bin:/var/run/com.apple.security.cryptexd/codex.system/bootstrap/usr/appleinternal/bin:/usr/local/bin:/System/Cryptexes/App/usr/bin:/usr/bin:/bin:/usr/sbin:/sbin:/var/run/com.apple.security.cryptexd/codex.system/bootstrap/usr/local/bin:/var/run/com.apple.security.cryptexd/codex.system/bootstrap/usr/bin:/var/run/com.apple.security.cryptexd/codex.system/bootstrap/usr/appleinternal/bin:/opt/homebrew/Cellar/tesseract/5.3.4_1/bin:/opt/homebrew/Cellar/poppler/24.04.0/bin\n"
     ]
    }
   ],
   "source": [
    "import os\n",
    "os.environ[\"PATH\"] = os.getenv('PATH') + ':' + '/opt/homebrew/Cellar/tesseract/5.3.4_1/bin' + ':' + '/opt/homebrew/Cellar/poppler/24.04.0/bin'\n",
    "print(os.getenv('PATH'))"
   ]
  },
  {
   "cell_type": "code",
   "execution_count": 3,
   "metadata": {},
   "outputs": [
    {
     "name": "stderr",
     "output_type": "stream",
     "text": [
      "Some weights of the model checkpoint at microsoft/table-transformer-structure-recognition were not used when initializing TableTransformerForObjectDetection: ['model.backbone.conv_encoder.model.layer2.0.downsample.1.num_batches_tracked', 'model.backbone.conv_encoder.model.layer3.0.downsample.1.num_batches_tracked', 'model.backbone.conv_encoder.model.layer4.0.downsample.1.num_batches_tracked']\n",
      "- This IS expected if you are initializing TableTransformerForObjectDetection from the checkpoint of a model trained on another task or with another architecture (e.g. initializing a BertForSequenceClassification model from a BertForPreTraining model).\n",
      "- This IS NOT expected if you are initializing TableTransformerForObjectDetection from the checkpoint of a model that you expect to be exactly identical (initializing a BertForSequenceClassification model from a BertForSequenceClassification model).\n"
     ]
    }
   ],
   "source": [
    "file_name = \"pdf_files/SW_school_report.pdf\"\n",
    "\n",
    "# Extracts the elements from the PDF\n",
    "elements = partition_pdf(\n",
    "    filename=file_name,\n",
    "\n",
    "    # Unstructured Helpers\n",
    "    strategy=\"hi_res\", \n",
    "    infer_table_structure=True, \n",
    "    model_name=\"yolox\"\n",
    ")"
   ]
  },
  {
   "cell_type": "code",
   "execution_count": 4,
   "metadata": {},
   "outputs": [
    {
     "name": "stdout",
     "output_type": "stream",
     "text": [
      "[<unstructured.documents.elements.Image object at 0x378751130>, <unstructured.documents.elements.Title object at 0x34facb3a0>, <unstructured.documents.elements.NarrativeText object at 0x378839250>, <unstructured.documents.elements.Title object at 0x378839b50>, <unstructured.documents.elements.Title object at 0x378839100>, <unstructured.documents.elements.Title object at 0x378751280>, <unstructured.documents.elements.Table object at 0x378839e50>, <unstructured.documents.elements.Text object at 0x37843c820>, <unstructured.documents.elements.NarrativeText object at 0x378839700>, <unstructured.documents.elements.NarrativeText object at 0x37843cd00>, <unstructured.documents.elements.Table object at 0x3780c7100>, <unstructured.documents.elements.Text object at 0x37843c5e0>, <unstructured.documents.elements.Text object at 0x37843cf40>, <unstructured.documents.elements.Text object at 0x37843cd30>, <unstructured.documents.elements.Text object at 0x37843c0a0>, <unstructured.documents.elements.Title object at 0x17337f0a0>, <unstructured.documents.elements.Title object at 0x37843c190>, <unstructured.documents.elements.NarrativeText object at 0x17337dfd0>, <unstructured.documents.elements.NarrativeText object at 0x17337d040>, <unstructured.documents.elements.NarrativeText object at 0x17337db20>, <unstructured.documents.elements.NarrativeText object at 0x378082340>, <unstructured.documents.elements.Title object at 0x37843ca30>, <unstructured.documents.elements.Table object at 0x378839e80>, <unstructured.documents.elements.NarrativeText object at 0x17337fa60>, <unstructured.documents.elements.Title object at 0x17337fd90>, <unstructured.documents.elements.Table object at 0x17337f6d0>, <unstructured.documents.elements.Text object at 0x37843c6d0>, <unstructured.documents.elements.Title object at 0x378082460>, <unstructured.documents.elements.Title object at 0x34facb6d0>, <unstructured.documents.elements.NarrativeText object at 0x34facbe50>, <unstructured.documents.elements.NarrativeText object at 0x34facbb50>, <unstructured.documents.elements.NarrativeText object at 0x34facbb20>, <unstructured.documents.elements.Title object at 0x34facb8e0>, <unstructured.documents.elements.Title object at 0x34facb2b0>, <unstructured.documents.elements.Title object at 0x378722640>, <unstructured.documents.elements.Title object at 0x378722790>, <unstructured.documents.elements.Title object at 0x3787220d0>, <unstructured.documents.elements.Title object at 0x378722100>, <unstructured.documents.elements.Table object at 0x378722580>, <unstructured.documents.elements.Title object at 0x37843c970>, <unstructured.documents.elements.Table object at 0x378722880>, <unstructured.documents.elements.NarrativeText object at 0x37843c100>, <unstructured.documents.elements.Title object at 0x37843c640>, <unstructured.documents.elements.Text object at 0x37843c910>, <unstructured.documents.elements.Text object at 0x37843c670>, <unstructured.documents.elements.Text object at 0x37843c8e0>, <unstructured.documents.elements.Title object at 0x37872f670>, <unstructured.documents.elements.Title object at 0x37843c9d0>, <unstructured.documents.elements.Title object at 0x37843cbb0>, <unstructured.documents.elements.Title object at 0x37843cf70>, <unstructured.documents.elements.Title object at 0x37843ce20>, <unstructured.documents.elements.Title object at 0x37843cc10>, <unstructured.documents.elements.Text object at 0x37843cdc0>, <unstructured.documents.elements.Text object at 0x3781946d0>, <unstructured.documents.elements.Title object at 0x3787366d0>, <unstructured.documents.elements.Title object at 0x378736760>, <unstructured.documents.elements.Table object at 0x3787363a0>, <unstructured.documents.elements.Title object at 0x3787368b0>, <unstructured.documents.elements.Table object at 0x378736400>, <unstructured.documents.elements.NarrativeText object at 0x378194640>, <unstructured.documents.elements.Title object at 0x3781946a0>, <unstructured.documents.elements.Table object at 0x3786f8790>, <unstructured.documents.elements.Title object at 0x378736fd0>, <unstructured.documents.elements.Table object at 0x3786f8730>, <unstructured.documents.elements.NarrativeText object at 0x3786f8940>, <unstructured.documents.elements.Title object at 0x3786f8d60>, <unstructured.documents.elements.Title object at 0x3786f8df0>, <unstructured.documents.elements.Title object at 0x3786f8370>, <unstructured.documents.elements.Title object at 0x3786f8eb0>, <unstructured.documents.elements.Title object at 0x3786c67f0>, <unstructured.documents.elements.NarrativeText object at 0x3786c6d60>, <unstructured.documents.elements.Title object at 0x378194940>, <unstructured.documents.elements.Title object at 0x378194850>, <unstructured.documents.elements.Title object at 0x3781947f0>, <unstructured.documents.elements.Table object at 0x3786c60d0>, <unstructured.documents.elements.Title object at 0x3786c6970>, <unstructured.documents.elements.Table object at 0x3786ceeb0>, <unstructured.documents.elements.Title object at 0x3786c68b0>, <unstructured.documents.elements.Table object at 0x3786c6bb0>, <unstructured.documents.elements.NarrativeText object at 0x3786cea90>, <unstructured.documents.elements.NarrativeText object at 0x3786cefd0>, <unstructured.documents.elements.Title object at 0x3786cecd0>, <unstructured.documents.elements.Title object at 0x3786ced30>, <unstructured.documents.elements.Title object at 0x3786ce730>, <unstructured.documents.elements.Title object at 0x3786ceaf0>, <unstructured.documents.elements.Text object at 0x3781948e0>, <unstructured.documents.elements.Table object at 0x378742040>, <unstructured.documents.elements.NarrativeText object at 0x378194ac0>, <unstructured.documents.elements.Title object at 0x378194670>, <unstructured.documents.elements.Table object at 0x378742af0>, <unstructured.documents.elements.Title object at 0x3787425b0>, <unstructured.documents.elements.Table object at 0x3787423d0>, <unstructured.documents.elements.NarrativeText object at 0x378194790>, <unstructured.documents.elements.NarrativeText object at 0x378194a60>, <unstructured.documents.elements.NarrativeText object at 0x378742760>, <unstructured.documents.elements.NarrativeText object at 0x3787429a0>, <unstructured.documents.elements.NarrativeText object at 0x3787708b0>, <unstructured.documents.elements.Title object at 0x378770940>, <unstructured.documents.elements.Title object at 0x3787709d0>, <unstructured.documents.elements.Title object at 0x378770220>, <unstructured.documents.elements.Title object at 0x378770250>, <unstructured.documents.elements.NarrativeText object at 0x378770490>, <unstructured.documents.elements.Table object at 0x3787702b0>, <unstructured.documents.elements.Text object at 0x378194b50>, <unstructured.documents.elements.Text object at 0x378194b20>, <unstructured.documents.elements.Text object at 0x378194af0>, <unstructured.documents.elements.Title object at 0x378194e80>, <unstructured.documents.elements.Title object at 0x378194e50>, <unstructured.documents.elements.Title object at 0x378194220>, <unstructured.documents.elements.Title object at 0x378194ee0>, <unstructured.documents.elements.Title object at 0x378194460>, <unstructured.documents.elements.Title object at 0x3781941c0>, <unstructured.documents.elements.Title object at 0x378194070>, <unstructured.documents.elements.Title object at 0x378194130>, <unstructured.documents.elements.Text object at 0x3781943a0>, <unstructured.documents.elements.NarrativeText object at 0x37841c220>, <unstructured.documents.elements.Table object at 0x37841c9a0>, <unstructured.documents.elements.NarrativeText object at 0x3781942e0>, <unstructured.documents.elements.Table object at 0x37841cdc0>, <unstructured.documents.elements.Title object at 0x378194490>, <unstructured.documents.elements.Title object at 0x378194be0>, <unstructured.documents.elements.Title object at 0x378194580>, <unstructured.documents.elements.NarrativeText object at 0x3781944f0>, <unstructured.documents.elements.Title object at 0x37843c370>, <unstructured.documents.elements.Title object at 0x37843c7f0>]\n"
     ]
    }
   ],
   "source": [
    "print(elements)"
   ]
  },
  {
   "cell_type": "code",
   "execution_count": 5,
   "metadata": {},
   "outputs": [],
   "source": [
    "elements_to_json(elements, \"SW_school_report.json\")"
   ]
  },
  {
   "cell_type": "markdown",
   "metadata": {},
   "source": [
    "Retrieve tables from json"
   ]
  },
  {
   "cell_type": "code",
   "execution_count": 7,
   "metadata": {},
   "outputs": [],
   "source": [
    "import json\n",
    "def process_json_file(input_filename):\n",
    "    \n",
    "# Read the JSON file\n",
    "    with open(input_filename, 'r') as file:\n",
    "        data = json.load(file)\n",
    "\n",
    "# Iterate over the JSON data and extract required table elements\n",
    "    extracted_elements = []\n",
    "    for entry in data:\n",
    "        if entry[\"type\"] == \"Table\":\n",
    "            extracted_elements.append(entry[\"metadata\"][\"text_as_html\"])\n",
    "\n",
    "# Write the extracted elements to the output file\n",
    "    with open(\"SW_school_report_tbl.txt\", 'w') as output_file:\n",
    "        for element in extracted_elements:\n",
    "            output_file.write(element + \"\\n\\n\") # Adding two newlines for separation    "
   ]
  },
  {
   "cell_type": "code",
   "execution_count": 8,
   "metadata": {},
   "outputs": [],
   "source": [
    "process_json_file(\"SW_school_report.json\")"
   ]
  },
  {
   "cell_type": "code",
   "execution_count": 9,
   "metadata": {},
   "outputs": [],
   "source": [
    "from langchain.document_loaders import TextLoader\n",
    "loader = TextLoader(\"SW_school_report_tbl.txt\")\n",
    "documents = loader.load()"
   ]
  },
  {
   "cell_type": "code",
   "execution_count": 11,
   "metadata": {},
   "outputs": [
    {
     "name": "stderr",
     "output_type": "stream",
     "text": [
      "Created a chunk of size 1157, which is longer than the specified 1000\n",
      "Created a chunk of size 1035, which is longer than the specified 1000\n",
      "Created a chunk of size 1929, which is longer than the specified 1000\n",
      "Created a chunk of size 3232, which is longer than the specified 1000\n"
     ]
    }
   ],
   "source": [
    "from langchain.text_splitter import CharacterTextSplitter\n",
    "# split it into chunks\n",
    "text_splitter = CharacterTextSplitter(chunk_size=1000, chunk_overlap=200)\n",
    "docs = text_splitter.split_documents(documents)"
   ]
  },
  {
   "cell_type": "code",
   "execution_count": 12,
   "metadata": {},
   "outputs": [
    {
     "name": "stderr",
     "output_type": "stream",
     "text": [
      "/Users/dileepbarla/Library/Python/3.9/lib/python/site-packages/langchain_core/_api/deprecation.py:119: LangChainDeprecationWarning: The class `OpenAIEmbeddings` was deprecated in LangChain 0.0.9 and will be removed in 0.2.0. An updated version of the class exists in the langchain-openai package and should be used instead. To use it run `pip install -U langchain-openai` and import as `from langchain_openai import OpenAIEmbeddings`.\n",
      "  warn_deprecated(\n"
     ]
    }
   ],
   "source": [
    "from dotenv import load_dotenv\n",
    "load_dotenv()\n",
    "from langchain.embeddings.openai import OpenAIEmbeddings\n",
    "embeddings = OpenAIEmbeddings()"
   ]
  },
  {
   "cell_type": "code",
   "execution_count": 13,
   "metadata": {},
   "outputs": [],
   "source": [
    "import chromadb\n",
    "from langchain_chroma import Chroma\n",
    "\n",
    "\n",
    "db = Chroma.from_documents(docs, embeddings)\n"
   ]
  },
  {
   "cell_type": "code",
   "execution_count": 14,
   "metadata": {},
   "outputs": [
    {
     "name": "stderr",
     "output_type": "stream",
     "text": [
      "/Users/dileepbarla/Library/Python/3.9/lib/python/site-packages/langchain_core/_api/deprecation.py:119: LangChainDeprecationWarning: The class `ChatOpenAI` was deprecated in LangChain 0.0.10 and will be removed in 0.2.0. An updated version of the class exists in the langchain-openai package and should be used instead. To use it run `pip install -U langchain-openai` and import as `from langchain_openai import ChatOpenAI`.\n",
      "  warn_deprecated(\n"
     ]
    }
   ],
   "source": [
    "from langchain.chat_models import ChatOpenAI\n",
    "from langchain.chains import RetrievalQA\n",
    "\n",
    "# Initialize your model and retriever\n",
    "llm = ChatOpenAI(model_name=\"gpt-3.5-turbo\", temperature=0)\n",
    "qa_chain = RetrievalQA.from_chain_type(llm, retriever=db.as_retriever())"
   ]
  },
  {
   "cell_type": "code",
   "execution_count": 15,
   "metadata": {},
   "outputs": [],
   "source": [
    "# List of questions\n",
    "questions = [\n",
    "\"How many students enrolled in October 1, 2022 Enrollment?\",\n",
    "\"How many Asian students enrolled in October 1, 2022 Enrollment?\",\n",
    "\"How many female students have Chronic Absenteeism and Suspension/Expulsion?\",\n",
    "\"What's Shareholder's net income?\"\n",
    "]"
   ]
  },
  {
   "cell_type": "code",
   "execution_count": 18,
   "metadata": {},
   "outputs": [
    {
     "name": "stderr",
     "output_type": "stream",
     "text": [
      "/Users/dileepbarla/Library/Python/3.9/lib/python/site-packages/langchain_core/_api/deprecation.py:119: LangChainDeprecationWarning: The method `Chain.__call__` was deprecated in langchain 0.1.0 and will be removed in 0.2.0. Use invoke instead.\n",
      "  warn_deprecated(\n"
     ]
    }
   ],
   "source": [
    "# Store responses in output_list\n",
    "output_list = []\n",
    "\n",
    "for query in questions:\n",
    "    response = qa_chain({\"query\": query})\n",
    "    output_list.append(response)"
   ]
  },
  {
   "cell_type": "code",
   "execution_count": 19,
   "metadata": {},
   "outputs": [
    {
     "name": "stdout",
     "output_type": "stream",
     "text": [
      "[   {   'query': 'How many students enrolled in October 1, 2022 Enrollment?',\n",
      "        'result': 'The number of students enrolled on October 1, 2022, is '\n",
      "                  '1,325.'},\n",
      "    {   'query': 'How many Asian students enrolled in October 1, 2022 '\n",
      "                 'Enrollment?',\n",
      "        'result': 'Based on the provided data, there were 335 Asian students '\n",
      "                  'enrolled in the October 1, 2022 Enrollment.'},\n",
      "    {   'query': 'How many female students have Chronic Absenteeism and '\n",
      "                 'Suspension/Expulsion?',\n",
      "        'result': 'In the provided data, there are 80 female students with '\n",
      "                  'Chronic Absenteeism and 13 female students with '\n",
      "                  'Suspension/Expulsion.'},\n",
      "    {   'query': \"What's Shareholder's net income?\",\n",
      "        'result': \"I don't have the specific information needed to calculate \"\n",
      "                  \"the Shareholder's net income based on the provided \"\n",
      "                  'context.'}]\n"
     ]
    }
   ],
   "source": [
    "\n",
    "import pprint\n",
    "\n",
    "# Use pprint to pretty print the output list\n",
    "pp = pprint.PrettyPrinter(indent=4)\n",
    "pp.pprint(output_list)"
   ]
  }
 ],
 "metadata": {
  "kernelspec": {
   "display_name": "my-python3-kernel-jupyter",
   "language": "python",
   "name": "my-python3-kernel-jupyter"
  },
  "language_info": {
   "codemirror_mode": {
    "name": "ipython",
    "version": 3
   },
   "file_extension": ".py",
   "mimetype": "text/x-python",
   "name": "python",
   "nbconvert_exporter": "python",
   "pygments_lexer": "ipython3",
   "version": "3.9.6"
  }
 },
 "nbformat": 4,
 "nbformat_minor": 2
}
