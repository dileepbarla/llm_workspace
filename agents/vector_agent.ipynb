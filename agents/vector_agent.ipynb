{
 "cells": [
  {
   "cell_type": "markdown",
   "metadata": {},
   "source": [
    "***Unstructured Excel Loader***"
   ]
  },
  {
   "cell_type": "code",
   "execution_count": 1,
   "metadata": {},
   "outputs": [
    {
     "data": {
      "text/plain": [
       "True"
      ]
     },
     "execution_count": 1,
     "metadata": {},
     "output_type": "execute_result"
    }
   ],
   "source": [
    "from dotenv import load_dotenv\n",
    "load_dotenv()"
   ]
  },
  {
   "cell_type": "markdown",
   "metadata": {},
   "source": [
    "Unstructured store in elements format, and langchin converts to document format"
   ]
  },
  {
   "cell_type": "code",
   "execution_count": 3,
   "metadata": {},
   "outputs": [
    {
     "name": "stderr",
     "output_type": "stream",
     "text": [
      "/Users/dileepbarla/Library/Python/3.9/lib/python/site-packages/urllib3/__init__.py:35: NotOpenSSLWarning: urllib3 v2 only supports OpenSSL 1.1.1+, currently the 'ssl' module is compiled with 'LibreSSL 2.8.3'. See: https://github.com/urllib3/urllib3/issues/3020\n",
      "  warnings.warn(\n"
     ]
    },
    {
     "name": "stdout",
     "output_type": "stream",
     "text": [
      "[Document(page_content=\"\\n\\n\\nProduct/ Reporting Category*\\nObservation\\nRecommendation 1\\nRecommendation 2\\nRecommendation 3\\nWhy\\nThemes\\n\\n\\nHealthHive Preventive Care Kit\\n70% of our 10,000 members have reported difficulty keeping track of recommended health screenings and vaccinations.\\nUse HealthHive to schedule and track preventive care appointments.\\\\nReceive personalized reminders for recommended screenings and vaccinations.\\\\nAccess educational resources to understand the importance of preventive care.\\n\\n\\nRegular screenings detect health issues early.\\\\nVaccinations prevent illnesses and outbreaks.\\\\nEducation empowers informed health decisions.\\nPreventative Care\\n\\n\\nCareConnect Access Platform\\n75% of our 5,000 members have expressed a desire to track their progress and set goals, but struggle with staying consistent.80% of our 8,000 members have reported struggling to find affordable and convenient healthcare services.\\nUse CareConnect to find nearby healthcare providers and services.\\\\nCompare prices and availability to make informed choices.\\\\nAccess telemedicine options for remote consultations.\\n\\n\\nConvenient access reduces healthcare barriers.\\\\nAffordability increases healthcare utilization.\\\\nTelemedicine expands access to specialized care.\\nAccess to Care\\n\\n\\nMindWave Behavioral Health App\\n90% of our 12,000 members have reported experiencing stress, anxiety, or depression, but struggle to access support.\\nUse MindWave to access guided meditations and therapy sessions.\\\\nTrack mood and progress to identify patterns and growth.\\\\nConnect with a supportive community for encouragement.\\n\\n\\nMindfulness practices reduce stress and anxiety.\\\\nTherapy sessions provide professional support.\\\\nCommunity support fosters empathy and understanding.\\nBehavioral Health\\n\\n\\nChronicCare Companion Program\\n75% of our 9,000 members have reported feeling overwhelmed managing their chronic conditions.\\nUse ChronicCare to track medication and appointments.\\\\nReceive personalized coaching for condition management.\\\\nAccess educational resources for understanding chronic conditions.\\n\\n\\nTracking and coaching improve condition management.\\\\nEducation empowers informed self-care decisions.\\\\nSupport reduces feelings of overwhelm.\\nChronic Conditions\\n\\n\\nSpecialtyScript Medical Specialty RX\\n85% of our 11,000 members have reported difficulty accessing specialized medications and treatments.\\nUse SpecialtyScript to find nearby medical specialists.\\\\nAccess affordable and convenient prescription services.\\\\nReceive personalized support for medication management.\\n\\n\\nSpecialized care addresses complex health needs.\\\\nAffordable prescriptions increase treatment adherence.\\\\nSupport reduces medication management burdens.\\nPharmacy\\n\\n\\nHealthHero Preventive Care Chatbot\\n65% of our 9,000 members have reported having questions about preventive care but don't know where to start.\\nUse HealthHero to ask questions and receive personalized preventive care recommendations.\\\\nAccess educational resources to understand the importance of preventive care.\\\\nSchedule appointments with healthcare providers through the chatbot.\\n\\n\\nEasy access to information empowers informed decisions.\\\\nPersonalized recommendations increase engagement.\\\\nConvenient scheduling reduces barriers to care.\\nPreventative Care\\n\\n\\nMindfulMind Behavioral Health App\\n85% of our 10,500 members have reported experiencing stress, anxiety, or depression, but struggle to access support.\\nUse MindfulMind to access guided meditations and therapy sessions.\\\\nTrack mood and progress to identify patterns and growth.\\\\nConnect with a supportive community for encouragement.\\n\\n\\nMindfulness practices reduce stress and anxiety.\\\\nTherapy sessions provide professional support.\\\\nCommunity support fosters empathy and understanding.\\nBehavioral Health\\n\\n\\nChronicCarePlus Chronic Conditions Program\\n80% of our 9,500 members have reported feeling overwhelmed managing their chronic conditions.\\nUse ChronicCarePlus to track medication and appointments.\\\\nReceive personalized coaching for condition management.\\\\nAccess educational resources for understanding chronic conditions.\\n\\n\\nTracking and coaching improve condition management.\\\\nEducation empowers informed self-care decisions.\\\\nSupport reduces feelings of overwhelm.\\nChronic Conditions\\n\\n\\nCareBridge Access to Care Platform\\n70% of our 8,500 members have reported difficulty finding healthcare services that accept their insurance.\\nUse CareBridge to find nearby healthcare providers that accept your insurance.\\\\nCompare prices and availability to make informed choices.\\\\nAccess telemedicine options for remote consultations.\\n\\n\\nConvenient access reduces healthcare barriers.\\\\nInsurance matching increases access to care.\\\\nTelemedicine expands access to specialized care.\\nAccess to Care\\n\\n\\nSpecialtyCare Medical Specialty RX\\n90% of our 11,500 members have reported difficulty accessing specialized medications and treatments.\\nUse SpecialtyCare to find nearby medical specialists.\\\\nAccess affordable and convenient prescription services.\\\\nReceive personalized support for medication management.\\n\\n\\nSpecialized care addresses complex health needs.\\\\nAffordable prescriptions increase treatment adherence.\\\\nSupport reduces medication management burdens.\\nPharmacy\\n\\n\\n\", metadata={'source': 'xlfiles/mock_recomm_library_latest.xlsx', 'file_directory': 'xlfiles', 'filename': 'mock_recomm_library_latest.xlsx', 'last_modified': '2024-05-29T23:10:37', 'page_name': 'Sheet1', 'page_number': 1, 'text_as_html': '<table border=\"1\" class=\"dataframe\">\\n  <tbody>\\n    <tr>\\n      <td>Product/ Reporting Category*</td>\\n      <td>Observation</td>\\n      <td>Recommendation 1</td>\\n      <td>Recommendation 2</td>\\n      <td>Recommendation 3</td>\\n      <td>Why</td>\\n      <td>Themes</td>\\n    </tr>\\n    <tr>\\n      <td>HealthHive Preventive Care Kit</td>\\n      <td>70% of our 10,000 members have reported difficulty keeping track of recommended health screenings and vaccinations.</td>\\n      <td>Use HealthHive to schedule and track preventive care appointments.\\\\nReceive personalized reminders for recommended screenings and vaccinations.\\\\nAccess educational resources to understand the importance of preventive care.</td>\\n      <td></td>\\n      <td></td>\\n      <td>Regular screenings detect health issues early.\\\\nVaccinations prevent illnesses and outbreaks.\\\\nEducation empowers informed health decisions.</td>\\n      <td>Preventative Care</td>\\n    </tr>\\n    <tr>\\n      <td>CareConnect Access Platform</td>\\n      <td>75% of our 5,000 members have expressed a desire to track their progress and set goals, but struggle with staying consistent.80% of our 8,000 members have reported struggling to find affordable and convenient healthcare services.</td>\\n      <td>Use CareConnect to find nearby healthcare providers and services.\\\\nCompare prices and availability to make informed choices.\\\\nAccess telemedicine options for remote consultations.</td>\\n      <td></td>\\n      <td></td>\\n      <td>Convenient access reduces healthcare barriers.\\\\nAffordability increases healthcare utilization.\\\\nTelemedicine expands access to specialized care.</td>\\n      <td>Access to Care</td>\\n    </tr>\\n    <tr>\\n      <td>MindWave Behavioral Health App</td>\\n      <td>90% of our 12,000 members have reported experiencing stress, anxiety, or depression, but struggle to access support.</td>\\n      <td>Use MindWave to access guided meditations and therapy sessions.\\\\nTrack mood and progress to identify patterns and growth.\\\\nConnect with a supportive community for encouragement.</td>\\n      <td></td>\\n      <td></td>\\n      <td>Mindfulness practices reduce stress and anxiety.\\\\nTherapy sessions provide professional support.\\\\nCommunity support fosters empathy and understanding.</td>\\n      <td>Behavioral Health</td>\\n    </tr>\\n    <tr>\\n      <td>ChronicCare Companion Program</td>\\n      <td>75% of our 9,000 members have reported feeling overwhelmed managing their chronic conditions.</td>\\n      <td>Use ChronicCare to track medication and appointments.\\\\nReceive personalized coaching for condition management.\\\\nAccess educational resources for understanding chronic conditions.</td>\\n      <td></td>\\n      <td></td>\\n      <td>Tracking and coaching improve condition management.\\\\nEducation empowers informed self-care decisions.\\\\nSupport reduces feelings of overwhelm.</td>\\n      <td>Chronic Conditions</td>\\n    </tr>\\n    <tr>\\n      <td>SpecialtyScript Medical Specialty RX</td>\\n      <td>85% of our 11,000 members have reported difficulty accessing specialized medications and treatments.</td>\\n      <td>Use SpecialtyScript to find nearby medical specialists.\\\\nAccess affordable and convenient prescription services.\\\\nReceive personalized support for medication management.</td>\\n      <td></td>\\n      <td></td>\\n      <td>Specialized care addresses complex health needs.\\\\nAffordable prescriptions increase treatment adherence.\\\\nSupport reduces medication management burdens.</td>\\n      <td>Pharmacy</td>\\n    </tr>\\n    <tr>\\n      <td>HealthHero Preventive Care Chatbot</td>\\n      <td>65% of our 9,000 members have reported having questions about preventive care but don\\'t know where to start.</td>\\n      <td>Use HealthHero to ask questions and receive personalized preventive care recommendations.\\\\nAccess educational resources to understand the importance of preventive care.\\\\nSchedule appointments with healthcare providers through the chatbot.</td>\\n      <td></td>\\n      <td></td>\\n      <td>Easy access to information empowers informed decisions.\\\\nPersonalized recommendations increase engagement.\\\\nConvenient scheduling reduces barriers to care.</td>\\n      <td>Preventative Care</td>\\n    </tr>\\n    <tr>\\n      <td>MindfulMind Behavioral Health App</td>\\n      <td>85% of our 10,500 members have reported experiencing stress, anxiety, or depression, but struggle to access support.</td>\\n      <td>Use MindfulMind to access guided meditations and therapy sessions.\\\\nTrack mood and progress to identify patterns and growth.\\\\nConnect with a supportive community for encouragement.</td>\\n      <td></td>\\n      <td></td>\\n      <td>Mindfulness practices reduce stress and anxiety.\\\\nTherapy sessions provide professional support.\\\\nCommunity support fosters empathy and understanding.</td>\\n      <td>Behavioral Health</td>\\n    </tr>\\n    <tr>\\n      <td>ChronicCarePlus Chronic Conditions Program</td>\\n      <td>80% of our 9,500 members have reported feeling overwhelmed managing their chronic conditions.</td>\\n      <td>Use ChronicCarePlus to track medication and appointments.\\\\nReceive personalized coaching for condition management.\\\\nAccess educational resources for understanding chronic conditions.</td>\\n      <td></td>\\n      <td></td>\\n      <td>Tracking and coaching improve condition management.\\\\nEducation empowers informed self-care decisions.\\\\nSupport reduces feelings of overwhelm.</td>\\n      <td>Chronic Conditions</td>\\n    </tr>\\n    <tr>\\n      <td>CareBridge Access to Care Platform</td>\\n      <td>70% of our 8,500 members have reported difficulty finding healthcare services that accept their insurance.</td>\\n      <td>Use CareBridge to find nearby healthcare providers that accept your insurance.\\\\nCompare prices and availability to make informed choices.\\\\nAccess telemedicine options for remote consultations.</td>\\n      <td></td>\\n      <td></td>\\n      <td>Convenient access reduces healthcare barriers.\\\\nInsurance matching increases access to care.\\\\nTelemedicine expands access to specialized care.</td>\\n      <td>Access to Care</td>\\n    </tr>\\n    <tr>\\n      <td>SpecialtyCare Medical Specialty RX</td>\\n      <td>90% of our 11,500 members have reported difficulty accessing specialized medications and treatments.</td>\\n      <td>Use SpecialtyCare to find nearby medical specialists.\\\\nAccess affordable and convenient prescription services.\\\\nReceive personalized support for medication management.</td>\\n      <td></td>\\n      <td></td>\\n      <td>Specialized care addresses complex health needs.\\\\nAffordable prescriptions increase treatment adherence.\\\\nSupport reduces medication management burdens.</td>\\n      <td>Pharmacy</td>\\n    </tr>\\n  </tbody>\\n</table>', 'languages': ['eng'], 'filetype': 'application/vnd.openxmlformats-officedocument.spreadsheetml.sheet', 'category': 'Table'})]\n"
     ]
    }
   ],
   "source": [
    "from langchain_community.document_loaders import UnstructuredExcelLoader\n",
    "loader = UnstructuredExcelLoader(\"xlfiles/mock_recomm_library_latest.xlsx\", mode=\"elements\")\n",
    "docs = loader.load()\n",
    "print(docs)"
   ]
  }
 ],
 "metadata": {
  "kernelspec": {
   "display_name": "my-python3-kernel-jupyter",
   "language": "python",
   "name": "my-python3-kernel-jupyter"
  },
  "language_info": {
   "codemirror_mode": {
    "name": "ipython",
    "version": 3
   },
   "file_extension": ".py",
   "mimetype": "text/x-python",
   "name": "python",
   "nbconvert_exporter": "python",
   "pygments_lexer": "ipython3",
   "version": "3.9.6"
  }
 },
 "nbformat": 4,
 "nbformat_minor": 2
}
