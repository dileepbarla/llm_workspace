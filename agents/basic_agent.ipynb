{
 "cells": [
  {
   "cell_type": "code",
   "execution_count": 19,
   "metadata": {},
   "outputs": [
    {
     "name": "stdout",
     "output_type": "stream",
     "text": [
      "Defaulting to user installation because normal site-packages is not writeable\n",
      "Requirement already satisfied: nest_asyncio in /Users/dileepbarla/Library/Python/3.9/lib/python/site-packages (from -r ./requirements.txt (line 1)) (1.6.0)\n",
      "Requirement already satisfied: llama-index in /Users/dileepbarla/Library/Python/3.9/lib/python/site-packages (from -r ./requirements.txt (line 2)) (0.10.39)\n",
      "Requirement already satisfied: llama-index-embeddings-openai in /Users/dileepbarla/Library/Python/3.9/lib/python/site-packages (from -r ./requirements.txt (line 3)) (0.1.10)\n",
      "Requirement already satisfied: llama-index-agent-openai<0.3.0,>=0.1.4 in /Users/dileepbarla/Library/Python/3.9/lib/python/site-packages (from llama-index->-r ./requirements.txt (line 2)) (0.2.5)\n",
      "Requirement already satisfied: llama-index-cli<0.2.0,>=0.1.2 in /Users/dileepbarla/Library/Python/3.9/lib/python/site-packages (from llama-index->-r ./requirements.txt (line 2)) (0.1.12)\n",
      "Requirement already satisfied: llama-index-core<0.11.0,>=0.10.39 in /Users/dileepbarla/Library/Python/3.9/lib/python/site-packages (from llama-index->-r ./requirements.txt (line 2)) (0.10.39.post1)\n",
      "Requirement already satisfied: llama-index-indices-managed-llama-cloud<0.2.0,>=0.1.2 in /Users/dileepbarla/Library/Python/3.9/lib/python/site-packages (from llama-index->-r ./requirements.txt (line 2)) (0.1.6)\n",
      "Requirement already satisfied: llama-index-legacy<0.10.0,>=0.9.48 in /Users/dileepbarla/Library/Python/3.9/lib/python/site-packages (from llama-index->-r ./requirements.txt (line 2)) (0.9.48)\n",
      "Requirement already satisfied: llama-index-llms-openai<0.2.0,>=0.1.13 in /Users/dileepbarla/Library/Python/3.9/lib/python/site-packages (from llama-index->-r ./requirements.txt (line 2)) (0.1.21)\n",
      "Requirement already satisfied: llama-index-multi-modal-llms-openai<0.2.0,>=0.1.3 in /Users/dileepbarla/Library/Python/3.9/lib/python/site-packages (from llama-index->-r ./requirements.txt (line 2)) (0.1.6)\n",
      "Requirement already satisfied: llama-index-program-openai<0.2.0,>=0.1.3 in /Users/dileepbarla/Library/Python/3.9/lib/python/site-packages (from llama-index->-r ./requirements.txt (line 2)) (0.1.6)\n",
      "Requirement already satisfied: llama-index-question-gen-openai<0.2.0,>=0.1.2 in /Users/dileepbarla/Library/Python/3.9/lib/python/site-packages (from llama-index->-r ./requirements.txt (line 2)) (0.1.3)\n",
      "Requirement already satisfied: llama-index-readers-file<0.2.0,>=0.1.4 in /Users/dileepbarla/Library/Python/3.9/lib/python/site-packages (from llama-index->-r ./requirements.txt (line 2)) (0.1.23)\n",
      "Requirement already satisfied: llama-index-readers-llama-parse<0.2.0,>=0.1.2 in /Users/dileepbarla/Library/Python/3.9/lib/python/site-packages (from llama-index->-r ./requirements.txt (line 2)) (0.1.4)\n",
      "Requirement already satisfied: openai>=1.14.0 in /Users/dileepbarla/Library/Python/3.9/lib/python/site-packages (from llama-index-agent-openai<0.3.0,>=0.1.4->llama-index->-r ./requirements.txt (line 2)) (1.23.3)\n",
      "Requirement already satisfied: PyYAML>=6.0.1 in /Users/dileepbarla/Library/Python/3.9/lib/python/site-packages (from llama-index-core<0.11.0,>=0.10.39->llama-index->-r ./requirements.txt (line 2)) (6.0.1)\n",
      "Requirement already satisfied: SQLAlchemy>=1.4.49 in /Users/dileepbarla/Library/Python/3.9/lib/python/site-packages (from SQLAlchemy[asyncio]>=1.4.49->llama-index-core<0.11.0,>=0.10.39->llama-index->-r ./requirements.txt (line 2)) (2.0.29)\n",
      "Requirement already satisfied: aiohttp<4.0.0,>=3.8.6 in /Users/dileepbarla/Library/Python/3.9/lib/python/site-packages (from llama-index-core<0.11.0,>=0.10.39->llama-index->-r ./requirements.txt (line 2)) (3.9.5)\n",
      "Requirement already satisfied: dataclasses-json in /Users/dileepbarla/Library/Python/3.9/lib/python/site-packages (from llama-index-core<0.11.0,>=0.10.39->llama-index->-r ./requirements.txt (line 2)) (0.6.4)\n",
      "Requirement already satisfied: deprecated>=1.2.9.3 in /Users/dileepbarla/Library/Python/3.9/lib/python/site-packages (from llama-index-core<0.11.0,>=0.10.39->llama-index->-r ./requirements.txt (line 2)) (1.2.14)\n",
      "Requirement already satisfied: dirtyjson<2.0.0,>=1.0.8 in /Users/dileepbarla/Library/Python/3.9/lib/python/site-packages (from llama-index-core<0.11.0,>=0.10.39->llama-index->-r ./requirements.txt (line 2)) (1.0.8)\n",
      "Requirement already satisfied: fsspec>=2023.5.0 in /Users/dileepbarla/Library/Python/3.9/lib/python/site-packages (from llama-index-core<0.11.0,>=0.10.39->llama-index->-r ./requirements.txt (line 2)) (2024.3.1)\n",
      "Requirement already satisfied: httpx in /Users/dileepbarla/Library/Python/3.9/lib/python/site-packages (from llama-index-core<0.11.0,>=0.10.39->llama-index->-r ./requirements.txt (line 2)) (0.27.0)\n",
      "Requirement already satisfied: llamaindex-py-client<0.2.0,>=0.1.18 in /Users/dileepbarla/Library/Python/3.9/lib/python/site-packages (from llama-index-core<0.11.0,>=0.10.39->llama-index->-r ./requirements.txt (line 2)) (0.1.19)\n",
      "Requirement already satisfied: networkx>=3.0 in /Users/dileepbarla/Library/Python/3.9/lib/python/site-packages (from llama-index-core<0.11.0,>=0.10.39->llama-index->-r ./requirements.txt (line 2)) (3.2.1)\n",
      "Requirement already satisfied: nltk<4.0.0,>=3.8.1 in /Users/dileepbarla/Library/Python/3.9/lib/python/site-packages (from llama-index-core<0.11.0,>=0.10.39->llama-index->-r ./requirements.txt (line 2)) (3.8.1)\n",
      "Requirement already satisfied: numpy in /Users/dileepbarla/Library/Python/3.9/lib/python/site-packages (from llama-index-core<0.11.0,>=0.10.39->llama-index->-r ./requirements.txt (line 2)) (1.26.4)\n",
      "Requirement already satisfied: pandas in /Users/dileepbarla/Library/Python/3.9/lib/python/site-packages (from llama-index-core<0.11.0,>=0.10.39->llama-index->-r ./requirements.txt (line 2)) (2.2.2)\n",
      "Requirement already satisfied: pillow>=9.0.0 in /Users/dileepbarla/Library/Python/3.9/lib/python/site-packages (from llama-index-core<0.11.0,>=0.10.39->llama-index->-r ./requirements.txt (line 2)) (10.3.0)\n",
      "Requirement already satisfied: requests>=2.31.0 in /Users/dileepbarla/Library/Python/3.9/lib/python/site-packages (from llama-index-core<0.11.0,>=0.10.39->llama-index->-r ./requirements.txt (line 2)) (2.31.0)\n",
      "Requirement already satisfied: tenacity<9.0.0,>=8.2.0 in /Users/dileepbarla/Library/Python/3.9/lib/python/site-packages (from llama-index-core<0.11.0,>=0.10.39->llama-index->-r ./requirements.txt (line 2)) (8.2.3)\n",
      "Requirement already satisfied: tiktoken>=0.3.3 in /Users/dileepbarla/Library/Python/3.9/lib/python/site-packages (from llama-index-core<0.11.0,>=0.10.39->llama-index->-r ./requirements.txt (line 2)) (0.6.0)\n",
      "Requirement already satisfied: tqdm<5.0.0,>=4.66.1 in /Users/dileepbarla/Library/Python/3.9/lib/python/site-packages (from llama-index-core<0.11.0,>=0.10.39->llama-index->-r ./requirements.txt (line 2)) (4.66.2)\n",
      "Requirement already satisfied: typing-extensions>=4.5.0 in /Users/dileepbarla/Library/Python/3.9/lib/python/site-packages (from llama-index-core<0.11.0,>=0.10.39->llama-index->-r ./requirements.txt (line 2)) (4.11.0)\n",
      "Requirement already satisfied: typing-inspect>=0.8.0 in /Users/dileepbarla/Library/Python/3.9/lib/python/site-packages (from llama-index-core<0.11.0,>=0.10.39->llama-index->-r ./requirements.txt (line 2)) (0.9.0)\n",
      "Requirement already satisfied: wrapt in /Users/dileepbarla/Library/Python/3.9/lib/python/site-packages (from llama-index-core<0.11.0,>=0.10.39->llama-index->-r ./requirements.txt (line 2)) (1.16.0)\n",
      "Requirement already satisfied: beautifulsoup4<5.0.0,>=4.12.3 in /Users/dileepbarla/Library/Python/3.9/lib/python/site-packages (from llama-index-readers-file<0.2.0,>=0.1.4->llama-index->-r ./requirements.txt (line 2)) (4.12.3)\n",
      "Requirement already satisfied: pypdf<5.0.0,>=4.0.1 in /Users/dileepbarla/Library/Python/3.9/lib/python/site-packages (from llama-index-readers-file<0.2.0,>=0.1.4->llama-index->-r ./requirements.txt (line 2)) (4.2.0)\n",
      "Requirement already satisfied: striprtf<0.0.27,>=0.0.26 in /Users/dileepbarla/Library/Python/3.9/lib/python/site-packages (from llama-index-readers-file<0.2.0,>=0.1.4->llama-index->-r ./requirements.txt (line 2)) (0.0.26)\n",
      "Requirement already satisfied: llama-parse<0.5.0,>=0.4.0 in /Users/dileepbarla/Library/Python/3.9/lib/python/site-packages (from llama-index-readers-llama-parse<0.2.0,>=0.1.2->llama-index->-r ./requirements.txt (line 2)) (0.4.3)\n",
      "Requirement already satisfied: aiosignal>=1.1.2 in /Users/dileepbarla/Library/Python/3.9/lib/python/site-packages (from aiohttp<4.0.0,>=3.8.6->llama-index-core<0.11.0,>=0.10.39->llama-index->-r ./requirements.txt (line 2)) (1.3.1)\n",
      "Requirement already satisfied: attrs>=17.3.0 in /Users/dileepbarla/Library/Python/3.9/lib/python/site-packages (from aiohttp<4.0.0,>=3.8.6->llama-index-core<0.11.0,>=0.10.39->llama-index->-r ./requirements.txt (line 2)) (23.2.0)\n",
      "Requirement already satisfied: frozenlist>=1.1.1 in /Users/dileepbarla/Library/Python/3.9/lib/python/site-packages (from aiohttp<4.0.0,>=3.8.6->llama-index-core<0.11.0,>=0.10.39->llama-index->-r ./requirements.txt (line 2)) (1.4.1)\n",
      "Requirement already satisfied: multidict<7.0,>=4.5 in /Users/dileepbarla/Library/Python/3.9/lib/python/site-packages (from aiohttp<4.0.0,>=3.8.6->llama-index-core<0.11.0,>=0.10.39->llama-index->-r ./requirements.txt (line 2)) (6.0.5)\n",
      "Requirement already satisfied: yarl<2.0,>=1.0 in /Users/dileepbarla/Library/Python/3.9/lib/python/site-packages (from aiohttp<4.0.0,>=3.8.6->llama-index-core<0.11.0,>=0.10.39->llama-index->-r ./requirements.txt (line 2)) (1.9.4)\n",
      "Requirement already satisfied: async-timeout<5.0,>=4.0 in /Users/dileepbarla/Library/Python/3.9/lib/python/site-packages (from aiohttp<4.0.0,>=3.8.6->llama-index-core<0.11.0,>=0.10.39->llama-index->-r ./requirements.txt (line 2)) (4.0.3)\n",
      "Requirement already satisfied: soupsieve>1.2 in /Users/dileepbarla/Library/Python/3.9/lib/python/site-packages (from beautifulsoup4<5.0.0,>=4.12.3->llama-index-readers-file<0.2.0,>=0.1.4->llama-index->-r ./requirements.txt (line 2)) (2.5)\n",
      "Requirement already satisfied: pydantic>=1.10 in /Users/dileepbarla/Library/Python/3.9/lib/python/site-packages (from llamaindex-py-client<0.2.0,>=0.1.18->llama-index-core<0.11.0,>=0.10.39->llama-index->-r ./requirements.txt (line 2)) (2.7.1)\n",
      "Requirement already satisfied: anyio in /Users/dileepbarla/Library/Python/3.9/lib/python/site-packages (from httpx->llama-index-core<0.11.0,>=0.10.39->llama-index->-r ./requirements.txt (line 2)) (4.3.0)\n",
      "Requirement already satisfied: certifi in /Users/dileepbarla/Library/Python/3.9/lib/python/site-packages (from httpx->llama-index-core<0.11.0,>=0.10.39->llama-index->-r ./requirements.txt (line 2)) (2024.2.2)\n",
      "Requirement already satisfied: httpcore==1.* in /Users/dileepbarla/Library/Python/3.9/lib/python/site-packages (from httpx->llama-index-core<0.11.0,>=0.10.39->llama-index->-r ./requirements.txt (line 2)) (1.0.5)\n",
      "Requirement already satisfied: idna in /Users/dileepbarla/Library/Python/3.9/lib/python/site-packages (from httpx->llama-index-core<0.11.0,>=0.10.39->llama-index->-r ./requirements.txt (line 2)) (3.7)\n",
      "Requirement already satisfied: sniffio in /Users/dileepbarla/Library/Python/3.9/lib/python/site-packages (from httpx->llama-index-core<0.11.0,>=0.10.39->llama-index->-r ./requirements.txt (line 2)) (1.3.1)\n",
      "Requirement already satisfied: h11<0.15,>=0.13 in /Users/dileepbarla/Library/Python/3.9/lib/python/site-packages (from httpcore==1.*->httpx->llama-index-core<0.11.0,>=0.10.39->llama-index->-r ./requirements.txt (line 2)) (0.14.0)\n",
      "Requirement already satisfied: click in /Users/dileepbarla/Library/Python/3.9/lib/python/site-packages (from nltk<4.0.0,>=3.8.1->llama-index-core<0.11.0,>=0.10.39->llama-index->-r ./requirements.txt (line 2)) (8.1.7)\n",
      "Requirement already satisfied: joblib in /Users/dileepbarla/Library/Python/3.9/lib/python/site-packages (from nltk<4.0.0,>=3.8.1->llama-index-core<0.11.0,>=0.10.39->llama-index->-r ./requirements.txt (line 2)) (1.4.0)\n",
      "Requirement already satisfied: regex>=2021.8.3 in /Users/dileepbarla/Library/Python/3.9/lib/python/site-packages (from nltk<4.0.0,>=3.8.1->llama-index-core<0.11.0,>=0.10.39->llama-index->-r ./requirements.txt (line 2)) (2024.4.16)\n",
      "Requirement already satisfied: distro<2,>=1.7.0 in /Users/dileepbarla/Library/Python/3.9/lib/python/site-packages (from openai>=1.14.0->llama-index-agent-openai<0.3.0,>=0.1.4->llama-index->-r ./requirements.txt (line 2)) (1.9.0)\n",
      "Requirement already satisfied: charset-normalizer<4,>=2 in /Users/dileepbarla/Library/Python/3.9/lib/python/site-packages (from requests>=2.31.0->llama-index-core<0.11.0,>=0.10.39->llama-index->-r ./requirements.txt (line 2)) (3.3.2)\n",
      "Requirement already satisfied: urllib3<3,>=1.21.1 in /Users/dileepbarla/Library/Python/3.9/lib/python/site-packages (from requests>=2.31.0->llama-index-core<0.11.0,>=0.10.39->llama-index->-r ./requirements.txt (line 2)) (2.2.1)\n",
      "Requirement already satisfied: greenlet!=0.4.17 in /Users/dileepbarla/Library/Python/3.9/lib/python/site-packages (from SQLAlchemy[asyncio]>=1.4.49->llama-index-core<0.11.0,>=0.10.39->llama-index->-r ./requirements.txt (line 2)) (3.0.3)\n",
      "Requirement already satisfied: mypy-extensions>=0.3.0 in /Users/dileepbarla/Library/Python/3.9/lib/python/site-packages (from typing-inspect>=0.8.0->llama-index-core<0.11.0,>=0.10.39->llama-index->-r ./requirements.txt (line 2)) (1.0.0)\n",
      "Requirement already satisfied: marshmallow<4.0.0,>=3.18.0 in /Users/dileepbarla/Library/Python/3.9/lib/python/site-packages (from dataclasses-json->llama-index-core<0.11.0,>=0.10.39->llama-index->-r ./requirements.txt (line 2)) (3.21.1)\n",
      "Requirement already satisfied: python-dateutil>=2.8.2 in /Users/dileepbarla/Library/Python/3.9/lib/python/site-packages (from pandas->llama-index-core<0.11.0,>=0.10.39->llama-index->-r ./requirements.txt (line 2)) (2.9.0.post0)\n",
      "Requirement already satisfied: pytz>=2020.1 in /Users/dileepbarla/Library/Python/3.9/lib/python/site-packages (from pandas->llama-index-core<0.11.0,>=0.10.39->llama-index->-r ./requirements.txt (line 2)) (2024.1)\n",
      "Requirement already satisfied: tzdata>=2022.7 in /Users/dileepbarla/Library/Python/3.9/lib/python/site-packages (from pandas->llama-index-core<0.11.0,>=0.10.39->llama-index->-r ./requirements.txt (line 2)) (2024.1)\n",
      "Requirement already satisfied: exceptiongroup>=1.0.2 in /Users/dileepbarla/Library/Python/3.9/lib/python/site-packages (from anyio->httpx->llama-index-core<0.11.0,>=0.10.39->llama-index->-r ./requirements.txt (line 2)) (1.2.1)\n",
      "Requirement already satisfied: packaging>=17.0 in /Users/dileepbarla/Library/Python/3.9/lib/python/site-packages (from marshmallow<4.0.0,>=3.18.0->dataclasses-json->llama-index-core<0.11.0,>=0.10.39->llama-index->-r ./requirements.txt (line 2)) (23.2)\n",
      "Requirement already satisfied: annotated-types>=0.4.0 in /Users/dileepbarla/Library/Python/3.9/lib/python/site-packages (from pydantic>=1.10->llamaindex-py-client<0.2.0,>=0.1.18->llama-index-core<0.11.0,>=0.10.39->llama-index->-r ./requirements.txt (line 2)) (0.6.0)\n",
      "Requirement already satisfied: pydantic-core==2.18.2 in /Users/dileepbarla/Library/Python/3.9/lib/python/site-packages (from pydantic>=1.10->llamaindex-py-client<0.2.0,>=0.1.18->llama-index-core<0.11.0,>=0.10.39->llama-index->-r ./requirements.txt (line 2)) (2.18.2)\n",
      "Requirement already satisfied: six>=1.5 in /Users/dileepbarla/Library/Python/3.9/lib/python/site-packages (from python-dateutil>=2.8.2->pandas->llama-index-core<0.11.0,>=0.10.39->llama-index->-r ./requirements.txt (line 2)) (1.16.0)\n",
      "Note: you may need to restart the kernel to use updated packages.\n"
     ]
    }
   ],
   "source": [
    "%pip install -r ./requirements.txt"
   ]
  },
  {
   "cell_type": "code",
   "execution_count": 36,
   "metadata": {},
   "outputs": [
    {
     "data": {
      "text/plain": [
       "True"
      ]
     },
     "execution_count": 36,
     "metadata": {},
     "output_type": "execute_result"
    }
   ],
   "source": [
    "from dotenv import load_dotenv\n",
    "load_dotenv()"
   ]
  },
  {
   "cell_type": "code",
   "execution_count": 4,
   "metadata": {},
   "outputs": [],
   "source": [
    "from llama_index.core import SimpleDirectoryReader"
   ]
  },
  {
   "cell_type": "code",
   "execution_count": 5,
   "metadata": {},
   "outputs": [
    {
     "name": "stderr",
     "output_type": "stream",
     "text": [
      "Ignoring wrong pointing object 7 0 (offset 0)\n",
      "Ignoring wrong pointing object 9 0 (offset 0)\n",
      "Ignoring wrong pointing object 11 0 (offset 0)\n"
     ]
    }
   ],
   "source": [
    "documents = SimpleDirectoryReader(input_files=[\"./pdf_files/mock_slide_deck_lat.pdf\"]).load_data()\n"
   ]
  },
  {
   "cell_type": "code",
   "execution_count": 9,
   "metadata": {},
   "outputs": [
    {
     "name": "stdout",
     "output_type": "stream",
     "text": [
      "[Document(id_='b1988c91-de5e-40b5-a3a6-44f27dbf1ceb', embedding=None, metadata={'page_label': '1', 'file_name': 'mock_slide_deck_lat.pdf', 'file_path': 'pdf_files/mock_slide_deck_lat.pdf', 'file_type': 'application/pdf', 'file_size': 23708, 'creation_date': '2024-05-27', 'last_modified_date': '2024-05-27'}, excluded_embed_metadata_keys=['file_name', 'file_type', 'file_size', 'creation_date', 'last_modified_date', 'last_accessed_date'], excluded_llm_metadata_keys=['file_name', 'file_type', 'file_size', 'creation_date', 'last_modified_date', 'last_accessed_date'], relationships={}, text='Current Themes and RecommendationsPreventative CareAccess to CareBehavioral HealthChronic ConditionsPharmacyThemes•Preventative care, wellness visits and cancer screenings will lead to improvement•ER utilization and urgent care visits are low•Convenience care increased •Telehealth utilized by 30% of members•30% of members had a behavioral health conditions•35% of behavioral members are dependents•25% of prescriptions dispensed without PCP visit •Obesity and hypertension were top chronic conditions, both are risk factors for Type 2 diabetes•Specialty drugs were a large part of expenses of high cost claimsRecommendationsHealthHivePreventive Care KitUse HealthHiveto schedule and track preventive care appointments.CareConnect Access PlatformMindWaveBehavioral Health AppChronicCareCompanion ProgramSpecialtyScript', start_char_idx=None, end_char_idx=None, text_template='{metadata_str}\\n\\n{content}', metadata_template='{key}: {value}', metadata_seperator='\\n'), Document(id_='c01a4816-b73d-42b4-b8b5-652f1c070fd5', embedding=None, metadata={'page_label': '2', 'file_name': 'mock_slide_deck_lat.pdf', 'file_path': 'pdf_files/mock_slide_deck_lat.pdf', 'file_type': 'application/pdf', 'file_size': 23708, 'creation_date': '2024-05-27', 'last_modified_date': '2024-05-27'}, excluded_embed_metadata_keys=['file_name', 'file_type', 'file_size', 'creation_date', 'last_modified_date', 'last_accessed_date'], excluded_llm_metadata_keys=['file_name', 'file_type', 'file_size', 'creation_date', 'last_modified_date', 'last_accessed_date'], relationships={}, text='Recommendations and Future StatePreventative/ Wellness Initiative •Use HealthHiveto schedule and track preventive care appointments.•Receive personalized reminders for recommended screenings and vaccinations.•Access educational resources to understand the importance of preventive careAccess to Care •Use CareConnect to find nearby healthcare providers and services.•Compare prices and availability to make informed choices.•Access telemedicine options for remote consultations.Behavioral •Use MindWave to access guided meditations and therapy sessions.•Track mood and progress to identify patterns and growth.•Connect with a supportive community for encouragement.Pharmacy•Use SpecialtyScript to find nearby medical specialists.•Access affordable and convenient prescription services.•Receive personalized support for medication management. ', start_char_idx=None, end_char_idx=None, text_template='{metadata_str}\\n\\n{content}', metadata_template='{key}: {value}', metadata_seperator='\\n')]\n"
     ]
    }
   ],
   "source": [
    "print(documents)"
   ]
  },
  {
   "cell_type": "code",
   "execution_count": 8,
   "metadata": {},
   "outputs": [
    {
     "name": "stderr",
     "output_type": "stream",
     "text": [
      "/Users/dileepbarla/Library/Python/3.9/lib/python/site-packages/urllib3/__init__.py:35: NotOpenSSLWarning: urllib3 v2 only supports OpenSSL 1.1.1+, currently the 'ssl' module is compiled with 'LibreSSL 2.8.3'. See: https://github.com/urllib3/urllib3/issues/3020\n",
      "  warnings.warn(\n"
     ]
    },
    {
     "name": "stdout",
     "output_type": "stream",
     "text": [
      "[TextNode(id_='122fde12-e3f8-40fb-9477-4d1bad9b6d0c', embedding=None, metadata={'page_label': '1', 'file_name': 'mock_slide_deck_lat.pdf', 'file_path': 'pdf_files/mock_slide_deck_lat.pdf', 'file_type': 'application/pdf', 'file_size': 23708, 'creation_date': '2024-05-27', 'last_modified_date': '2024-05-27'}, excluded_embed_metadata_keys=['file_name', 'file_type', 'file_size', 'creation_date', 'last_modified_date', 'last_accessed_date'], excluded_llm_metadata_keys=['file_name', 'file_type', 'file_size', 'creation_date', 'last_modified_date', 'last_accessed_date'], relationships={<NodeRelationship.SOURCE: '1'>: RelatedNodeInfo(node_id='b1988c91-de5e-40b5-a3a6-44f27dbf1ceb', node_type=<ObjectType.DOCUMENT: '4'>, metadata={'page_label': '1', 'file_name': 'mock_slide_deck_lat.pdf', 'file_path': 'pdf_files/mock_slide_deck_lat.pdf', 'file_type': 'application/pdf', 'file_size': 23708, 'creation_date': '2024-05-27', 'last_modified_date': '2024-05-27'}, hash='fec2f171bbeab052a3147cded6c79742ea5aca53245738e1f494e0528d53ccb6')}, text='Current Themes and RecommendationsPreventative CareAccess to CareBehavioral HealthChronic ConditionsPharmacyThemes•Preventative care, wellness visits and cancer screenings will lead to improvement•ER utilization and urgent care visits are low•Convenience care increased •Telehealth utilized by 30% of members•30% of members had a behavioral health conditions•35% of behavioral members are dependents•25% of prescriptions dispensed without PCP visit •Obesity and hypertension were top chronic conditions, both are risk factors for Type 2 diabetes•Specialty drugs were a large part of expenses of high cost claimsRecommendationsHealthHivePreventive Care KitUse HealthHiveto schedule and track preventive care appointments.CareConnect Access PlatformMindWaveBehavioral Health AppChronicCareCompanion ProgramSpecialtyScript', start_char_idx=0, end_char_idx=819, text_template='{metadata_str}\\n\\n{content}', metadata_template='{key}: {value}', metadata_seperator='\\n'), TextNode(id_='bd59b09c-d2e8-4ca5-a068-78faf11c2d75', embedding=None, metadata={'page_label': '2', 'file_name': 'mock_slide_deck_lat.pdf', 'file_path': 'pdf_files/mock_slide_deck_lat.pdf', 'file_type': 'application/pdf', 'file_size': 23708, 'creation_date': '2024-05-27', 'last_modified_date': '2024-05-27'}, excluded_embed_metadata_keys=['file_name', 'file_type', 'file_size', 'creation_date', 'last_modified_date', 'last_accessed_date'], excluded_llm_metadata_keys=['file_name', 'file_type', 'file_size', 'creation_date', 'last_modified_date', 'last_accessed_date'], relationships={<NodeRelationship.SOURCE: '1'>: RelatedNodeInfo(node_id='c01a4816-b73d-42b4-b8b5-652f1c070fd5', node_type=<ObjectType.DOCUMENT: '4'>, metadata={'page_label': '2', 'file_name': 'mock_slide_deck_lat.pdf', 'file_path': 'pdf_files/mock_slide_deck_lat.pdf', 'file_type': 'application/pdf', 'file_size': 23708, 'creation_date': '2024-05-27', 'last_modified_date': '2024-05-27'}, hash='a009470813ec877ecb6d04e252c54e817f6b1c048061d11d76669b76129c4f09')}, text='Recommendations and Future StatePreventative/ Wellness Initiative •Use HealthHiveto schedule and track preventive care appointments.•Receive personalized reminders for recommended screenings and vaccinations.•Access educational resources to understand the importance of preventive careAccess to Care •Use CareConnect to find nearby healthcare providers and services.•Compare prices and availability to make informed choices.•Access telemedicine options for remote consultations.Behavioral •Use MindWave to access guided meditations and therapy sessions.•Track mood and progress to identify patterns and growth.•Connect with a supportive community for encouragement.Pharmacy•Use SpecialtyScript to find nearby medical specialists.•Access affordable and convenient prescription services.•Receive personalized support for medication management.', start_char_idx=0, end_char_idx=841, text_template='{metadata_str}\\n\\n{content}', metadata_template='{key}: {value}', metadata_seperator='\\n')]\n"
     ]
    }
   ],
   "source": [
    "from llama_index.core.node_parser import SentenceSplitter\n",
    "\n",
    "# chunk_size of 1024 is a good default value\n",
    "splitter = SentenceSplitter(chunk_size=1024)\n",
    "# Create nodes from documents\n",
    "nodes = splitter.get_nodes_from_documents(documents)\n",
    "print(nodes)"
   ]
  },
  {
   "cell_type": "code",
   "execution_count": 10,
   "metadata": {},
   "outputs": [
    {
     "name": "stdout",
     "output_type": "stream",
     "text": [
      "page_label: 2\n",
      "file_name: mock_slide_deck_lat.pdf\n",
      "file_path: pdf_files/mock_slide_deck_lat.pdf\n",
      "file_type: application/pdf\n",
      "file_size: 23708\n",
      "creation_date: 2024-05-27\n",
      "last_modified_date: 2024-05-27\n",
      "\n",
      "Recommendations and Future StatePreventative/ Wellness Initiative •Use HealthHiveto schedule and track preventive care appointments.•Receive personalized reminders for recommended screenings and vaccinations.•Access educational resources to understand the importance of preventive careAccess to Care •Use CareConnect to find nearby healthcare providers and services.•Compare prices and availability to make informed choices.•Access telemedicine options for remote consultations.Behavioral •Use MindWave to access guided meditations and therapy sessions.•Track mood and progress to identify patterns and growth.•Connect with a supportive community for encouragement.Pharmacy•Use SpecialtyScript to find nearby medical specialists.•Access affordable and convenient prescription services.•Receive personalized support for medication management.\n"
     ]
    }
   ],
   "source": [
    "node_metadata = nodes[1].get_content(metadata_mode=True)\n",
    "print(node_metadata)"
   ]
  },
  {
   "cell_type": "code",
   "execution_count": 37,
   "metadata": {},
   "outputs": [],
   "source": [
    "from llama_index.core import Settings\n",
    "from llama_index.llms.openai import OpenAI\n",
    "from llama_index.embeddings.openai import OpenAIEmbedding\n",
    "\n",
    "# LLM model\n",
    "Settings.llm = OpenAI(model=\"gpt-4\")\n",
    "# embedding model\n",
    "Settings.embed_model = OpenAIEmbedding()"
   ]
  },
  {
   "cell_type": "code",
   "execution_count": 38,
   "metadata": {},
   "outputs": [],
   "source": [
    "from llama_index.core import SummaryIndex, VectorStoreIndex\n",
    "\n",
    "# summary index\n",
    "summary_index = SummaryIndex(nodes)\n"
   ]
  },
  {
   "cell_type": "code",
   "execution_count": 39,
   "metadata": {},
   "outputs": [],
   "source": [
    "# vector store index\n",
    "vector_index = VectorStoreIndex(nodes)\n"
   ]
  },
  {
   "cell_type": "code",
   "execution_count": 40,
   "metadata": {},
   "outputs": [],
   "source": [
    "# summary query engine\n",
    "summary_query_engine = summary_index.as_query_engine(\n",
    "    response_mode=\"tree_summarize\",\n",
    "    use_async=True,\n",
    ")\n",
    "\n",
    "# vector query engine\n",
    "vector_query_engine = vector_index.as_query_engine()"
   ]
  },
  {
   "cell_type": "code",
   "execution_count": 42,
   "metadata": {},
   "outputs": [],
   "source": [
    "from llama_index.core.tools import QueryEngineTool\n",
    "\n",
    "\n",
    "summary_tool = QueryEngineTool.from_defaults(\n",
    "    query_engine=summary_query_engine,\n",
    "    description=(\n",
    "        \"Useful for summarization questions related to the recommendations.\"\n",
    "    ),\n",
    ")\n",
    "\n",
    "vector_tool = QueryEngineTool.from_defaults(\n",
    "    query_engine=vector_query_engine,\n",
    "    description=(\n",
    "        \"Useful for retrieving specific context from the the recommendations.\"\n",
    "    ),\n",
    ")"
   ]
  },
  {
   "cell_type": "code",
   "execution_count": 43,
   "metadata": {},
   "outputs": [],
   "source": [
    "from llama_index.core.query_engine.router_query_engine import RouterQueryEngine\n",
    "from llama_index.core.selectors import LLMSingleSelector\n",
    "\n",
    "\n",
    "query_engine = RouterQueryEngine(\n",
    "    selector=LLMSingleSelector.from_defaults(),\n",
    "    query_engine_tools=[\n",
    "        summary_tool,\n",
    "        vector_tool,\n",
    "    ],\n",
    "    verbose=True\n",
    ")"
   ]
  },
  {
   "cell_type": "code",
   "execution_count": 44,
   "metadata": {},
   "outputs": [
    {
     "name": "stdout",
     "output_type": "stream",
     "text": [
      "\u001b[1;3;38;5;200mSelecting query engine 0: The first choice is more relevant to the question because it pertains to summarizing recommendations, which is similar to summarizing a document..\n",
      "\u001b[0mThe document discusses current themes and recommendations in healthcare, focusing on preventative care, access to care, behavioral health, chronic conditions, and pharmacy. It highlights the importance of preventative care, wellness visits, and cancer screenings, and notes that 30% of members utilize telehealth and have a behavioral health condition. It also mentions that obesity and hypertension are the top chronic conditions, and that specialty drugs account for a large part of high-cost claims. The document recommends using various platforms and apps like HealthHive, CareConnect, MindWave, and SpecialtyScript for scheduling and tracking preventive care appointments, finding healthcare providers, accessing therapy sessions, and managing medications.\n"
     ]
    }
   ],
   "source": [
    "response = query_engine.query(\"What is the summary of the document?\")\n",
    "print(str(response))"
   ]
  },
  {
   "cell_type": "code",
   "execution_count": 45,
   "metadata": {},
   "outputs": [
    {
     "name": "stdout",
     "output_type": "stream",
     "text": [
      "2\n"
     ]
    }
   ],
   "source": [
    "print(len(response.source_nodes))"
   ]
  },
  {
   "cell_type": "code",
   "execution_count": 46,
   "metadata": {},
   "outputs": [
    {
     "name": "stdout",
     "output_type": "stream",
     "text": [
      "\u001b[1;3;38;5;200mSelecting query engine 1: The question is asking for specific information (themes for preventive care) from the recommendations, which aligns with choice 2..\n",
      "\u001b[0mThe themes for preventive care include wellness visits, cancer screenings, and the belief that these will lead to improvement. Additionally, the use of telehealth by 30% of members and the increase in convenience care are also highlighted.\n"
     ]
    }
   ],
   "source": [
    "response = query_engine.query(\"What are the themes for preventive care?\")\n",
    "print(str(response))"
   ]
  }
 ],
 "metadata": {
  "kernelspec": {
   "display_name": "my-python3-kernel-jupyter",
   "language": "python",
   "name": "my-python3-kernel-jupyter"
  },
  "language_info": {
   "codemirror_mode": {
    "name": "ipython",
    "version": 3
   },
   "file_extension": ".py",
   "mimetype": "text/x-python",
   "name": "python",
   "nbconvert_exporter": "python",
   "pygments_lexer": "ipython3",
   "version": "3.9.6"
  }
 },
 "nbformat": 4,
 "nbformat_minor": 2
}
