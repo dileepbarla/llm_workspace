{
 "cells": [
  {
   "cell_type": "code",
   "execution_count": 2,
   "metadata": {},
   "outputs": [
    {
     "name": "stderr",
     "output_type": "stream",
     "text": [
      "/Users/dileepbarla/Library/Python/3.9/lib/python/site-packages/urllib3/__init__.py:35: NotOpenSSLWarning: urllib3 v2 only supports OpenSSL 1.1.1+, currently the 'ssl' module is compiled with 'LibreSSL 2.8.3'. See: https://github.com/urllib3/urllib3/issues/3020\n",
      "  warnings.warn(\n"
     ]
    }
   ],
   "source": [
    "from langchain_community.document_loaders import UnstructuredExcelLoader"
   ]
  },
  {
   "cell_type": "code",
   "execution_count": null,
   "metadata": {},
   "outputs": [],
   "source": [
    "%pip install -r ./requirements.txt"
   ]
  },
  {
   "cell_type": "code",
   "execution_count": 9,
   "metadata": {},
   "outputs": [
    {
     "data": {
      "text/plain": [
       "True"
      ]
     },
     "execution_count": 9,
     "metadata": {},
     "output_type": "execute_result"
    }
   ],
   "source": [
    "from dotenv import load_dotenv\n",
    "load_dotenv()"
   ]
  },
  {
   "cell_type": "markdown",
   "metadata": {},
   "source": [
    "Read xl to Pandas dataframe, multiple products under same theme"
   ]
  },
  {
   "cell_type": "code",
   "execution_count": 179,
   "metadata": {},
   "outputs": [
    {
     "data": {
      "text/html": [
       "<div>\n",
       "<style scoped>\n",
       "    .dataframe tbody tr th:only-of-type {\n",
       "        vertical-align: middle;\n",
       "    }\n",
       "\n",
       "    .dataframe tbody tr th {\n",
       "        vertical-align: top;\n",
       "    }\n",
       "\n",
       "    .dataframe thead th {\n",
       "        text-align: right;\n",
       "    }\n",
       "</style>\n",
       "<table border=\"1\" class=\"dataframe\">\n",
       "  <thead>\n",
       "    <tr style=\"text-align: right;\">\n",
       "      <th></th>\n",
       "      <th>Product/ Reporting Category*</th>\n",
       "      <th>Observation</th>\n",
       "      <th>Recommendation 1</th>\n",
       "      <th>Recommendation 2</th>\n",
       "      <th>Recommendation 3</th>\n",
       "      <th>Why</th>\n",
       "    </tr>\n",
       "  </thead>\n",
       "  <tbody>\n",
       "    <tr>\n",
       "      <th>0</th>\n",
       "      <td>HealthHive Preventive Care Kit</td>\n",
       "      <td>70% of our 10,000 members have reported diffic...</td>\n",
       "      <td>Use HealthHive to schedule and track preventiv...</td>\n",
       "      <td>NaN</td>\n",
       "      <td>NaN</td>\n",
       "      <td>Regular screenings detect health issues early....</td>\n",
       "    </tr>\n",
       "    <tr>\n",
       "      <th>1</th>\n",
       "      <td>CareConnect Access Platform</td>\n",
       "      <td>75% of our 5,000 members have expressed a desi...</td>\n",
       "      <td>Use CareConnect to find nearby healthcare prov...</td>\n",
       "      <td>NaN</td>\n",
       "      <td>NaN</td>\n",
       "      <td>Convenient access reduces healthcare barriers....</td>\n",
       "    </tr>\n",
       "    <tr>\n",
       "      <th>2</th>\n",
       "      <td>MindWave Behavioral Health App</td>\n",
       "      <td>90% of our 12,000 members have reported experi...</td>\n",
       "      <td>Use MindWave to access guided meditations and ...</td>\n",
       "      <td>NaN</td>\n",
       "      <td>NaN</td>\n",
       "      <td>Mindfulness practices reduce stress and anxiet...</td>\n",
       "    </tr>\n",
       "    <tr>\n",
       "      <th>3</th>\n",
       "      <td>ChronicCare Companion Program</td>\n",
       "      <td>75% of our 9,000 members have reported feeling...</td>\n",
       "      <td>Use ChronicCare to track medication and appoin...</td>\n",
       "      <td>NaN</td>\n",
       "      <td>NaN</td>\n",
       "      <td>Tracking and coaching improve condition manage...</td>\n",
       "    </tr>\n",
       "    <tr>\n",
       "      <th>4</th>\n",
       "      <td>SpecialtyScript Medical Specialty RX</td>\n",
       "      <td>85% of our 11,000 members have reported diffic...</td>\n",
       "      <td>Use SpecialtyScript to find nearby medical spe...</td>\n",
       "      <td>NaN</td>\n",
       "      <td>NaN</td>\n",
       "      <td>Specialized care addresses complex health need...</td>\n",
       "    </tr>\n",
       "    <tr>\n",
       "      <th>5</th>\n",
       "      <td>HealthHero Preventive Care Chatbot</td>\n",
       "      <td>65% of our 9,000 members have reported having ...</td>\n",
       "      <td>Use HealthHero to ask questions and receive pe...</td>\n",
       "      <td>NaN</td>\n",
       "      <td>NaN</td>\n",
       "      <td>Easy access to information empowers informed d...</td>\n",
       "    </tr>\n",
       "    <tr>\n",
       "      <th>6</th>\n",
       "      <td>MindfulMind Behavioral Health App</td>\n",
       "      <td>85% of our 10,500 members have reported experi...</td>\n",
       "      <td>Use MindfulMind to access guided meditations a...</td>\n",
       "      <td>NaN</td>\n",
       "      <td>NaN</td>\n",
       "      <td>Mindfulness practices reduce stress and anxiet...</td>\n",
       "    </tr>\n",
       "    <tr>\n",
       "      <th>7</th>\n",
       "      <td>ChronicCarePlus Chronic Conditions Program</td>\n",
       "      <td>80% of our 9,500 members have reported feeling...</td>\n",
       "      <td>Use ChronicCarePlus to track medication and ap...</td>\n",
       "      <td>NaN</td>\n",
       "      <td>NaN</td>\n",
       "      <td>Tracking and coaching improve condition manage...</td>\n",
       "    </tr>\n",
       "    <tr>\n",
       "      <th>8</th>\n",
       "      <td>CareBridge Access to Care Platform</td>\n",
       "      <td>70% of our 8,500 members have reported difficu...</td>\n",
       "      <td>Use CareBridge to find nearby healthcare provi...</td>\n",
       "      <td>NaN</td>\n",
       "      <td>NaN</td>\n",
       "      <td>Convenient access reduces healthcare barriers....</td>\n",
       "    </tr>\n",
       "    <tr>\n",
       "      <th>9</th>\n",
       "      <td>SpecialtyCare Medical Specialty RX</td>\n",
       "      <td>90% of our 11,500 members have reported diffic...</td>\n",
       "      <td>Use SpecialtyCare to find nearby medical speci...</td>\n",
       "      <td>NaN</td>\n",
       "      <td>NaN</td>\n",
       "      <td>Specialized care addresses complex health need...</td>\n",
       "    </tr>\n",
       "  </tbody>\n",
       "</table>\n",
       "</div>"
      ],
      "text/plain": [
       "                 Product/ Reporting Category*  \\\n",
       "0              HealthHive Preventive Care Kit   \n",
       "1                 CareConnect Access Platform   \n",
       "2              MindWave Behavioral Health App   \n",
       "3               ChronicCare Companion Program   \n",
       "4        SpecialtyScript Medical Specialty RX   \n",
       "5          HealthHero Preventive Care Chatbot   \n",
       "6           MindfulMind Behavioral Health App   \n",
       "7  ChronicCarePlus Chronic Conditions Program   \n",
       "8          CareBridge Access to Care Platform   \n",
       "9          SpecialtyCare Medical Specialty RX   \n",
       "\n",
       "                                         Observation  \\\n",
       "0  70% of our 10,000 members have reported diffic...   \n",
       "1  75% of our 5,000 members have expressed a desi...   \n",
       "2  90% of our 12,000 members have reported experi...   \n",
       "3  75% of our 9,000 members have reported feeling...   \n",
       "4  85% of our 11,000 members have reported diffic...   \n",
       "5  65% of our 9,000 members have reported having ...   \n",
       "6  85% of our 10,500 members have reported experi...   \n",
       "7  80% of our 9,500 members have reported feeling...   \n",
       "8  70% of our 8,500 members have reported difficu...   \n",
       "9  90% of our 11,500 members have reported diffic...   \n",
       "\n",
       "                                    Recommendation 1  Recommendation 2  \\\n",
       "0  Use HealthHive to schedule and track preventiv...               NaN   \n",
       "1  Use CareConnect to find nearby healthcare prov...               NaN   \n",
       "2  Use MindWave to access guided meditations and ...               NaN   \n",
       "3  Use ChronicCare to track medication and appoin...               NaN   \n",
       "4  Use SpecialtyScript to find nearby medical spe...               NaN   \n",
       "5  Use HealthHero to ask questions and receive pe...               NaN   \n",
       "6  Use MindfulMind to access guided meditations a...               NaN   \n",
       "7  Use ChronicCarePlus to track medication and ap...               NaN   \n",
       "8  Use CareBridge to find nearby healthcare provi...               NaN   \n",
       "9  Use SpecialtyCare to find nearby medical speci...               NaN   \n",
       "\n",
       "   Recommendation 3                                                Why  \n",
       "0               NaN  Regular screenings detect health issues early....  \n",
       "1               NaN  Convenient access reduces healthcare barriers....  \n",
       "2               NaN  Mindfulness practices reduce stress and anxiet...  \n",
       "3               NaN  Tracking and coaching improve condition manage...  \n",
       "4               NaN  Specialized care addresses complex health need...  \n",
       "5               NaN  Easy access to information empowers informed d...  \n",
       "6               NaN  Mindfulness practices reduce stress and anxiet...  \n",
       "7               NaN  Tracking and coaching improve condition manage...  \n",
       "8               NaN  Convenient access reduces healthcare barriers....  \n",
       "9               NaN  Specialized care addresses complex health need...  "
      ]
     },
     "execution_count": 179,
     "metadata": {},
     "output_type": "execute_result"
    }
   ],
   "source": [
    "import pandas as pd\n",
    "mock_df = pd.read_excel(\"xlfiles/mock_recomm_library_lat.xlsx\")\n",
    "mock_df"
   ]
  },
  {
   "cell_type": "markdown",
   "metadata": {},
   "source": [
    "Import Pandas dataframe agent"
   ]
  },
  {
   "cell_type": "code",
   "execution_count": 21,
   "metadata": {},
   "outputs": [],
   "source": [
    "from langchain_experimental.agents.agent_toolkits import create_pandas_dataframe_agent"
   ]
  },
  {
   "cell_type": "markdown",
   "metadata": {},
   "source": [
    "Zero shot Reasoning"
   ]
  },
  {
   "cell_type": "code",
   "execution_count": 22,
   "metadata": {},
   "outputs": [],
   "source": [
    "import pandas as pd\n",
    "from langchain_openai import OpenAI"
   ]
  },
  {
   "cell_type": "markdown",
   "metadata": {},
   "source": [
    "Prepare Prompt "
   ]
  },
  {
   "cell_type": "code",
   "execution_count": 193,
   "metadata": {},
   "outputs": [],
   "source": [
    "Prompt = \"\"\"\n",
    "        You have to remember the below product & theme relationship. From the user query find the theme by referring below product & theme relationship and search the dataframe to Provide Product/ Reporting Category and recommendations corresponding to the theme. if you found multiple Product/ Reporting Category for the theme please provide recommendations for all.\n",
    "\n",
    "            1) HealthHive Preventive care Kit Product/ Reporting Category and HealthHero Preventive Care Chatbot  Product/ Reporting Category are related to Preventive care theme.\n",
    "            2) CareBridge Access to Care Platform  Product/ Reporting Category and Careconnect Access Platform Kit Product/ Reporting Category are related to Access to care theme.\n",
    "            3) MindWave Behavioral Kit Product/ Reporting Category is related to Behavioral theme.\n",
    "            4) ChronicCare Program Kit Product/ Reporting Category is related to Chronic theme\n",
    "            5) Specialityscript Medical Kit Product/ Reporting Category is related to Pharmacy theme.\n",
    "       \n",
    "        \"\"\""
   ]
  },
  {
   "cell_type": "markdown",
   "metadata": {},
   "source": [
    "Create Pandas Dataframe Agent"
   ]
  },
  {
   "cell_type": "code",
   "execution_count": 194,
   "metadata": {},
   "outputs": [],
   "source": [
    "df_agent = create_pandas_dataframe_agent(OpenAI(temperature=0), mock_df,  prefix=Prompt, verbose=True)"
   ]
  },
  {
   "cell_type": "markdown",
   "metadata": {},
   "source": [
    "Invoke user query"
   ]
  },
  {
   "cell_type": "code",
   "execution_count": 135,
   "metadata": {},
   "outputs": [],
   "source": [
    "# agent = create_pandas_dataframe_agent(OpenAI(temperature=0), dataframe1, verbose=True,\n",
    "#                                        prefix=\"You have to remember the product & theme mapping. Here are the Themes & products. HealthHive Preventive care Kit for Preventive care theme. Careconnect Access Platform for Access to care theme. You are supposed to provide recommendations according to the theme & products mapping\")"
   ]
  },
  {
   "cell_type": "code",
   "execution_count": 195,
   "metadata": {},
   "outputs": [
    {
     "name": "stdout",
     "output_type": "stream",
     "text": [
      "\n",
      "\n",
      "\u001b[1m> Entering new AgentExecutor chain...\u001b[0m\n",
      "\u001b[32;1m\u001b[1;3mThought: I should find the theme in the dataframe and then retrieve the corresponding recommendations.\n",
      "Action: python_repl_ast\n",
      "Action Input: df[df['Product/ Reporting Category*'].str.contains('Preventive care')]\u001b[0m\u001b[36;1m\u001b[1;3mEmpty DataFrame\n",
      "Columns: [Product/ Reporting Category*, Observation, Recommendation 1, Recommendation 2, Recommendation 3, Why]\n",
      "Index: []\u001b[0m\u001b[32;1m\u001b[1;3mI should check for any typos or formatting differences in the dataframe.\n",
      "Action: python_repl_ast\n",
      "Action Input: df['Product/ Reporting Category*'].unique()\u001b[0m\u001b[36;1m\u001b[1;3m['HealthHive Preventive Care Kit' 'CareConnect Access Platform'\n",
      " 'MindWave Behavioral Health App' 'ChronicCare Companion Program'\n",
      " 'SpecialtyScript Medical Specialty RX'\n",
      " 'HealthHero Preventive Care Chatbot' 'MindfulMind Behavioral Health App'\n",
      " 'ChronicCarePlus Chronic Conditions Program'\n",
      " 'CareBridge Access to Care Platform' 'SpecialtyCare Medical Specialty RX']\u001b[0m\u001b[32;1m\u001b[1;3m I should try searching for the theme using a different keyword.\n",
      "Action: python_repl_ast\n",
      "Action Input: df[df['Product/ Reporting Category*'].str.contains('Preventive')]\u001b[0m\u001b[36;1m\u001b[1;3m         Product/ Reporting Category*  \\\n",
      "0      HealthHive Preventive Care Kit   \n",
      "5  HealthHero Preventive Care Chatbot   \n",
      "\n",
      "                                         Observation  \\\n",
      "0  70% of our 10,000 members have reported diffic...   \n",
      "5  65% of our 9,000 members have reported having ...   \n",
      "\n",
      "                                    Recommendation 1  Recommendation 2  \\\n",
      "0  Use HealthHive to schedule and track preventiv...               NaN   \n",
      "5  Use HealthHero to ask questions and receive pe...               NaN   \n",
      "\n",
      "   Recommendation 3                                                Why  \n",
      "0               NaN  Regular screenings detect health issues early....  \n",
      "5               NaN  Easy access to information empowers informed d...  \u001b[0m\u001b[32;1m\u001b[1;3m I now know the final answer\n",
      "Final Answer: The recommendations for Preventive care theme are to use HealthHive to schedule and track preventive care appointments, receive personalized reminders for recommended screenings and vaccinations, access educational resources to understand the importance of preventive care, and use HealthHero to ask questions and receive personalized responses for preventive care.\u001b[0m\n",
      "\n",
      "\u001b[1m> Finished chain.\u001b[0m\n"
     ]
    },
    {
     "data": {
      "text/plain": [
       "{'input': 'what are the recommendations for Preventive care theme?',\n",
       " 'output': 'The recommendations for Preventive care theme are to use HealthHive to schedule and track preventive care appointments, receive personalized reminders for recommended screenings and vaccinations, access educational resources to understand the importance of preventive care, and use HealthHero to ask questions and receive personalized responses for preventive care.'}"
      ]
     },
     "execution_count": 195,
     "metadata": {},
     "output_type": "execute_result"
    }
   ],
   "source": [
    "df_agent.invoke(\"what are the recommendations for Preventive care theme?\")"
   ]
  },
  {
   "cell_type": "markdown",
   "metadata": {},
   "source": [
    "Add themes to XL"
   ]
  },
  {
   "cell_type": "code",
   "execution_count": 196,
   "metadata": {},
   "outputs": [
    {
     "data": {
      "text/html": [
       "<div>\n",
       "<style scoped>\n",
       "    .dataframe tbody tr th:only-of-type {\n",
       "        vertical-align: middle;\n",
       "    }\n",
       "\n",
       "    .dataframe tbody tr th {\n",
       "        vertical-align: top;\n",
       "    }\n",
       "\n",
       "    .dataframe thead th {\n",
       "        text-align: right;\n",
       "    }\n",
       "</style>\n",
       "<table border=\"1\" class=\"dataframe\">\n",
       "  <thead>\n",
       "    <tr style=\"text-align: right;\">\n",
       "      <th></th>\n",
       "      <th>Product/ Reporting Category*</th>\n",
       "      <th>Observation</th>\n",
       "      <th>Recommendation 1</th>\n",
       "      <th>Recommendation 2</th>\n",
       "      <th>Recommendation 3</th>\n",
       "      <th>Why</th>\n",
       "      <th>Themes</th>\n",
       "    </tr>\n",
       "  </thead>\n",
       "  <tbody>\n",
       "    <tr>\n",
       "      <th>0</th>\n",
       "      <td>HealthHive Preventive Care Kit</td>\n",
       "      <td>70% of our 10,000 members have reported diffic...</td>\n",
       "      <td>Use HealthHive to schedule and track preventiv...</td>\n",
       "      <td>NaN</td>\n",
       "      <td>NaN</td>\n",
       "      <td>Regular screenings detect health issues early....</td>\n",
       "      <td>Preventative Care</td>\n",
       "    </tr>\n",
       "    <tr>\n",
       "      <th>1</th>\n",
       "      <td>CareConnect Access Platform</td>\n",
       "      <td>75% of our 5,000 members have expressed a desi...</td>\n",
       "      <td>Use CareConnect to find nearby healthcare prov...</td>\n",
       "      <td>NaN</td>\n",
       "      <td>NaN</td>\n",
       "      <td>Convenient access reduces healthcare barriers....</td>\n",
       "      <td>Access to Care</td>\n",
       "    </tr>\n",
       "    <tr>\n",
       "      <th>2</th>\n",
       "      <td>MindWave Behavioral Health App</td>\n",
       "      <td>90% of our 12,000 members have reported experi...</td>\n",
       "      <td>Use MindWave to access guided meditations and ...</td>\n",
       "      <td>NaN</td>\n",
       "      <td>NaN</td>\n",
       "      <td>Mindfulness practices reduce stress and anxiet...</td>\n",
       "      <td>Behavioral Health</td>\n",
       "    </tr>\n",
       "    <tr>\n",
       "      <th>3</th>\n",
       "      <td>ChronicCare Companion Program</td>\n",
       "      <td>75% of our 9,000 members have reported feeling...</td>\n",
       "      <td>Use ChronicCare to track medication and appoin...</td>\n",
       "      <td>NaN</td>\n",
       "      <td>NaN</td>\n",
       "      <td>Tracking and coaching improve condition manage...</td>\n",
       "      <td>Chronic Conditions</td>\n",
       "    </tr>\n",
       "    <tr>\n",
       "      <th>4</th>\n",
       "      <td>SpecialtyScript Medical Specialty RX</td>\n",
       "      <td>85% of our 11,000 members have reported diffic...</td>\n",
       "      <td>Use SpecialtyScript to find nearby medical spe...</td>\n",
       "      <td>NaN</td>\n",
       "      <td>NaN</td>\n",
       "      <td>Specialized care addresses complex health need...</td>\n",
       "      <td>Pharmacy</td>\n",
       "    </tr>\n",
       "    <tr>\n",
       "      <th>5</th>\n",
       "      <td>HealthHero Preventive Care Chatbot</td>\n",
       "      <td>65% of our 9,000 members have reported having ...</td>\n",
       "      <td>Use HealthHero to ask questions and receive pe...</td>\n",
       "      <td>NaN</td>\n",
       "      <td>NaN</td>\n",
       "      <td>Easy access to information empowers informed d...</td>\n",
       "      <td>Preventative Care</td>\n",
       "    </tr>\n",
       "    <tr>\n",
       "      <th>6</th>\n",
       "      <td>MindfulMind Behavioral Health App</td>\n",
       "      <td>85% of our 10,500 members have reported experi...</td>\n",
       "      <td>Use MindfulMind to access guided meditations a...</td>\n",
       "      <td>NaN</td>\n",
       "      <td>NaN</td>\n",
       "      <td>Mindfulness practices reduce stress and anxiet...</td>\n",
       "      <td>Behavioral Health</td>\n",
       "    </tr>\n",
       "    <tr>\n",
       "      <th>7</th>\n",
       "      <td>ChronicCarePlus Chronic Conditions Program</td>\n",
       "      <td>80% of our 9,500 members have reported feeling...</td>\n",
       "      <td>Use ChronicCarePlus to track medication and ap...</td>\n",
       "      <td>NaN</td>\n",
       "      <td>NaN</td>\n",
       "      <td>Tracking and coaching improve condition manage...</td>\n",
       "      <td>Chronic Conditions</td>\n",
       "    </tr>\n",
       "    <tr>\n",
       "      <th>8</th>\n",
       "      <td>CareBridge Access to Care Platform</td>\n",
       "      <td>70% of our 8,500 members have reported difficu...</td>\n",
       "      <td>Use CareBridge to find nearby healthcare provi...</td>\n",
       "      <td>NaN</td>\n",
       "      <td>NaN</td>\n",
       "      <td>Convenient access reduces healthcare barriers....</td>\n",
       "      <td>Access to Care</td>\n",
       "    </tr>\n",
       "    <tr>\n",
       "      <th>9</th>\n",
       "      <td>SpecialtyCare Medical Specialty RX</td>\n",
       "      <td>90% of our 11,500 members have reported diffic...</td>\n",
       "      <td>Use SpecialtyCare to find nearby medical speci...</td>\n",
       "      <td>NaN</td>\n",
       "      <td>NaN</td>\n",
       "      <td>Specialized care addresses complex health need...</td>\n",
       "      <td>Pharmacy</td>\n",
       "    </tr>\n",
       "  </tbody>\n",
       "</table>\n",
       "</div>"
      ],
      "text/plain": [
       "                 Product/ Reporting Category*  \\\n",
       "0              HealthHive Preventive Care Kit   \n",
       "1                 CareConnect Access Platform   \n",
       "2              MindWave Behavioral Health App   \n",
       "3               ChronicCare Companion Program   \n",
       "4        SpecialtyScript Medical Specialty RX   \n",
       "5          HealthHero Preventive Care Chatbot   \n",
       "6           MindfulMind Behavioral Health App   \n",
       "7  ChronicCarePlus Chronic Conditions Program   \n",
       "8          CareBridge Access to Care Platform   \n",
       "9          SpecialtyCare Medical Specialty RX   \n",
       "\n",
       "                                         Observation  \\\n",
       "0  70% of our 10,000 members have reported diffic...   \n",
       "1  75% of our 5,000 members have expressed a desi...   \n",
       "2  90% of our 12,000 members have reported experi...   \n",
       "3  75% of our 9,000 members have reported feeling...   \n",
       "4  85% of our 11,000 members have reported diffic...   \n",
       "5  65% of our 9,000 members have reported having ...   \n",
       "6  85% of our 10,500 members have reported experi...   \n",
       "7  80% of our 9,500 members have reported feeling...   \n",
       "8  70% of our 8,500 members have reported difficu...   \n",
       "9  90% of our 11,500 members have reported diffic...   \n",
       "\n",
       "                                    Recommendation 1  Recommendation 2  \\\n",
       "0  Use HealthHive to schedule and track preventiv...               NaN   \n",
       "1  Use CareConnect to find nearby healthcare prov...               NaN   \n",
       "2  Use MindWave to access guided meditations and ...               NaN   \n",
       "3  Use ChronicCare to track medication and appoin...               NaN   \n",
       "4  Use SpecialtyScript to find nearby medical spe...               NaN   \n",
       "5  Use HealthHero to ask questions and receive pe...               NaN   \n",
       "6  Use MindfulMind to access guided meditations a...               NaN   \n",
       "7  Use ChronicCarePlus to track medication and ap...               NaN   \n",
       "8  Use CareBridge to find nearby healthcare provi...               NaN   \n",
       "9  Use SpecialtyCare to find nearby medical speci...               NaN   \n",
       "\n",
       "   Recommendation 3                                                Why  \\\n",
       "0               NaN  Regular screenings detect health issues early....   \n",
       "1               NaN  Convenient access reduces healthcare barriers....   \n",
       "2               NaN  Mindfulness practices reduce stress and anxiet...   \n",
       "3               NaN  Tracking and coaching improve condition manage...   \n",
       "4               NaN  Specialized care addresses complex health need...   \n",
       "5               NaN  Easy access to information empowers informed d...   \n",
       "6               NaN  Mindfulness practices reduce stress and anxiet...   \n",
       "7               NaN  Tracking and coaching improve condition manage...   \n",
       "8               NaN  Convenient access reduces healthcare barriers....   \n",
       "9               NaN  Specialized care addresses complex health need...   \n",
       "\n",
       "               Themes  \n",
       "0   Preventative Care  \n",
       "1      Access to Care  \n",
       "2   Behavioral Health  \n",
       "3  Chronic Conditions  \n",
       "4            Pharmacy  \n",
       "5   Preventative Care  \n",
       "6   Behavioral Health  \n",
       "7  Chronic Conditions  \n",
       "8      Access to Care  \n",
       "9            Pharmacy  "
      ]
     },
     "execution_count": 196,
     "metadata": {},
     "output_type": "execute_result"
    }
   ],
   "source": [
    "import pandas as pd\n",
    "mock_df = pd.read_excel(\"xlfiles/mock_recomm_library_latest.xlsx\")\n",
    "mock_df"
   ]
  },
  {
   "cell_type": "code",
   "execution_count": 197,
   "metadata": {},
   "outputs": [],
   "source": [
    "df_agent = create_pandas_dataframe_agent(OpenAI(temperature=0), mock_df, verbose=True)"
   ]
  },
  {
   "cell_type": "code",
   "execution_count": 199,
   "metadata": {},
   "outputs": [
    {
     "name": "stdout",
     "output_type": "stream",
     "text": [
      "\n",
      "\n",
      "\u001b[1m> Entering new AgentExecutor chain...\u001b[0m\n",
      "\u001b[32;1m\u001b[1;3mThought: I should filter the dataframe to only show rows with the \"Themes\" column equal to \"Preventative Care\"\n",
      "Action: python_repl_ast\n",
      "Action Input: df[df[\"Themes\"] == \"Preventative Care\"]\u001b[0m\u001b[36;1m\u001b[1;3m         Product/ Reporting Category*  \\\n",
      "0      HealthHive Preventive Care Kit   \n",
      "5  HealthHero Preventive Care Chatbot   \n",
      "\n",
      "                                         Observation  \\\n",
      "0  70% of our 10,000 members have reported diffic...   \n",
      "5  65% of our 9,000 members have reported having ...   \n",
      "\n",
      "                                    Recommendation 1  Recommendation 2  \\\n",
      "0  Use HealthHive to schedule and track preventiv...               NaN   \n",
      "5  Use HealthHero to ask questions and receive pe...               NaN   \n",
      "\n",
      "   Recommendation 3                                                Why  \\\n",
      "0               NaN  Regular screenings detect health issues early....   \n",
      "5               NaN  Easy access to information empowers informed d...   \n",
      "\n",
      "              Themes  \n",
      "0  Preventative Care  \n",
      "5  Preventative Care  \u001b[0m\u001b[32;1m\u001b[1;3m I should select the \"Recommendation 1\" column to see the specific recommendations.\n",
      "Action: python_repl_ast\n",
      "Action Input: df[df[\"Themes\"] == \"Preventative Care\"][\"Recommendation 1\"]\u001b[0m\u001b[36;1m\u001b[1;3m0    Use HealthHive to schedule and track preventiv...\n",
      "5    Use HealthHero to ask questions and receive pe...\n",
      "Name: Recommendation 1, dtype: object\u001b[0m\u001b[32;1m\u001b[1;3m I now know the final answer.\n",
      "Final Answer: The recommendations for Preventive care are to use HealthHive to schedule and track preventive care appointments and to use HealthHero to ask questions and receive personalized responses.\u001b[0m\n",
      "\n",
      "\u001b[1m> Finished chain.\u001b[0m\n"
     ]
    },
    {
     "data": {
      "text/plain": [
       "{'input': 'what are the recommendations for Preventive care?',\n",
       " 'output': 'The recommendations for Preventive care are to use HealthHive to schedule and track preventive care appointments and to use HealthHero to ask questions and receive personalized responses.'}"
      ]
     },
     "execution_count": 199,
     "metadata": {},
     "output_type": "execute_result"
    }
   ],
   "source": [
    "df_agent.invoke(\"what are the recommendations for Preventive care?\")"
   ]
  }
 ],
 "metadata": {
  "kernelspec": {
   "display_name": "my-python3-kernel-jupyter",
   "language": "python",
   "name": "my-python3-kernel-jupyter"
  },
  "language_info": {
   "codemirror_mode": {
    "name": "ipython",
    "version": 3
   },
   "file_extension": ".py",
   "mimetype": "text/x-python",
   "name": "python",
   "nbconvert_exporter": "python",
   "pygments_lexer": "ipython3",
   "version": "3.9.6"
  }
 },
 "nbformat": 4,
 "nbformat_minor": 2
}
