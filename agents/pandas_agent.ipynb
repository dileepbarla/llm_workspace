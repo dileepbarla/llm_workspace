{
 "cells": [
  {
   "cell_type": "code",
   "execution_count": 2,
   "metadata": {},
   "outputs": [
    {
     "name": "stderr",
     "output_type": "stream",
     "text": [
      "/Users/dileepbarla/Library/Python/3.9/lib/python/site-packages/urllib3/__init__.py:35: NotOpenSSLWarning: urllib3 v2 only supports OpenSSL 1.1.1+, currently the 'ssl' module is compiled with 'LibreSSL 2.8.3'. See: https://github.com/urllib3/urllib3/issues/3020\n",
      "  warnings.warn(\n"
     ]
    }
   ],
   "source": [
    "from langchain_community.document_loaders import UnstructuredExcelLoader"
   ]
  },
  {
   "cell_type": "code",
   "execution_count": 20,
   "metadata": {},
   "outputs": [
    {
     "name": "stdout",
     "output_type": "stream",
     "text": [
      "Defaulting to user installation because normal site-packages is not writeable\n",
      "Requirement already satisfied: nest_asyncio in /Users/dileepbarla/Library/Python/3.9/lib/python/site-packages (from -r ./requirements.txt (line 1)) (1.6.0)\n",
      "Requirement already satisfied: llama-index in /Users/dileepbarla/Library/Python/3.9/lib/python/site-packages (from -r ./requirements.txt (line 2)) (0.10.39)\n",
      "Requirement already satisfied: llama-index-embeddings-openai in /Users/dileepbarla/Library/Python/3.9/lib/python/site-packages (from -r ./requirements.txt (line 3)) (0.1.10)\n",
      "Requirement already satisfied: openpyxl in /Users/dileepbarla/Library/Python/3.9/lib/python/site-packages (from -r ./requirements.txt (line 4)) (3.1.3)\n",
      "Collecting langchain_experimental (from -r ./requirements.txt (line 5))\n",
      "  Downloading langchain_experimental-0.0.59-py3-none-any.whl.metadata (2.1 kB)\n",
      "Requirement already satisfied: llama-index-agent-openai<0.3.0,>=0.1.4 in /Users/dileepbarla/Library/Python/3.9/lib/python/site-packages (from llama-index->-r ./requirements.txt (line 2)) (0.2.5)\n",
      "Requirement already satisfied: llama-index-cli<0.2.0,>=0.1.2 in /Users/dileepbarla/Library/Python/3.9/lib/python/site-packages (from llama-index->-r ./requirements.txt (line 2)) (0.1.12)\n",
      "Requirement already satisfied: llama-index-core<0.11.0,>=0.10.39 in /Users/dileepbarla/Library/Python/3.9/lib/python/site-packages (from llama-index->-r ./requirements.txt (line 2)) (0.10.39.post1)\n",
      "Requirement already satisfied: llama-index-indices-managed-llama-cloud<0.2.0,>=0.1.2 in /Users/dileepbarla/Library/Python/3.9/lib/python/site-packages (from llama-index->-r ./requirements.txt (line 2)) (0.1.6)\n",
      "Requirement already satisfied: llama-index-legacy<0.10.0,>=0.9.48 in /Users/dileepbarla/Library/Python/3.9/lib/python/site-packages (from llama-index->-r ./requirements.txt (line 2)) (0.9.48)\n",
      "Requirement already satisfied: llama-index-llms-openai<0.2.0,>=0.1.13 in /Users/dileepbarla/Library/Python/3.9/lib/python/site-packages (from llama-index->-r ./requirements.txt (line 2)) (0.1.21)\n",
      "Requirement already satisfied: llama-index-multi-modal-llms-openai<0.2.0,>=0.1.3 in /Users/dileepbarla/Library/Python/3.9/lib/python/site-packages (from llama-index->-r ./requirements.txt (line 2)) (0.1.6)\n",
      "Requirement already satisfied: llama-index-program-openai<0.2.0,>=0.1.3 in /Users/dileepbarla/Library/Python/3.9/lib/python/site-packages (from llama-index->-r ./requirements.txt (line 2)) (0.1.6)\n",
      "Requirement already satisfied: llama-index-question-gen-openai<0.2.0,>=0.1.2 in /Users/dileepbarla/Library/Python/3.9/lib/python/site-packages (from llama-index->-r ./requirements.txt (line 2)) (0.1.3)\n",
      "Requirement already satisfied: llama-index-readers-file<0.2.0,>=0.1.4 in /Users/dileepbarla/Library/Python/3.9/lib/python/site-packages (from llama-index->-r ./requirements.txt (line 2)) (0.1.23)\n",
      "Requirement already satisfied: llama-index-readers-llama-parse<0.2.0,>=0.1.2 in /Users/dileepbarla/Library/Python/3.9/lib/python/site-packages (from llama-index->-r ./requirements.txt (line 2)) (0.1.4)\n",
      "Requirement already satisfied: et-xmlfile in /Users/dileepbarla/Library/Python/3.9/lib/python/site-packages (from openpyxl->-r ./requirements.txt (line 4)) (1.1.0)\n",
      "Collecting langchain-community<0.3,>=0.2 (from langchain_experimental->-r ./requirements.txt (line 5))\n",
      "  Downloading langchain_community-0.2.1-py3-none-any.whl.metadata (8.9 kB)\n",
      "Collecting langchain-core<0.3,>=0.2 (from langchain_experimental->-r ./requirements.txt (line 5))\n",
      "  Downloading langchain_core-0.2.2-py3-none-any.whl.metadata (5.9 kB)\n",
      "Requirement already satisfied: PyYAML>=5.3 in /Users/dileepbarla/Library/Python/3.9/lib/python/site-packages (from langchain-community<0.3,>=0.2->langchain_experimental->-r ./requirements.txt (line 5)) (6.0.1)\n",
      "Requirement already satisfied: SQLAlchemy<3,>=1.4 in /Users/dileepbarla/Library/Python/3.9/lib/python/site-packages (from langchain-community<0.3,>=0.2->langchain_experimental->-r ./requirements.txt (line 5)) (2.0.29)\n",
      "Requirement already satisfied: aiohttp<4.0.0,>=3.8.3 in /Users/dileepbarla/Library/Python/3.9/lib/python/site-packages (from langchain-community<0.3,>=0.2->langchain_experimental->-r ./requirements.txt (line 5)) (3.9.5)\n",
      "Requirement already satisfied: dataclasses-json<0.7,>=0.5.7 in /Users/dileepbarla/Library/Python/3.9/lib/python/site-packages (from langchain-community<0.3,>=0.2->langchain_experimental->-r ./requirements.txt (line 5)) (0.6.4)\n",
      "Collecting langchain<0.3.0,>=0.2.0 (from langchain-community<0.3,>=0.2->langchain_experimental->-r ./requirements.txt (line 5))\n",
      "  Downloading langchain-0.2.1-py3-none-any.whl.metadata (13 kB)\n",
      "Requirement already satisfied: langsmith<0.2.0,>=0.1.0 in /Users/dileepbarla/Library/Python/3.9/lib/python/site-packages (from langchain-community<0.3,>=0.2->langchain_experimental->-r ./requirements.txt (line 5)) (0.1.50)\n",
      "Requirement already satisfied: numpy<2,>=1 in /Users/dileepbarla/Library/Python/3.9/lib/python/site-packages (from langchain-community<0.3,>=0.2->langchain_experimental->-r ./requirements.txt (line 5)) (1.26.4)\n",
      "Requirement already satisfied: requests<3,>=2 in /Users/dileepbarla/Library/Python/3.9/lib/python/site-packages (from langchain-community<0.3,>=0.2->langchain_experimental->-r ./requirements.txt (line 5)) (2.31.0)\n",
      "Requirement already satisfied: tenacity<9.0.0,>=8.1.0 in /Users/dileepbarla/Library/Python/3.9/lib/python/site-packages (from langchain-community<0.3,>=0.2->langchain_experimental->-r ./requirements.txt (line 5)) (8.2.3)\n",
      "Requirement already satisfied: jsonpatch<2.0,>=1.33 in /Users/dileepbarla/Library/Python/3.9/lib/python/site-packages (from langchain-core<0.3,>=0.2->langchain_experimental->-r ./requirements.txt (line 5)) (1.33)\n",
      "Requirement already satisfied: packaging<24.0,>=23.2 in /Users/dileepbarla/Library/Python/3.9/lib/python/site-packages (from langchain-core<0.3,>=0.2->langchain_experimental->-r ./requirements.txt (line 5)) (23.2)\n",
      "Requirement already satisfied: pydantic<3,>=1 in /Users/dileepbarla/Library/Python/3.9/lib/python/site-packages (from langchain-core<0.3,>=0.2->langchain_experimental->-r ./requirements.txt (line 5)) (2.7.1)\n",
      "Requirement already satisfied: openai>=1.14.0 in /Users/dileepbarla/Library/Python/3.9/lib/python/site-packages (from llama-index-agent-openai<0.3.0,>=0.1.4->llama-index->-r ./requirements.txt (line 2)) (1.23.3)\n",
      "Requirement already satisfied: deprecated>=1.2.9.3 in /Users/dileepbarla/Library/Python/3.9/lib/python/site-packages (from llama-index-core<0.11.0,>=0.10.39->llama-index->-r ./requirements.txt (line 2)) (1.2.14)\n",
      "Requirement already satisfied: dirtyjson<2.0.0,>=1.0.8 in /Users/dileepbarla/Library/Python/3.9/lib/python/site-packages (from llama-index-core<0.11.0,>=0.10.39->llama-index->-r ./requirements.txt (line 2)) (1.0.8)\n",
      "Requirement already satisfied: fsspec>=2023.5.0 in /Users/dileepbarla/Library/Python/3.9/lib/python/site-packages (from llama-index-core<0.11.0,>=0.10.39->llama-index->-r ./requirements.txt (line 2)) (2024.3.1)\n",
      "Requirement already satisfied: httpx in /Users/dileepbarla/Library/Python/3.9/lib/python/site-packages (from llama-index-core<0.11.0,>=0.10.39->llama-index->-r ./requirements.txt (line 2)) (0.27.0)\n",
      "Requirement already satisfied: llamaindex-py-client<0.2.0,>=0.1.18 in /Users/dileepbarla/Library/Python/3.9/lib/python/site-packages (from llama-index-core<0.11.0,>=0.10.39->llama-index->-r ./requirements.txt (line 2)) (0.1.19)\n",
      "Requirement already satisfied: networkx>=3.0 in /Users/dileepbarla/Library/Python/3.9/lib/python/site-packages (from llama-index-core<0.11.0,>=0.10.39->llama-index->-r ./requirements.txt (line 2)) (3.2.1)\n",
      "Requirement already satisfied: nltk<4.0.0,>=3.8.1 in /Users/dileepbarla/Library/Python/3.9/lib/python/site-packages (from llama-index-core<0.11.0,>=0.10.39->llama-index->-r ./requirements.txt (line 2)) (3.8.1)\n",
      "Requirement already satisfied: pandas in /Users/dileepbarla/Library/Python/3.9/lib/python/site-packages (from llama-index-core<0.11.0,>=0.10.39->llama-index->-r ./requirements.txt (line 2)) (2.2.2)\n",
      "Requirement already satisfied: pillow>=9.0.0 in /Users/dileepbarla/Library/Python/3.9/lib/python/site-packages (from llama-index-core<0.11.0,>=0.10.39->llama-index->-r ./requirements.txt (line 2)) (10.3.0)\n",
      "Requirement already satisfied: tiktoken>=0.3.3 in /Users/dileepbarla/Library/Python/3.9/lib/python/site-packages (from llama-index-core<0.11.0,>=0.10.39->llama-index->-r ./requirements.txt (line 2)) (0.6.0)\n",
      "Requirement already satisfied: tqdm<5.0.0,>=4.66.1 in /Users/dileepbarla/Library/Python/3.9/lib/python/site-packages (from llama-index-core<0.11.0,>=0.10.39->llama-index->-r ./requirements.txt (line 2)) (4.66.2)\n",
      "Requirement already satisfied: typing-extensions>=4.5.0 in /Users/dileepbarla/Library/Python/3.9/lib/python/site-packages (from llama-index-core<0.11.0,>=0.10.39->llama-index->-r ./requirements.txt (line 2)) (4.11.0)\n",
      "Requirement already satisfied: typing-inspect>=0.8.0 in /Users/dileepbarla/Library/Python/3.9/lib/python/site-packages (from llama-index-core<0.11.0,>=0.10.39->llama-index->-r ./requirements.txt (line 2)) (0.9.0)\n",
      "Requirement already satisfied: wrapt in /Users/dileepbarla/Library/Python/3.9/lib/python/site-packages (from llama-index-core<0.11.0,>=0.10.39->llama-index->-r ./requirements.txt (line 2)) (1.16.0)\n",
      "Requirement already satisfied: beautifulsoup4<5.0.0,>=4.12.3 in /Users/dileepbarla/Library/Python/3.9/lib/python/site-packages (from llama-index-readers-file<0.2.0,>=0.1.4->llama-index->-r ./requirements.txt (line 2)) (4.12.3)\n",
      "Requirement already satisfied: pypdf<5.0.0,>=4.0.1 in /Users/dileepbarla/Library/Python/3.9/lib/python/site-packages (from llama-index-readers-file<0.2.0,>=0.1.4->llama-index->-r ./requirements.txt (line 2)) (4.2.0)\n",
      "Requirement already satisfied: striprtf<0.0.27,>=0.0.26 in /Users/dileepbarla/Library/Python/3.9/lib/python/site-packages (from llama-index-readers-file<0.2.0,>=0.1.4->llama-index->-r ./requirements.txt (line 2)) (0.0.26)\n",
      "Requirement already satisfied: llama-parse<0.5.0,>=0.4.0 in /Users/dileepbarla/Library/Python/3.9/lib/python/site-packages (from llama-index-readers-llama-parse<0.2.0,>=0.1.2->llama-index->-r ./requirements.txt (line 2)) (0.4.3)\n",
      "Requirement already satisfied: aiosignal>=1.1.2 in /Users/dileepbarla/Library/Python/3.9/lib/python/site-packages (from aiohttp<4.0.0,>=3.8.3->langchain-community<0.3,>=0.2->langchain_experimental->-r ./requirements.txt (line 5)) (1.3.1)\n",
      "Requirement already satisfied: attrs>=17.3.0 in /Users/dileepbarla/Library/Python/3.9/lib/python/site-packages (from aiohttp<4.0.0,>=3.8.3->langchain-community<0.3,>=0.2->langchain_experimental->-r ./requirements.txt (line 5)) (23.2.0)\n",
      "Requirement already satisfied: frozenlist>=1.1.1 in /Users/dileepbarla/Library/Python/3.9/lib/python/site-packages (from aiohttp<4.0.0,>=3.8.3->langchain-community<0.3,>=0.2->langchain_experimental->-r ./requirements.txt (line 5)) (1.4.1)\n",
      "Requirement already satisfied: multidict<7.0,>=4.5 in /Users/dileepbarla/Library/Python/3.9/lib/python/site-packages (from aiohttp<4.0.0,>=3.8.3->langchain-community<0.3,>=0.2->langchain_experimental->-r ./requirements.txt (line 5)) (6.0.5)\n",
      "Requirement already satisfied: yarl<2.0,>=1.0 in /Users/dileepbarla/Library/Python/3.9/lib/python/site-packages (from aiohttp<4.0.0,>=3.8.3->langchain-community<0.3,>=0.2->langchain_experimental->-r ./requirements.txt (line 5)) (1.9.4)\n",
      "Requirement already satisfied: async-timeout<5.0,>=4.0 in /Users/dileepbarla/Library/Python/3.9/lib/python/site-packages (from aiohttp<4.0.0,>=3.8.3->langchain-community<0.3,>=0.2->langchain_experimental->-r ./requirements.txt (line 5)) (4.0.3)\n",
      "Requirement already satisfied: soupsieve>1.2 in /Users/dileepbarla/Library/Python/3.9/lib/python/site-packages (from beautifulsoup4<5.0.0,>=4.12.3->llama-index-readers-file<0.2.0,>=0.1.4->llama-index->-r ./requirements.txt (line 2)) (2.5)\n",
      "Requirement already satisfied: marshmallow<4.0.0,>=3.18.0 in /Users/dileepbarla/Library/Python/3.9/lib/python/site-packages (from dataclasses-json<0.7,>=0.5.7->langchain-community<0.3,>=0.2->langchain_experimental->-r ./requirements.txt (line 5)) (3.21.1)\n",
      "Requirement already satisfied: jsonpointer>=1.9 in /Users/dileepbarla/Library/Python/3.9/lib/python/site-packages (from jsonpatch<2.0,>=1.33->langchain-core<0.3,>=0.2->langchain_experimental->-r ./requirements.txt (line 5)) (2.4)\n",
      "Collecting langchain-text-splitters<0.3.0,>=0.2.0 (from langchain<0.3.0,>=0.2.0->langchain-community<0.3,>=0.2->langchain_experimental->-r ./requirements.txt (line 5))\n",
      "  Downloading langchain_text_splitters-0.2.0-py3-none-any.whl.metadata (2.2 kB)\n",
      "Requirement already satisfied: orjson<4.0.0,>=3.9.14 in /Users/dileepbarla/Library/Python/3.9/lib/python/site-packages (from langsmith<0.2.0,>=0.1.0->langchain-community<0.3,>=0.2->langchain_experimental->-r ./requirements.txt (line 5)) (3.10.1)\n",
      "Requirement already satisfied: anyio in /Users/dileepbarla/Library/Python/3.9/lib/python/site-packages (from httpx->llama-index-core<0.11.0,>=0.10.39->llama-index->-r ./requirements.txt (line 2)) (4.3.0)\n",
      "Requirement already satisfied: certifi in /Users/dileepbarla/Library/Python/3.9/lib/python/site-packages (from httpx->llama-index-core<0.11.0,>=0.10.39->llama-index->-r ./requirements.txt (line 2)) (2024.2.2)\n",
      "Requirement already satisfied: httpcore==1.* in /Users/dileepbarla/Library/Python/3.9/lib/python/site-packages (from httpx->llama-index-core<0.11.0,>=0.10.39->llama-index->-r ./requirements.txt (line 2)) (1.0.5)\n",
      "Requirement already satisfied: idna in /Users/dileepbarla/Library/Python/3.9/lib/python/site-packages (from httpx->llama-index-core<0.11.0,>=0.10.39->llama-index->-r ./requirements.txt (line 2)) (3.7)\n",
      "Requirement already satisfied: sniffio in /Users/dileepbarla/Library/Python/3.9/lib/python/site-packages (from httpx->llama-index-core<0.11.0,>=0.10.39->llama-index->-r ./requirements.txt (line 2)) (1.3.1)\n",
      "Requirement already satisfied: h11<0.15,>=0.13 in /Users/dileepbarla/Library/Python/3.9/lib/python/site-packages (from httpcore==1.*->httpx->llama-index-core<0.11.0,>=0.10.39->llama-index->-r ./requirements.txt (line 2)) (0.14.0)\n",
      "Requirement already satisfied: click in /Users/dileepbarla/Library/Python/3.9/lib/python/site-packages (from nltk<4.0.0,>=3.8.1->llama-index-core<0.11.0,>=0.10.39->llama-index->-r ./requirements.txt (line 2)) (8.1.7)\n",
      "Requirement already satisfied: joblib in /Users/dileepbarla/Library/Python/3.9/lib/python/site-packages (from nltk<4.0.0,>=3.8.1->llama-index-core<0.11.0,>=0.10.39->llama-index->-r ./requirements.txt (line 2)) (1.4.0)\n",
      "Requirement already satisfied: regex>=2021.8.3 in /Users/dileepbarla/Library/Python/3.9/lib/python/site-packages (from nltk<4.0.0,>=3.8.1->llama-index-core<0.11.0,>=0.10.39->llama-index->-r ./requirements.txt (line 2)) (2024.4.16)\n",
      "Requirement already satisfied: distro<2,>=1.7.0 in /Users/dileepbarla/Library/Python/3.9/lib/python/site-packages (from openai>=1.14.0->llama-index-agent-openai<0.3.0,>=0.1.4->llama-index->-r ./requirements.txt (line 2)) (1.9.0)\n",
      "Requirement already satisfied: annotated-types>=0.4.0 in /Users/dileepbarla/Library/Python/3.9/lib/python/site-packages (from pydantic<3,>=1->langchain-core<0.3,>=0.2->langchain_experimental->-r ./requirements.txt (line 5)) (0.6.0)\n",
      "Requirement already satisfied: pydantic-core==2.18.2 in /Users/dileepbarla/Library/Python/3.9/lib/python/site-packages (from pydantic<3,>=1->langchain-core<0.3,>=0.2->langchain_experimental->-r ./requirements.txt (line 5)) (2.18.2)\n",
      "Requirement already satisfied: charset-normalizer<4,>=2 in /Users/dileepbarla/Library/Python/3.9/lib/python/site-packages (from requests<3,>=2->langchain-community<0.3,>=0.2->langchain_experimental->-r ./requirements.txt (line 5)) (3.3.2)\n",
      "Requirement already satisfied: urllib3<3,>=1.21.1 in /Users/dileepbarla/Library/Python/3.9/lib/python/site-packages (from requests<3,>=2->langchain-community<0.3,>=0.2->langchain_experimental->-r ./requirements.txt (line 5)) (2.2.1)\n",
      "Requirement already satisfied: greenlet!=0.4.17 in /Users/dileepbarla/Library/Python/3.9/lib/python/site-packages (from SQLAlchemy[asyncio]>=1.4.49->llama-index-core<0.11.0,>=0.10.39->llama-index->-r ./requirements.txt (line 2)) (3.0.3)\n",
      "Requirement already satisfied: mypy-extensions>=0.3.0 in /Users/dileepbarla/Library/Python/3.9/lib/python/site-packages (from typing-inspect>=0.8.0->llama-index-core<0.11.0,>=0.10.39->llama-index->-r ./requirements.txt (line 2)) (1.0.0)\n",
      "Requirement already satisfied: python-dateutil>=2.8.2 in /Users/dileepbarla/Library/Python/3.9/lib/python/site-packages (from pandas->llama-index-core<0.11.0,>=0.10.39->llama-index->-r ./requirements.txt (line 2)) (2.9.0.post0)\n",
      "Requirement already satisfied: pytz>=2020.1 in /Users/dileepbarla/Library/Python/3.9/lib/python/site-packages (from pandas->llama-index-core<0.11.0,>=0.10.39->llama-index->-r ./requirements.txt (line 2)) (2024.1)\n",
      "Requirement already satisfied: tzdata>=2022.7 in /Users/dileepbarla/Library/Python/3.9/lib/python/site-packages (from pandas->llama-index-core<0.11.0,>=0.10.39->llama-index->-r ./requirements.txt (line 2)) (2024.1)\n",
      "Requirement already satisfied: exceptiongroup>=1.0.2 in /Users/dileepbarla/Library/Python/3.9/lib/python/site-packages (from anyio->httpx->llama-index-core<0.11.0,>=0.10.39->llama-index->-r ./requirements.txt (line 2)) (1.2.1)\n",
      "Requirement already satisfied: six>=1.5 in /Users/dileepbarla/Library/Python/3.9/lib/python/site-packages (from python-dateutil>=2.8.2->pandas->llama-index-core<0.11.0,>=0.10.39->llama-index->-r ./requirements.txt (line 2)) (1.16.0)\n",
      "Downloading langchain_experimental-0.0.59-py3-none-any.whl (199 kB)\n",
      "\u001b[2K   \u001b[90m━━━━━━━━━━━━━━━━━━━━━━━━━━━━━━━━━━━━━━━━\u001b[0m \u001b[32m199.5/199.5 kB\u001b[0m \u001b[31m3.5 MB/s\u001b[0m eta \u001b[36m0:00:00\u001b[0m \u001b[36m0:00:01\u001b[0m\n",
      "\u001b[?25hDownloading langchain_community-0.2.1-py3-none-any.whl (2.1 MB)\n",
      "\u001b[2K   \u001b[90m━━━━━━━━━━━━━━━━━━━━━━━━━━━━━━━━━━━━━━━━\u001b[0m \u001b[32m2.1/2.1 MB\u001b[0m \u001b[31m24.1 MB/s\u001b[0m eta \u001b[36m0:00:00\u001b[0ma \u001b[36m0:00:01\u001b[0m\n",
      "\u001b[?25hDownloading langchain_core-0.2.2-py3-none-any.whl (309 kB)\n",
      "\u001b[2K   \u001b[90m━━━━━━━━━━━━━━━━━━━━━━━━━━━━━━━━━━━━━━━━\u001b[0m \u001b[32m309.5/309.5 kB\u001b[0m \u001b[31m31.2 MB/s\u001b[0m eta \u001b[36m0:00:00\u001b[0m\n",
      "\u001b[?25hDownloading langchain-0.2.1-py3-none-any.whl (973 kB)\n",
      "\u001b[2K   \u001b[90m━━━━━━━━━━━━━━━━━━━━━━━━━━━━━━━━━━━━━━━━\u001b[0m \u001b[32m973.5/973.5 kB\u001b[0m \u001b[31m40.5 MB/s\u001b[0m eta \u001b[36m0:00:00\u001b[0m\n",
      "\u001b[?25hDownloading langchain_text_splitters-0.2.0-py3-none-any.whl (23 kB)\n",
      "Installing collected packages: langchain-core, langchain-text-splitters, langchain, langchain-community, langchain_experimental\n",
      "  Attempting uninstall: langchain-core\n",
      "    Found existing installation: langchain-core 0.1.45\n",
      "    Uninstalling langchain-core-0.1.45:\n",
      "      Successfully uninstalled langchain-core-0.1.45\n",
      "  Attempting uninstall: langchain-text-splitters\n",
      "    Found existing installation: langchain-text-splitters 0.0.1\n",
      "    Uninstalling langchain-text-splitters-0.0.1:\n",
      "      Successfully uninstalled langchain-text-splitters-0.0.1\n",
      "  Attempting uninstall: langchain\n",
      "    Found existing installation: langchain 0.1.16\n",
      "    Uninstalling langchain-0.1.16:\n",
      "      Successfully uninstalled langchain-0.1.16\n",
      "  Attempting uninstall: langchain-community\n",
      "    Found existing installation: langchain-community 0.0.34\n",
      "    Uninstalling langchain-community-0.0.34:\n",
      "      Successfully uninstalled langchain-community-0.0.34\n",
      "\u001b[31mERROR: pip's dependency resolver does not currently take into account all the packages that are installed. This behaviour is the source of the following dependency conflicts.\n",
      "langchain-chroma 0.1.0 requires langchain-core<0.2.0,>=0.1.40, but you have langchain-core 0.2.2 which is incompatible.\n",
      "langchain-openai 0.1.3 requires langchain-core<0.2.0,>=0.1.42, but you have langchain-core 0.2.2 which is incompatible.\u001b[0m\u001b[31m\n",
      "\u001b[0mSuccessfully installed langchain-0.2.1 langchain-community-0.2.1 langchain-core-0.2.2 langchain-text-splitters-0.2.0 langchain_experimental-0.0.59\n",
      "Note: you may need to restart the kernel to use updated packages.\n"
     ]
    }
   ],
   "source": [
    "%pip install -r ./requirements.txt"
   ]
  },
  {
   "cell_type": "code",
   "execution_count": 9,
   "metadata": {},
   "outputs": [
    {
     "data": {
      "text/plain": [
       "True"
      ]
     },
     "execution_count": 9,
     "metadata": {},
     "output_type": "execute_result"
    }
   ],
   "source": [
    "from dotenv import load_dotenv\n",
    "load_dotenv()"
   ]
  },
  {
   "cell_type": "markdown",
   "metadata": {},
   "source": [
    "Read xl to Pandas dataframe, multiple products under same theme"
   ]
  },
  {
   "cell_type": "code",
   "execution_count": 85,
   "metadata": {},
   "outputs": [
    {
     "data": {
      "text/html": [
       "<div>\n",
       "<style scoped>\n",
       "    .dataframe tbody tr th:only-of-type {\n",
       "        vertical-align: middle;\n",
       "    }\n",
       "\n",
       "    .dataframe tbody tr th {\n",
       "        vertical-align: top;\n",
       "    }\n",
       "\n",
       "    .dataframe thead th {\n",
       "        text-align: right;\n",
       "    }\n",
       "</style>\n",
       "<table border=\"1\" class=\"dataframe\">\n",
       "  <thead>\n",
       "    <tr style=\"text-align: right;\">\n",
       "      <th></th>\n",
       "      <th>Product/ Reporting Category*</th>\n",
       "      <th>Observation</th>\n",
       "      <th>Recommendation 1</th>\n",
       "      <th>Recommendation 2</th>\n",
       "      <th>Recommendation 3</th>\n",
       "      <th>Why</th>\n",
       "      <th>Themes</th>\n",
       "    </tr>\n",
       "  </thead>\n",
       "  <tbody>\n",
       "    <tr>\n",
       "      <th>0</th>\n",
       "      <td>HealthHive Preventive Care Kit</td>\n",
       "      <td>70% of our 10,000 members have reported diffic...</td>\n",
       "      <td>Use HealthHive to schedule and track preventiv...</td>\n",
       "      <td>NaN</td>\n",
       "      <td>NaN</td>\n",
       "      <td>Regular screenings detect health issues early....</td>\n",
       "      <td>Preventative Care</td>\n",
       "    </tr>\n",
       "    <tr>\n",
       "      <th>1</th>\n",
       "      <td>CareConnect Access Platform</td>\n",
       "      <td>75% of our 5,000 members have expressed a desi...</td>\n",
       "      <td>Use CareConnect to find nearby healthcare prov...</td>\n",
       "      <td>NaN</td>\n",
       "      <td>NaN</td>\n",
       "      <td>Convenient access reduces healthcare barriers....</td>\n",
       "      <td>Access to Care</td>\n",
       "    </tr>\n",
       "    <tr>\n",
       "      <th>2</th>\n",
       "      <td>MindWave Behavioral Health App</td>\n",
       "      <td>90% of our 12,000 members have reported experi...</td>\n",
       "      <td>Use MindWave to access guided meditations and ...</td>\n",
       "      <td>NaN</td>\n",
       "      <td>NaN</td>\n",
       "      <td>Mindfulness practices reduce stress and anxiet...</td>\n",
       "      <td>Behavioral Health</td>\n",
       "    </tr>\n",
       "    <tr>\n",
       "      <th>3</th>\n",
       "      <td>ChronicCare Companion Program</td>\n",
       "      <td>75% of our 9,000 members have reported feeling...</td>\n",
       "      <td>Use ChronicCare to track medication and appoin...</td>\n",
       "      <td>NaN</td>\n",
       "      <td>NaN</td>\n",
       "      <td>Tracking and coaching improve condition manage...</td>\n",
       "      <td>Chronic Conditions</td>\n",
       "    </tr>\n",
       "    <tr>\n",
       "      <th>4</th>\n",
       "      <td>SpecialtyScript Medical Specialty RX</td>\n",
       "      <td>85% of our 11,000 members have reported diffic...</td>\n",
       "      <td>Use SpecialtyScript to find nearby medical spe...</td>\n",
       "      <td>NaN</td>\n",
       "      <td>NaN</td>\n",
       "      <td>Specialized care addresses complex health need...</td>\n",
       "      <td>Pharmacy</td>\n",
       "    </tr>\n",
       "    <tr>\n",
       "      <th>5</th>\n",
       "      <td>HealthHero Preventive Care Chatbot</td>\n",
       "      <td>65% of our 9,000 members have reported having ...</td>\n",
       "      <td>Use HealthHero to ask questions and receive pe...</td>\n",
       "      <td>NaN</td>\n",
       "      <td>NaN</td>\n",
       "      <td>Easy access to information empowers informed d...</td>\n",
       "      <td>Preventative Care</td>\n",
       "    </tr>\n",
       "    <tr>\n",
       "      <th>6</th>\n",
       "      <td>MindfulMind Behavioral Health App</td>\n",
       "      <td>85% of our 10,500 members have reported experi...</td>\n",
       "      <td>Use MindfulMind to access guided meditations a...</td>\n",
       "      <td>NaN</td>\n",
       "      <td>NaN</td>\n",
       "      <td>Mindfulness practices reduce stress and anxiet...</td>\n",
       "      <td>Behavioral Health</td>\n",
       "    </tr>\n",
       "    <tr>\n",
       "      <th>7</th>\n",
       "      <td>ChronicCarePlus Chronic Conditions Program</td>\n",
       "      <td>80% of our 9,500 members have reported feeling...</td>\n",
       "      <td>Use ChronicCarePlus to track medication and ap...</td>\n",
       "      <td>NaN</td>\n",
       "      <td>NaN</td>\n",
       "      <td>Tracking and coaching improve condition manage...</td>\n",
       "      <td>Chronic Conditions</td>\n",
       "    </tr>\n",
       "    <tr>\n",
       "      <th>8</th>\n",
       "      <td>CareBridge Access to Care Platform</td>\n",
       "      <td>70% of our 8,500 members have reported difficu...</td>\n",
       "      <td>Use CareBridge to find nearby healthcare provi...</td>\n",
       "      <td>NaN</td>\n",
       "      <td>NaN</td>\n",
       "      <td>Convenient access reduces healthcare barriers....</td>\n",
       "      <td>Access to Care</td>\n",
       "    </tr>\n",
       "    <tr>\n",
       "      <th>9</th>\n",
       "      <td>SpecialtyCare Medical Specialty RX</td>\n",
       "      <td>90% of our 11,500 members have reported diffic...</td>\n",
       "      <td>Use SpecialtyCare to find nearby medical speci...</td>\n",
       "      <td>NaN</td>\n",
       "      <td>NaN</td>\n",
       "      <td>Specialized care addresses complex health need...</td>\n",
       "      <td>Pharmacy</td>\n",
       "    </tr>\n",
       "  </tbody>\n",
       "</table>\n",
       "</div>"
      ],
      "text/plain": [
       "                 Product/ Reporting Category*  \\\n",
       "0              HealthHive Preventive Care Kit   \n",
       "1                 CareConnect Access Platform   \n",
       "2              MindWave Behavioral Health App   \n",
       "3               ChronicCare Companion Program   \n",
       "4        SpecialtyScript Medical Specialty RX   \n",
       "5          HealthHero Preventive Care Chatbot   \n",
       "6           MindfulMind Behavioral Health App   \n",
       "7  ChronicCarePlus Chronic Conditions Program   \n",
       "8          CareBridge Access to Care Platform   \n",
       "9          SpecialtyCare Medical Specialty RX   \n",
       "\n",
       "                                         Observation  \\\n",
       "0  70% of our 10,000 members have reported diffic...   \n",
       "1  75% of our 5,000 members have expressed a desi...   \n",
       "2  90% of our 12,000 members have reported experi...   \n",
       "3  75% of our 9,000 members have reported feeling...   \n",
       "4  85% of our 11,000 members have reported diffic...   \n",
       "5  65% of our 9,000 members have reported having ...   \n",
       "6  85% of our 10,500 members have reported experi...   \n",
       "7  80% of our 9,500 members have reported feeling...   \n",
       "8  70% of our 8,500 members have reported difficu...   \n",
       "9  90% of our 11,500 members have reported diffic...   \n",
       "\n",
       "                                    Recommendation 1  Recommendation 2  \\\n",
       "0  Use HealthHive to schedule and track preventiv...               NaN   \n",
       "1  Use CareConnect to find nearby healthcare prov...               NaN   \n",
       "2  Use MindWave to access guided meditations and ...               NaN   \n",
       "3  Use ChronicCare to track medication and appoin...               NaN   \n",
       "4  Use SpecialtyScript to find nearby medical spe...               NaN   \n",
       "5  Use HealthHero to ask questions and receive pe...               NaN   \n",
       "6  Use MindfulMind to access guided meditations a...               NaN   \n",
       "7  Use ChronicCarePlus to track medication and ap...               NaN   \n",
       "8  Use CareBridge to find nearby healthcare provi...               NaN   \n",
       "9  Use SpecialtyCare to find nearby medical speci...               NaN   \n",
       "\n",
       "   Recommendation 3                                                Why  \\\n",
       "0               NaN  Regular screenings detect health issues early....   \n",
       "1               NaN  Convenient access reduces healthcare barriers....   \n",
       "2               NaN  Mindfulness practices reduce stress and anxiet...   \n",
       "3               NaN  Tracking and coaching improve condition manage...   \n",
       "4               NaN  Specialized care addresses complex health need...   \n",
       "5               NaN  Easy access to information empowers informed d...   \n",
       "6               NaN  Mindfulness practices reduce stress and anxiet...   \n",
       "7               NaN  Tracking and coaching improve condition manage...   \n",
       "8               NaN  Convenient access reduces healthcare barriers....   \n",
       "9               NaN  Specialized care addresses complex health need...   \n",
       "\n",
       "               Themes  \n",
       "0   Preventative Care  \n",
       "1      Access to Care  \n",
       "2   Behavioral Health  \n",
       "3  Chronic Conditions  \n",
       "4            Pharmacy  \n",
       "5   Preventative Care  \n",
       "6   Behavioral Health  \n",
       "7  Chronic Conditions  \n",
       "8      Access to Care  \n",
       "9            Pharmacy  "
      ]
     },
     "execution_count": 85,
     "metadata": {},
     "output_type": "execute_result"
    }
   ],
   "source": [
    "import pandas as pd\n",
    "mock_df = pd.read_excel(\"xlfiles/mock_recomm_library_latest.xlsx\")\n",
    "mock_df"
   ]
  },
  {
   "cell_type": "markdown",
   "metadata": {},
   "source": [
    "Import Pandas dataframe agent"
   ]
  },
  {
   "cell_type": "code",
   "execution_count": 21,
   "metadata": {},
   "outputs": [],
   "source": [
    "from langchain_experimental.agents.agent_toolkits import create_pandas_dataframe_agent"
   ]
  },
  {
   "cell_type": "markdown",
   "metadata": {},
   "source": [
    "Zero shot Reasoning"
   ]
  },
  {
   "cell_type": "code",
   "execution_count": 22,
   "metadata": {},
   "outputs": [],
   "source": [
    "import pandas as pd\n",
    "from langchain_openai import OpenAI"
   ]
  },
  {
   "cell_type": "markdown",
   "metadata": {},
   "source": [
    "Prepare Prompt "
   ]
  },
  {
   "cell_type": "code",
   "execution_count": 86,
   "metadata": {},
   "outputs": [],
   "source": [
    "Prompt = \"\"\"\n",
    "        You have to remember the product & theme mapping. Here are the Themes & products.\n",
    "            1) HealthHive Preventive care Kit product is the recommendation for Preventive care theme.\n",
    "            2) Careconnect Access Platform product for Access to care theme.\n",
    "            3) MindWave Behavioral product is for Behavioral theme.\n",
    "            4) ChronicCare Program product is for Chronic theme\n",
    "            5) Specialityscript Medical product is for Pharmacy theme.\n",
    "            6) HealthHero Preventive Care Chatbot is the recommendation for Preventive care theme.\n",
    "            7) CareBridge Access to Care Platform is the recommendation for Access to care theme.\n",
    "        Ignore user query, just extract theme name from user query and you are supposed to provide recommendations according to the theme & products \n",
    "mapping. If you have multiple products with same theme please provide all the products as recommendations for the theme. Please be more \n",
    "descriptive.\n",
    "        \"\"\""
   ]
  },
  {
   "cell_type": "markdown",
   "metadata": {},
   "source": [
    "Create Pandas Dataframe Agent"
   ]
  },
  {
   "cell_type": "code",
   "execution_count": 89,
   "metadata": {},
   "outputs": [],
   "source": [
    "df_agent = create_pandas_dataframe_agent(OpenAI(temperature=0), mock_df, verbose=True)"
   ]
  },
  {
   "cell_type": "markdown",
   "metadata": {},
   "source": [
    "Invoke user query"
   ]
  },
  {
   "cell_type": "code",
   "execution_count": 67,
   "metadata": {},
   "outputs": [],
   "source": [
    "# agent = create_pandas_dataframe_agent(OpenAI(temperature=0), dataframe1, verbose=True,\n",
    "#                                        prefix=\"You have to remember the product & theme mapping. Here are the Themes & products. HealthHive Preventive care Kit for Preventive care theme. Careconnect Access Platform for Access to care theme. You are supposed to provide recommendations according to the theme & products mapping\")"
   ]
  },
  {
   "cell_type": "code",
   "execution_count": 93,
   "metadata": {},
   "outputs": [
    {
     "name": "stdout",
     "output_type": "stream",
     "text": [
      "\n",
      "\n",
      "\u001b[1m> Entering new AgentExecutor chain...\u001b[0m\n",
      "\u001b[32;1m\u001b[1;3mThought: I need to filter the dataframe to only include rows with the Access to Care theme.\n",
      "Action: python_repl_ast\n",
      "Action Input: df[df['Themes'] == 'Access to Care']\u001b[0m\u001b[36;1m\u001b[1;3m         Product/ Reporting Category*  \\\n",
      "1         CareConnect Access Platform   \n",
      "8  CareBridge Access to Care Platform   \n",
      "\n",
      "                                         Observation  \\\n",
      "1  75% of our 5,000 members have expressed a desi...   \n",
      "8  70% of our 8,500 members have reported difficu...   \n",
      "\n",
      "                                    Recommendation 1  Recommendation 2  \\\n",
      "1  Use CareConnect to find nearby healthcare prov...               NaN   \n",
      "8  Use CareBridge to find nearby healthcare provi...               NaN   \n",
      "\n",
      "   Recommendation 3                                                Why  \\\n",
      "1               NaN  Convenient access reduces healthcare barriers....   \n",
      "8               NaN  Convenient access reduces healthcare barriers....   \n",
      "\n",
      "           Themes  \n",
      "1  Access to Care  \n",
      "8  Access to Care  \u001b[0m\u001b[32;1m\u001b[1;3m I need to extract the recommendations from the filtered dataframe.\n",
      "Action: python_repl_ast\n",
      "Action Input: df[df['Themes'] == 'Access to Care'][['Recommendation 1', 'Recommendation 2', 'Recommendation 3']]\u001b[0m\u001b[36;1m\u001b[1;3m                                    Recommendation 1  Recommendation 2  \\\n",
      "1  Use CareConnect to find nearby healthcare prov...               NaN   \n",
      "8  Use CareBridge to find nearby healthcare provi...               NaN   \n",
      "\n",
      "   Recommendation 3  \n",
      "1               NaN  \n",
      "8               NaN  \u001b[0m\u001b[32;1m\u001b[1;3m I need to combine the recommendations into one list.\n",
      "Action: python_repl_ast\n",
      "Action Input: df[df['Themes'] == 'Access to Care'][['Recommendation 1', 'Recommendation 2', 'Recommendation 3']].values.tolist()\u001b[0m\u001b[36;1m\u001b[1;3m[['Use CareConnect to find nearby healthcare providers and services.\\nCompare prices and availability to make informed choices.\\nAccess telemedicine options for remote consultations.', nan, nan], ['Use CareBridge to find nearby healthcare providers that accept your insurance.\\nCompare prices and availability to make informed choices.\\nAccess telemedicine options for remote consultations.', nan, nan]]\u001b[0m\u001b[32;1m\u001b[1;3m I now know the final answer.\n",
      "Final Answer: The recommendations for the Access to Care theme are to use CareConnect or CareBridge to find nearby healthcare providers and services, compare prices and availability, and access telemedicine options for remote consultations.\u001b[0m\n",
      "\n",
      "\u001b[1m> Finished chain.\u001b[0m\n"
     ]
    },
    {
     "data": {
      "text/plain": [
       "{'input': 'what are the recommendations for Access to care theme?',\n",
       " 'output': 'The recommendations for the Access to Care theme are to use CareConnect or CareBridge to find nearby healthcare providers and services, compare prices and availability, and access telemedicine options for remote consultations.'}"
      ]
     },
     "execution_count": 93,
     "metadata": {},
     "output_type": "execute_result"
    }
   ],
   "source": [
    "df_agent.invoke(\"what are the recommendations for Access to care theme?\")"
   ]
  },
  {
   "cell_type": "code",
   "execution_count": 94,
   "metadata": {},
   "outputs": [
    {
     "name": "stdout",
     "output_type": "stream",
     "text": [
      "\n",
      "\n",
      "\u001b[1m> Entering new AgentExecutor chain...\u001b[0m\n",
      "\u001b[32;1m\u001b[1;3mThought: I should filter the dataframe to only show rows with the \"Themes\" column equal to \"Preventative Care\"\n",
      "Action: python_repl_ast\n",
      "Action Input: df[df[\"Themes\"] == \"Preventative Care\"]\u001b[0m\u001b[36;1m\u001b[1;3m         Product/ Reporting Category*  \\\n",
      "0      HealthHive Preventive Care Kit   \n",
      "5  HealthHero Preventive Care Chatbot   \n",
      "\n",
      "                                         Observation  \\\n",
      "0  70% of our 10,000 members have reported diffic...   \n",
      "5  65% of our 9,000 members have reported having ...   \n",
      "\n",
      "                                    Recommendation 1  Recommendation 2  \\\n",
      "0  Use HealthHive to schedule and track preventiv...               NaN   \n",
      "5  Use HealthHero to ask questions and receive pe...               NaN   \n",
      "\n",
      "   Recommendation 3                                                Why  \\\n",
      "0               NaN  Regular screenings detect health issues early....   \n",
      "5               NaN  Easy access to information empowers informed d...   \n",
      "\n",
      "              Themes  \n",
      "0  Preventative Care  \n",
      "5  Preventative Care  \u001b[0m\u001b[32;1m\u001b[1;3m I now know the final answer\n",
      "Final Answer: The recommendations for Preventive care are to use HealthHive to schedule and track preventive care appointments, receive personalized reminders for recommended screenings and vaccinations, and access educational resources to understand the importance of preventive care. Additionally, using HealthHero to ask questions and receive personalized responses can also aid in preventive care.\u001b[0m\n",
      "\n",
      "\u001b[1m> Finished chain.\u001b[0m\n"
     ]
    },
    {
     "data": {
      "text/plain": [
       "{'input': 'what are the recommendations for Preventive care?',\n",
       " 'output': 'The recommendations for Preventive care are to use HealthHive to schedule and track preventive care appointments, receive personalized reminders for recommended screenings and vaccinations, and access educational resources to understand the importance of preventive care. Additionally, using HealthHero to ask questions and receive personalized responses can also aid in preventive care.'}"
      ]
     },
     "execution_count": 94,
     "metadata": {},
     "output_type": "execute_result"
    }
   ],
   "source": [
    "df_agent.invoke(\"what are the recommendations for Preventive care?\")"
   ]
  }
 ],
 "metadata": {
  "kernelspec": {
   "display_name": "my-python3-kernel-jupyter",
   "language": "python",
   "name": "my-python3-kernel-jupyter"
  },
  "language_info": {
   "codemirror_mode": {
    "name": "ipython",
    "version": 3
   },
   "file_extension": ".py",
   "mimetype": "text/x-python",
   "name": "python",
   "nbconvert_exporter": "python",
   "pygments_lexer": "ipython3",
   "version": "3.9.6"
  }
 },
 "nbformat": 4,
 "nbformat_minor": 2
}
