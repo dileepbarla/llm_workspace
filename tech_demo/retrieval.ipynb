{
 "cells": [
  {
   "cell_type": "markdown",
   "metadata": {},
   "source": [
    "***Retrieval QA and self query filtering***"
   ]
  },
  {
   "cell_type": "code",
   "execution_count": 6,
   "metadata": {},
   "outputs": [
    {
     "data": {
      "text/plain": [
       "True"
      ]
     },
     "execution_count": 6,
     "metadata": {},
     "output_type": "execute_result"
    }
   ],
   "source": [
    "from dotenv import load_dotenv\n",
    "load_dotenv()"
   ]
  },
  {
   "cell_type": "markdown",
   "metadata": {},
   "source": [
    "***Unstructured Excel Loader***\n",
    "\n",
    "Unstructured store in elements format, and langchin converts to document format\n",
    "Retrieve html format from the table metadata to get the table information"
   ]
  },
  {
   "cell_type": "code",
   "execution_count": 19,
   "metadata": {},
   "outputs": [],
   "source": [
    "extracted_elements = []\n",
    "from langchain_community.document_loaders import UnstructuredExcelLoader\n",
    "loader = UnstructuredExcelLoader(\"xlfiles/mock_recomm_library_latest.xlsx\", mode=\"elements\")\n",
    "documents = loader.load()\n",
    "for doc in documents:\n",
    "    extracted_elements.append(doc.metadata['text_as_html'])\n",
    "\n",
    "# Write the extracted elements to the output file\n",
    "with open(\"mock_recomm_lib.txt\", 'w') as output_file:\n",
    "    for element in extracted_elements:\n",
    "        output_file.write(element + \"\\n\\n\") # Adding two newlines for separation"
   ]
  },
  {
   "cell_type": "markdown",
   "metadata": {},
   "source": [
    "TextLoader to load text files"
   ]
  },
  {
   "cell_type": "code",
   "execution_count": 20,
   "metadata": {},
   "outputs": [],
   "source": [
    "from langchain.document_loaders import TextLoader\n",
    "loader = TextLoader(\"mock_recomm_lib.txt\")\n",
    "text_documents = loader.load()"
   ]
  },
  {
   "cell_type": "markdown",
   "metadata": {},
   "source": [
    "Chunking - RecursiveCharacter Splitter "
   ]
  },
  {
   "cell_type": "code",
   "execution_count": 22,
   "metadata": {},
   "outputs": [
    {
     "name": "stdout",
     "output_type": "stream",
     "text": [
      "<table border=\"1\" class=\"dataframe\">\n",
      "  <tbody>\n",
      "    <tr>\n",
      "      <td>Product/ Reporting Category*</td>\n",
      "      <td>Observation</td>\n",
      "      <td>Recommendation 1</td>\n",
      "      <td>Recommendation 2</td>\n",
      "      <td>Recommendation 3</td>\n",
      "      <td>Why</td>\n",
      "      <td>Themes</td>\n",
      "    </tr>\n",
      "    <tr>\n",
      "      <td>HealthHive Preventive Care Kit</td>\n",
      "      <td>70% of our 10,000 members have reported difficulty keeping track of recommended health screenings and vaccinations.</td>\n",
      "      <td>Use HealthHive to schedule and track preventive care appointments.\\nReceive personalized reminders for recommended screenings and vaccinations.\\nAccess educational resources to understand the importance of preventive care.</td>\n",
      "      <td></td>\n",
      "      <td></td>\n",
      "      <td>Regular screenings detect health issues early.\\nVaccinations prevent illnesses and outbreaks.\\nEducation empowers informed health decisions.</td>\n",
      "      <td>Preventative Care</td>\n",
      "    </tr>\n",
      "    <tr>\n",
      "      <td>CareConnect Access Platform</td>\n",
      "<td>Preventative Care</td>\n",
      "    </tr>\n",
      "    <tr>\n",
      "      <td>CareConnect Access Platform</td>\n",
      "      <td>75% of our 5,000 members have expressed a desire to track their progress and set goals, but struggle with staying consistent.80% of our 8,000 members have reported struggling to find affordable and convenient healthcare services.</td>\n",
      "      <td>Use CareConnect to find nearby healthcare providers and services.\\nCompare prices and availability to make informed choices.\\nAccess telemedicine options for remote consultations.</td>\n",
      "      <td></td>\n",
      "      <td></td>\n",
      "      <td>Convenient access reduces healthcare barriers.\\nAffordability increases healthcare utilization.\\nTelemedicine expands access to specialized care.</td>\n",
      "      <td>Access to Care</td>\n",
      "    </tr>\n",
      "    <tr>\n",
      "      <td>MindWave Behavioral Health App</td>\n",
      "      <td>90% of our 12,000 members have reported experiencing stress, anxiety, or depression, but struggle to access support.</td>\n",
      "</tr>\n",
      "    <tr>\n",
      "      <td>MindWave Behavioral Health App</td>\n",
      "      <td>90% of our 12,000 members have reported experiencing stress, anxiety, or depression, but struggle to access support.</td>\n",
      "      <td>Use MindWave to access guided meditations and therapy sessions.\\nTrack mood and progress to identify patterns and growth.\\nConnect with a supportive community for encouragement.</td>\n",
      "      <td></td>\n",
      "      <td></td>\n",
      "      <td>Mindfulness practices reduce stress and anxiety.\\nTherapy sessions provide professional support.\\nCommunity support fosters empathy and understanding.</td>\n",
      "      <td>Behavioral Health</td>\n",
      "    </tr>\n",
      "    <tr>\n",
      "      <td>ChronicCare Companion Program</td>\n",
      "      <td>75% of our 9,000 members have reported feeling overwhelmed managing their chronic conditions.</td>\n",
      "      <td>Use ChronicCare to track medication and appointments.\\nReceive personalized coaching for condition management.\\nAccess educational resources for understanding chronic conditions.</td>\n",
      "<td>Use ChronicCare to track medication and appointments.\\nReceive personalized coaching for condition management.\\nAccess educational resources for understanding chronic conditions.</td>\n",
      "      <td></td>\n",
      "      <td></td>\n",
      "      <td>Tracking and coaching improve condition management.\\nEducation empowers informed self-care decisions.\\nSupport reduces feelings of overwhelm.</td>\n",
      "      <td>Chronic Conditions</td>\n",
      "    </tr>\n",
      "    <tr>\n",
      "      <td>SpecialtyScript Medical Specialty RX</td>\n",
      "      <td>85% of our 11,000 members have reported difficulty accessing specialized medications and treatments.</td>\n",
      "      <td>Use SpecialtyScript to find nearby medical specialists.\\nAccess affordable and convenient prescription services.\\nReceive personalized support for medication management.</td>\n",
      "      <td></td>\n",
      "      <td></td>\n",
      "      <td>Specialized care addresses complex health needs.\\nAffordable prescriptions increase treatment adherence.\\nSupport reduces medication management burdens.</td>\n",
      "<td></td>\n",
      "      <td></td>\n",
      "      <td>Specialized care addresses complex health needs.\\nAffordable prescriptions increase treatment adherence.\\nSupport reduces medication management burdens.</td>\n",
      "      <td>Pharmacy</td>\n",
      "    </tr>\n",
      "    <tr>\n",
      "      <td>HealthHero Preventive Care Chatbot</td>\n",
      "      <td>65% of our 9,000 members have reported having questions about preventive care but don't know where to start.</td>\n",
      "      <td>Use HealthHero to ask questions and receive personalized preventive care recommendations.\\nAccess educational resources to understand the importance of preventive care.\\nSchedule appointments with healthcare providers through the chatbot.</td>\n",
      "      <td></td>\n",
      "      <td></td>\n",
      "      <td>Easy access to information empowers informed decisions.\\nPersonalized recommendations increase engagement.\\nConvenient scheduling reduces barriers to care.</td>\n",
      "      <td>Preventative Care</td>\n",
      "    </tr>\n",
      "    <tr>\n",
      "      <td>MindfulMind Behavioral Health App</td>\n",
      "<td>Preventative Care</td>\n",
      "    </tr>\n",
      "    <tr>\n",
      "      <td>MindfulMind Behavioral Health App</td>\n",
      "      <td>85% of our 10,500 members have reported experiencing stress, anxiety, or depression, but struggle to access support.</td>\n",
      "      <td>Use MindfulMind to access guided meditations and therapy sessions.\\nTrack mood and progress to identify patterns and growth.\\nConnect with a supportive community for encouragement.</td>\n",
      "      <td></td>\n",
      "      <td></td>\n",
      "      <td>Mindfulness practices reduce stress and anxiety.\\nTherapy sessions provide professional support.\\nCommunity support fosters empathy and understanding.</td>\n",
      "      <td>Behavioral Health</td>\n",
      "    </tr>\n",
      "    <tr>\n",
      "      <td>ChronicCarePlus Chronic Conditions Program</td>\n",
      "      <td>80% of our 9,500 members have reported feeling overwhelmed managing their chronic conditions.</td>\n",
      "</tr>\n",
      "    <tr>\n",
      "      <td>ChronicCarePlus Chronic Conditions Program</td>\n",
      "      <td>80% of our 9,500 members have reported feeling overwhelmed managing their chronic conditions.</td>\n",
      "      <td>Use ChronicCarePlus to track medication and appointments.\\nReceive personalized coaching for condition management.\\nAccess educational resources for understanding chronic conditions.</td>\n",
      "      <td></td>\n",
      "      <td></td>\n",
      "      <td>Tracking and coaching improve condition management.\\nEducation empowers informed self-care decisions.\\nSupport reduces feelings of overwhelm.</td>\n",
      "      <td>Chronic Conditions</td>\n",
      "    </tr>\n",
      "    <tr>\n",
      "      <td>CareBridge Access to Care Platform</td>\n",
      "      <td>70% of our 8,500 members have reported difficulty finding healthcare services that accept their insurance.</td>\n",
      "</tr>\n",
      "    <tr>\n",
      "      <td>CareBridge Access to Care Platform</td>\n",
      "      <td>70% of our 8,500 members have reported difficulty finding healthcare services that accept their insurance.</td>\n",
      "      <td>Use CareBridge to find nearby healthcare providers that accept your insurance.\\nCompare prices and availability to make informed choices.\\nAccess telemedicine options for remote consultations.</td>\n",
      "      <td></td>\n",
      "      <td></td>\n",
      "      <td>Convenient access reduces healthcare barriers.\\nInsurance matching increases access to care.\\nTelemedicine expands access to specialized care.</td>\n",
      "      <td>Access to Care</td>\n",
      "    </tr>\n",
      "    <tr>\n",
      "      <td>SpecialtyCare Medical Specialty RX</td>\n",
      "      <td>90% of our 11,500 members have reported difficulty accessing specialized medications and treatments.</td>\n",
      "      <td>Use SpecialtyCare to find nearby medical specialists.\\nAccess affordable and convenient prescription services.\\nReceive personalized support for medication management.</td>\n",
      "<td>Use SpecialtyCare to find nearby medical specialists.\\nAccess affordable and convenient prescription services.\\nReceive personalized support for medication management.</td>\n",
      "      <td></td>\n",
      "      <td></td>\n",
      "      <td>Specialized care addresses complex health needs.\\nAffordable prescriptions increase treatment adherence.\\nSupport reduces medication management burdens.</td>\n",
      "      <td>Pharmacy</td>\n",
      "    </tr>\n",
      "  </tbody>\n",
      "</table>\n"
     ]
    }
   ],
   "source": [
    "from langchain.text_splitter import RecursiveCharacterTextSplitter\n",
    "# split it into chunks\n",
    "# text_splitter = RecursiveCharacterTextSplitter(\n",
    "# chunk_size=1000, chunk_overlap=0, separators=[\" \", \",\", \"\\n\"]\n",
    "# )\n",
    "text_splitter = RecursiveCharacterTextSplitter(chunk_size=1000, chunk_overlap=200)\n",
    "docs = text_splitter.split_documents(text_documents)\n",
    "for doc in docs:\n",
    "    print(doc.page_content)"
   ]
  },
  {
   "cell_type": "markdown",
   "metadata": {},
   "source": [
    "Create Embeddings to store in Vector DB"
   ]
  },
  {
   "cell_type": "code",
   "execution_count": 113,
   "metadata": {},
   "outputs": [],
   "source": [
    "from langchain.embeddings.openai import OpenAIEmbeddings\n",
    "embeddings = OpenAIEmbeddings()"
   ]
  },
  {
   "cell_type": "markdown",
   "metadata": {},
   "source": [
    "Use Chroma as Vector storage"
   ]
  },
  {
   "cell_type": "code",
   "execution_count": 24,
   "metadata": {},
   "outputs": [],
   "source": [
    "import chromadb\n",
    "from langchain_chroma import Chroma\n",
    "\n",
    "db = Chroma.from_documents(docs, embeddings)"
   ]
  },
  {
   "cell_type": "markdown",
   "metadata": {},
   "source": [
    "Prepare Prompt Template to instruct LLM"
   ]
  },
  {
   "cell_type": "code",
   "execution_count": 99,
   "metadata": {},
   "outputs": [],
   "source": [
    "Prompt = \"\"\"\n",
    "            Please use below information and find recommendations only for the user asked Theme & product\n",
    "            1) HealthHive Preventive care Kit Product/ Reporting Category and HealthHero Preventive Care Chatbot  Product/ Reporting Category are products for Preventive care theme.\n",
    "            2) CareBridge Access to Care Platform  Product/ Reporting Category and Careconnect Access Platform Kit Product/ Reporting Category are products for Access to care theme.\n",
    "            3) MindWave Behavioral Kit Product/ Reporting Category is a product for Behavioral theme.\n",
    "            4) ChronicCare Program Kit Product/ Reporting Category is a product for Chronic theme\n",
    "            5) Specialityscript Medical Kit Product/ Reporting Category is a product for Pharmacy theme.\n",
    "        \n",
    "        Please review the question if it matches with any of the themes listed and provide answer only for the user asked Theme & product in json including Theme, Product and Recommedation as dictionary keys \n",
    "        If you don't know the answer, just say that you don't know, don't try to make up an answer. \n",
    "\n",
    "        \\n----------------\\n{context}\n",
    "       \n",
    "        \"\"\""
   ]
  },
  {
   "cell_type": "markdown",
   "metadata": {},
   "source": [
    "Use Retrieval QA"
   ]
  },
  {
   "cell_type": "code",
   "execution_count": 114,
   "metadata": {},
   "outputs": [],
   "source": [
    "from langchain.chat_models import ChatOpenAI\n",
    "from langchain.chains import RetrievalQA\n",
    "from langchain_core.prompts import PromptTemplate\n",
    "\n",
    "# Initialize your model and retriever\n",
    "llm = ChatOpenAI(model_name=\"gpt-3.5-turbo\", temperature=0)\n",
    "# qa_chain = RetrievalQA.from_chain_type(llm, retriever=db.as_retriever(), verbose=True)\n",
    "qa_chain = RetrievalQA.from_chain_type(llm, retriever=db.as_retriever(), verbose=True, chain_type_kwargs={\"prompt\": PromptTemplate(input_variables=['context'], template=Prompt)})\n"
   ]
  },
  {
   "cell_type": "code",
   "execution_count": 119,
   "metadata": {},
   "outputs": [],
   "source": [
    "# List of questions\n",
    "questions = [\n",
    "\"What are the recommendations for preventive care?\"\n",
    "# \"What are the recommendations for Access to care?\",\n",
    "# \"What are the products for Access to care?\"\n",
    "]"
   ]
  },
  {
   "cell_type": "code",
   "execution_count": 120,
   "metadata": {},
   "outputs": [
    {
     "name": "stdout",
     "output_type": "stream",
     "text": [
      "\n",
      "\n",
      "\u001b[1m> Entering new RetrievalQA chain...\u001b[0m\n",
      "\n",
      "\u001b[1m> Finished chain.\u001b[0m\n"
     ]
    }
   ],
   "source": [
    "# Store responses in output_list\n",
    "output_list = []\n",
    "\n",
    "for query in questions:\n",
    "    response = qa_chain({\"query\": query})\n",
    "    output_list.append(response)"
   ]
  },
  {
   "cell_type": "code",
   "execution_count": 117,
   "metadata": {},
   "outputs": [
    {
     "name": "stdout",
     "output_type": "stream",
     "text": [
      "What are the recommendations for preventive care?\n",
      "{\n",
      "    \"Theme\": \"Preventative Care\",\n",
      "    \"Product\": \"HealthHive Preventive Care Kit\",\n",
      "    \"Recommendation\": {\n",
      "        \"1\": \"Use HealthHive to schedule and track preventive care appointments.\",\n",
      "        \"2\": \"Receive personalized reminders for recommended screenings and vaccinations.\",\n",
      "        \"3\": \"Access educational resources to understand the importance of preventive care.\"\n",
      "    }\n",
      "}\n"
     ]
    }
   ],
   "source": [
    "for res in output_list:\n",
    "    print(res['query'] + \"\\n\" + res['result'])"
   ]
  },
  {
   "cell_type": "markdown",
   "metadata": {},
   "source": [
    "GPT 4 "
   ]
  },
  {
   "cell_type": "code",
   "execution_count": 118,
   "metadata": {},
   "outputs": [],
   "source": [
    "from langchain.chat_models import ChatOpenAI\n",
    "from langchain.chains import RetrievalQA\n",
    "from langchain_core.prompts import PromptTemplate\n",
    "\n",
    "# Initialize your model and retriever\n",
    "llm = ChatOpenAI(model_name=\"gpt-4\", temperature=0)\n",
    "# qa_chain = RetrievalQA.from_chain_type(llm, retriever=db.as_retriever(), verbose=True)\n",
    "qa_chain = RetrievalQA.from_chain_type(llm, retriever=db.as_retriever(), verbose=True, chain_type_kwargs={\"prompt\": PromptTemplate(input_variables=['context'], template=Prompt)})\n"
   ]
  },
  {
   "cell_type": "code",
   "execution_count": 121,
   "metadata": {},
   "outputs": [
    {
     "name": "stdout",
     "output_type": "stream",
     "text": [
      "What are the recommendations for preventive care?\n",
      "{\n",
      "\"Theme\": \"Preventative Care\",\n",
      "\"Product\": [\n",
      "{\n",
      "\"Name\": \"HealthHive Preventive Care Kit\",\n",
      "\"Recommendation\": \"Use HealthHive to schedule and track preventive care appointments.\\nReceive personalized reminders for recommended screenings and vaccinations.\\nAccess educational resources to understand the importance of preventive care.\"\n",
      "},\n",
      "{\n",
      "\"Name\": \"HealthHero Preventive Care Chatbot\",\n",
      "\"Recommendation\": \"Use HealthHero to ask questions and receive personalized preventive care recommendations.\\nAccess educational resources to understand the importance of preventive care.\\nSchedule appointments with healthcare providers through the chatbot.\"\n",
      "}\n",
      "]\n",
      "}\n"
     ]
    }
   ],
   "source": [
    "for res in output_list:\n",
    "    print(res['query'] + \"\\n\" + res['result'])"
   ]
  }
 ],
 "metadata": {
  "kernelspec": {
   "display_name": "my-python3-kernel-jupyter",
   "language": "python",
   "name": "my-python3-kernel-jupyter"
  },
  "language_info": {
   "codemirror_mode": {
    "name": "ipython",
    "version": 3
   },
   "file_extension": ".py",
   "mimetype": "text/x-python",
   "name": "python",
   "nbconvert_exporter": "python",
   "pygments_lexer": "ipython3",
   "version": "3.9.6"
  }
 },
 "nbformat": 4,
 "nbformat_minor": 2
}
