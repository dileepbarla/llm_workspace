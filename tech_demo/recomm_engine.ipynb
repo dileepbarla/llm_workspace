{
 "cells": [
  {
   "cell_type": "markdown",
   "metadata": {},
   "source": [
    "***Parse PDF files***"
   ]
  },
  {
   "cell_type": "code",
   "execution_count": null,
   "metadata": {},
   "outputs": [],
   "source": [
    "%pip install -r ./requirements.txt"
   ]
  },
  {
   "cell_type": "code",
   "execution_count": 1,
   "metadata": {},
   "outputs": [
    {
     "data": {
      "text/plain": [
       "True"
      ]
     },
     "execution_count": 1,
     "metadata": {},
     "output_type": "execute_result"
    }
   ],
   "source": [
    "from dotenv import load_dotenv\n",
    "load_dotenv()"
   ]
  },
  {
   "cell_type": "markdown",
   "metadata": {},
   "source": [
    "Unstructured  Partition PDF"
   ]
  },
  {
   "cell_type": "code",
   "execution_count": 2,
   "metadata": {},
   "outputs": [
    {
     "name": "stderr",
     "output_type": "stream",
     "text": [
      "/Users/dileepbarla/Library/Python/3.9/lib/python/site-packages/urllib3/__init__.py:35: NotOpenSSLWarning: urllib3 v2 only supports OpenSSL 1.1.1+, currently the 'ssl' module is compiled with 'LibreSSL 2.8.3'. See: https://github.com/urllib3/urllib3/issues/3020\n",
      "  warnings.warn(\n"
     ]
    }
   ],
   "source": [
    "from langchain_community.document_loaders import UnstructuredPDFLoader"
   ]
  },
  {
   "cell_type": "code",
   "execution_count": 3,
   "metadata": {},
   "outputs": [
    {
     "name": "stdout",
     "output_type": "stream",
     "text": [
      "[Document(page_content='Current Themes and Recommendations\\n\\nPreventative Care\\n\\nAccess to Care\\n\\nBehavioral Health\\n\\nThemes\\n\\nPreventative\\n\\nER utilization and urgent care visits are low • Convenience\\n\\nER utilization and urgent care visits are low • Convenience\\n\\ncare increased\\n\\nTelehealth\\n\\nutilized by 30% of members\\n\\n\\n\\n\\n\\n\\n\\n30% of members had a behavioral health conditions 35% of behavioral members are dependents 25% of prescriptions dispensed without PCP visit\\n\\nRecommendations HealthHive\\n\\nPreventive Care Kit Use HealthHive to schedule and track preventive care appointments.\\n\\nCareConnect Access Platform\\n\\nChronic Conditions\\n\\nObesity and hypertension were top chronic conditions, both are risk factors for Type 2 diabetes ChronicCare Companion Program\\n\\nObesity and hypertension were top chronic conditions, both are risk factors for Type 2 diabetes ChronicCare Companion Program\\n\\nPharmacy\\n\\nSpecialty drugs were a large part of expenses of high cost claims\\n\\nSpecialtyScript\\n\\nRecommendations and Future State\\n\\nPreventative/ Wellness Initiative\\n\\nAccess to Care\\n\\nBehavioral\\n\\nUse HealthHive to schedule and track preventive care appointments.\\n\\nReceive personalized reminders for recommended screenings and vaccinations.\\n\\nAccess educational resources to understand the importance of preventive care\\n\\nUse CareConnect to find nearby healthcare providers and services.\\n\\nCompare prices and availability to make informed choices.\\n\\nAccess telemedicine options for remote consultations.\\n\\nUse MindWave to access guided meditations and therapy sessions.\\n\\nTrack mood and progress to identify patterns and growth.\\n\\nConnect with a supportive community for encouragement.\\n\\nPharmacy\\n\\nUse\\n\\nSpecialtyScript to find nearby medical specialists.\\n\\nAccess affordable and convenient prescription services. • Receive personalized support for medication management.', metadata={'source': 'pdf_files/mock_client_slide_deck_lat.pdf'})]\n"
     ]
    }
   ],
   "source": [
    "loader = UnstructuredPDFLoader(\"pdf_files/mock_client_slide_deck_lat.pdf\")\n",
    "recomm_deck = loader.load()\n",
    "print(recomm_deck)"
   ]
  },
  {
   "cell_type": "markdown",
   "metadata": {},
   "source": [
    "Add client_name & year to the Metadata"
   ]
  },
  {
   "cell_type": "code",
   "execution_count": 4,
   "metadata": {},
   "outputs": [],
   "source": [
    "recomm_deck[0].metadata['client_name'] = 'mock_client'\n",
    "recomm_deck[0].metadata['year'] = '2024'\n"
   ]
  },
  {
   "cell_type": "code",
   "execution_count": 18,
   "metadata": {},
   "outputs": [
    {
     "name": "stdout",
     "output_type": "stream",
     "text": [
      "{'source': 'pdf_files/mock_client_slide_deck_lat.pdf', 'client_name': 'mock_client', 'year': '2024'}\n"
     ]
    }
   ],
   "source": [
    "print(recomm_deck[0].metadata)"
   ]
  },
  {
   "cell_type": "markdown",
   "metadata": {},
   "source": [
    "Embed & add documents to VectorStore"
   ]
  },
  {
   "cell_type": "code",
   "execution_count": 6,
   "metadata": {},
   "outputs": [],
   "source": [
    "import chromadb\n",
    "\n",
    "from langchain_community.vectorstores import Chroma\n",
    "from langchain_openai import OpenAIEmbeddings\n",
    "\n",
    "embeddings = OpenAIEmbeddings()\n",
    "new_client = chromadb.EphemeralClient()\n",
    "vector_stor = Chroma.from_documents(recomm_deck, embeddings, client=new_client, collection_name = \"openai_collection\")\n"
   ]
  },
  {
   "cell_type": "markdown",
   "metadata": {},
   "source": [
    "Self Querying Retriever"
   ]
  },
  {
   "cell_type": "code",
   "execution_count": 7,
   "metadata": {},
   "outputs": [],
   "source": [
    "from langchain.chains.query_constructor.base import AttributeInfo\n",
    "from langchain.retrievers.self_query.base import SelfQueryRetriever\n",
    "from langchain_openai import ChatOpenAI"
   ]
  },
  {
   "cell_type": "markdown",
   "metadata": {},
   "source": [
    "Create Retriever"
   ]
  },
  {
   "cell_type": "code",
   "execution_count": 26,
   "metadata": {},
   "outputs": [],
   "source": [
    "metadata_field_info = [\n",
    "    AttributeInfo(\n",
    "        name = \"source\",\n",
    "        description=\"Name of the document\",\n",
    "        type=\"string\",\n",
    "    ),\n",
    "    AttributeInfo(\n",
    "        name = \"client_name\",\n",
    "        description=\"Name of the client\",\n",
    "        type=\"string\",\n",
    "    ),\n",
    "    AttributeInfo(\n",
    "        name = \"year\",\n",
    "        description=\"Document created year\",\n",
    "        type=\"string\",\n",
    "    ),\n",
    "\n",
    "]\n",
    "document_content_desc = \"mock client recommendations\"\n",
    "llm = ChatOpenAI(temperature=0)\n",
    "retriever = SelfQueryRetriever.from_llm(llm,\n",
    "                                        vector_stor,\n",
    "                                        document_content_desc,\n",
    "                                        metadata_field_info, search_kwargs={\"k\":1})\n"
   ]
  },
  {
   "cell_type": "code",
   "execution_count": 27,
   "metadata": {},
   "outputs": [
    {
     "name": "stdout",
     "output_type": "stream",
     "text": [
      "{'k': 1}\n"
     ]
    }
   ],
   "source": [
    "print(retriever.search_kwargs)"
   ]
  },
  {
   "cell_type": "markdown",
   "metadata": {},
   "source": [
    "Relevant Documents"
   ]
  },
  {
   "cell_type": "code",
   "execution_count": 28,
   "metadata": {},
   "outputs": [],
   "source": [
    "get_content = retriever.get_relevant_documents(\"what are curent themes for client mock_client?\")"
   ]
  },
  {
   "cell_type": "markdown",
   "metadata": {},
   "source": [
    "RAG prompt"
   ]
  },
  {
   "cell_type": "code",
   "execution_count": 29,
   "metadata": {},
   "outputs": [
    {
     "name": "stdout",
     "output_type": "stream",
     "text": [
      "input_variables=['context', 'question'] metadata={'lc_hub_owner': 'rlm', 'lc_hub_repo': 'rag-prompt', 'lc_hub_commit_hash': '50442af133e61576e74536c6556cefe1fac147cad032f4377b60c436e6cdcb6e'} messages=[HumanMessagePromptTemplate(prompt=PromptTemplate(input_variables=['context', 'question'], template=\"You are an assistant for question-answering tasks. Use the following pieces of retrieved context to answer the question. If you don't know the answer, just say that you don't know. Use three sentences maximum and keep the answer concise.\\nQuestion: {question} \\nContext: {context} \\nAnswer:\"))]\n"
     ]
    }
   ],
   "source": [
    "from langchain import hub\n",
    "rag_prompt = hub.pull(\"rlm/rag-prompt\")\n",
    "print(rag_prompt)"
   ]
  },
  {
   "cell_type": "code",
   "execution_count": 30,
   "metadata": {},
   "outputs": [],
   "source": [
    "from langchain_openai import ChatOpenAI\n",
    "llm = ChatOpenAI(model=\"gpt-4\", temperature=0)"
   ]
  },
  {
   "cell_type": "code",
   "execution_count": 31,
   "metadata": {},
   "outputs": [
    {
     "name": "stdout",
     "output_type": "stream",
     "text": [
      "input_variables=['context'] messages=[HumanMessagePromptTemplate(prompt=PromptTemplate(input_variables=['context'], template=\"You are an assistant for question answering tasks. Use the following pieces of retrieved context to answer the question. if you don't know the answer just say don't know. \\nQuestion \\nContext: {context} \\nAnswer\"))]\n"
     ]
    }
   ],
   "source": [
    "from langchain_core.prompts import ChatPromptTemplate\n",
    "from langchain_core.prompts import HumanMessagePromptTemplate\n",
    "from langchain_core.prompts import PromptTemplate\n",
    "\n",
    "prompt = ChatPromptTemplate(input_variables=['context', 'question'], messages=[HumanMessagePromptTemplate(prompt=PromptTemplate(input_variables=['context', 'question'],\n",
    "    template = \"You are an assistant for question answering tasks. Use the following pieces of retrieved context to answer the question. if you don't know the answer just say don't know. \\nQuestion \\nContext: {context} \\nAnswer\"))])\n",
    "print(prompt)"
   ]
  },
  {
   "cell_type": "code",
   "execution_count": 33,
   "metadata": {},
   "outputs": [
    {
     "data": {
      "text/plain": [
       "'The document discusses various themes and recommendations related to healthcare. Some of the themes include preventative care, access to care, and behavioral health. The document mentions that ER utilization and urgent care visits are low, and telehealth is utilized by 30% of members. It also states that 30% of members had a behavioral health condition. The top chronic conditions were obesity and hypertension, which are risk factors for Type 2 diabetes. The document recommends using HealthHive for scheduling and tracking preventive care appointments, CareConnect for finding nearby healthcare providers and services, and SpecialtyScript for finding nearby medical specialists. It also suggests using MindWave for accessing guided meditations and therapy sessions.'"
      ]
     },
     "execution_count": 33,
     "metadata": {},
     "output_type": "execute_result"
    }
   ],
   "source": [
    "from langchain_core.output_parsers import StrOutputParser\n",
    "from langchain_core.runnables import RunnablePassthrough\n",
    "rag_chain = ({\"context\": retriever, \"question\": RunnablePassthrough()}\n",
    "            | prompt\n",
    "             | llm\n",
    "             | StrOutputParser()\n",
    "            )\n",
    "rag_chain.invoke(\"What are the Preventive care recommendations suggested for mock_client in 2024?\")"
   ]
  }
 ],
 "metadata": {
  "kernelspec": {
   "display_name": "my-python3-kernel-jupyter",
   "language": "python",
   "name": "my-python3-kernel-jupyter"
  },
  "language_info": {
   "codemirror_mode": {
    "name": "ipython",
    "version": 3
   },
   "file_extension": ".py",
   "mimetype": "text/x-python",
   "name": "python",
   "nbconvert_exporter": "python",
   "pygments_lexer": "ipython3",
   "version": "3.9.6"
  }
 },
 "nbformat": 4,
 "nbformat_minor": 2
}
