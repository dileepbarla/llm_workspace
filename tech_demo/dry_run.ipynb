{
 "cells": [
  {
   "cell_type": "markdown",
   "metadata": {},
   "source": [
    "***Demo to demonstrate Agent and SelfQuery Retrieval***\n",
    "\n",
    "Ask Question - what are the recommendations for Preventive care theme?\n",
    "\n",
    "Input Preparation\n",
    "1) Synthetic data Input created with multiple products for Preventive Theme without changing the schema structure\n",
    "2) Read Recommendations library xl to Pandas dataframe"
   ]
  },
  {
   "cell_type": "code",
   "execution_count": null,
   "metadata": {},
   "outputs": [],
   "source": [
    "from dotenv import load_dotenv\n",
    "load_dotenv()"
   ]
  },
  {
   "cell_type": "code",
   "execution_count": 5,
   "metadata": {},
   "outputs": [
    {
     "data": {
      "text/html": [
       "<div>\n",
       "<style scoped>\n",
       "    .dataframe tbody tr th:only-of-type {\n",
       "        vertical-align: middle;\n",
       "    }\n",
       "\n",
       "    .dataframe tbody tr th {\n",
       "        vertical-align: top;\n",
       "    }\n",
       "\n",
       "    .dataframe thead th {\n",
       "        text-align: right;\n",
       "    }\n",
       "</style>\n",
       "<table border=\"1\" class=\"dataframe\">\n",
       "  <thead>\n",
       "    <tr style=\"text-align: right;\">\n",
       "      <th></th>\n",
       "      <th>Product/ Reporting Category*</th>\n",
       "      <th>Observation</th>\n",
       "      <th>Recommendation 1</th>\n",
       "      <th>Recommendation 2</th>\n",
       "      <th>Recommendation 3</th>\n",
       "      <th>Why</th>\n",
       "    </tr>\n",
       "  </thead>\n",
       "  <tbody>\n",
       "    <tr>\n",
       "      <th>0</th>\n",
       "      <td>HealthHive Preventive Care Kit</td>\n",
       "      <td>70% of our 10,000 members have reported diffic...</td>\n",
       "      <td>Use HealthHive to schedule and track preventiv...</td>\n",
       "      <td>NaN</td>\n",
       "      <td>NaN</td>\n",
       "      <td>Regular screenings detect health issues early....</td>\n",
       "    </tr>\n",
       "    <tr>\n",
       "      <th>1</th>\n",
       "      <td>CareConnect Access Platform</td>\n",
       "      <td>75% of our 5,000 members have expressed a desi...</td>\n",
       "      <td>Use CareConnect to find nearby healthcare prov...</td>\n",
       "      <td>NaN</td>\n",
       "      <td>NaN</td>\n",
       "      <td>Convenient access reduces healthcare barriers....</td>\n",
       "    </tr>\n",
       "    <tr>\n",
       "      <th>2</th>\n",
       "      <td>MindWave Behavioral Health App</td>\n",
       "      <td>90% of our 12,000 members have reported experi...</td>\n",
       "      <td>Use MindWave to access guided meditations and ...</td>\n",
       "      <td>NaN</td>\n",
       "      <td>NaN</td>\n",
       "      <td>Mindfulness practices reduce stress and anxiet...</td>\n",
       "    </tr>\n",
       "    <tr>\n",
       "      <th>3</th>\n",
       "      <td>ChronicCare Companion Program</td>\n",
       "      <td>75% of our 9,000 members have reported feeling...</td>\n",
       "      <td>Use ChronicCare to track medication and appoin...</td>\n",
       "      <td>NaN</td>\n",
       "      <td>NaN</td>\n",
       "      <td>Tracking and coaching improve condition manage...</td>\n",
       "    </tr>\n",
       "    <tr>\n",
       "      <th>4</th>\n",
       "      <td>SpecialtyScript Medical Specialty RX</td>\n",
       "      <td>85% of our 11,000 members have reported diffic...</td>\n",
       "      <td>Use SpecialtyScript to find nearby medical spe...</td>\n",
       "      <td>NaN</td>\n",
       "      <td>NaN</td>\n",
       "      <td>Specialized care addresses complex health need...</td>\n",
       "    </tr>\n",
       "    <tr>\n",
       "      <th>5</th>\n",
       "      <td>HealthHero Preventive Care Chatbot</td>\n",
       "      <td>65% of our 9,000 members have reported having ...</td>\n",
       "      <td>Use HealthHero to ask questions and receive pe...</td>\n",
       "      <td>NaN</td>\n",
       "      <td>NaN</td>\n",
       "      <td>Easy access to information empowers informed d...</td>\n",
       "    </tr>\n",
       "    <tr>\n",
       "      <th>6</th>\n",
       "      <td>MindfulMind Behavioral Health App</td>\n",
       "      <td>85% of our 10,500 members have reported experi...</td>\n",
       "      <td>Use MindfulMind to access guided meditations a...</td>\n",
       "      <td>NaN</td>\n",
       "      <td>NaN</td>\n",
       "      <td>Mindfulness practices reduce stress and anxiet...</td>\n",
       "    </tr>\n",
       "    <tr>\n",
       "      <th>7</th>\n",
       "      <td>ChronicCarePlus Chronic Conditions Program</td>\n",
       "      <td>80% of our 9,500 members have reported feeling...</td>\n",
       "      <td>Use ChronicCarePlus to track medication and ap...</td>\n",
       "      <td>NaN</td>\n",
       "      <td>NaN</td>\n",
       "      <td>Tracking and coaching improve condition manage...</td>\n",
       "    </tr>\n",
       "    <tr>\n",
       "      <th>8</th>\n",
       "      <td>CareBridge Access to Care Platform</td>\n",
       "      <td>70% of our 8,500 members have reported difficu...</td>\n",
       "      <td>Use CareBridge to find nearby healthcare provi...</td>\n",
       "      <td>NaN</td>\n",
       "      <td>NaN</td>\n",
       "      <td>Convenient access reduces healthcare barriers....</td>\n",
       "    </tr>\n",
       "    <tr>\n",
       "      <th>9</th>\n",
       "      <td>SpecialtyCare Medical Specialty RX</td>\n",
       "      <td>90% of our 11,500 members have reported diffic...</td>\n",
       "      <td>Use SpecialtyCare to find nearby medical speci...</td>\n",
       "      <td>NaN</td>\n",
       "      <td>NaN</td>\n",
       "      <td>Specialized care addresses complex health need...</td>\n",
       "    </tr>\n",
       "  </tbody>\n",
       "</table>\n",
       "</div>"
      ],
      "text/plain": [
       "                 Product/ Reporting Category*  \\\n",
       "0              HealthHive Preventive Care Kit   \n",
       "1                 CareConnect Access Platform   \n",
       "2              MindWave Behavioral Health App   \n",
       "3               ChronicCare Companion Program   \n",
       "4        SpecialtyScript Medical Specialty RX   \n",
       "5          HealthHero Preventive Care Chatbot   \n",
       "6           MindfulMind Behavioral Health App   \n",
       "7  ChronicCarePlus Chronic Conditions Program   \n",
       "8          CareBridge Access to Care Platform   \n",
       "9          SpecialtyCare Medical Specialty RX   \n",
       "\n",
       "                                         Observation  \\\n",
       "0  70% of our 10,000 members have reported diffic...   \n",
       "1  75% of our 5,000 members have expressed a desi...   \n",
       "2  90% of our 12,000 members have reported experi...   \n",
       "3  75% of our 9,000 members have reported feeling...   \n",
       "4  85% of our 11,000 members have reported diffic...   \n",
       "5  65% of our 9,000 members have reported having ...   \n",
       "6  85% of our 10,500 members have reported experi...   \n",
       "7  80% of our 9,500 members have reported feeling...   \n",
       "8  70% of our 8,500 members have reported difficu...   \n",
       "9  90% of our 11,500 members have reported diffic...   \n",
       "\n",
       "                                    Recommendation 1  Recommendation 2  \\\n",
       "0  Use HealthHive to schedule and track preventiv...               NaN   \n",
       "1  Use CareConnect to find nearby healthcare prov...               NaN   \n",
       "2  Use MindWave to access guided meditations and ...               NaN   \n",
       "3  Use ChronicCare to track medication and appoin...               NaN   \n",
       "4  Use SpecialtyScript to find nearby medical spe...               NaN   \n",
       "5  Use HealthHero to ask questions and receive pe...               NaN   \n",
       "6  Use MindfulMind to access guided meditations a...               NaN   \n",
       "7  Use ChronicCarePlus to track medication and ap...               NaN   \n",
       "8  Use CareBridge to find nearby healthcare provi...               NaN   \n",
       "9  Use SpecialtyCare to find nearby medical speci...               NaN   \n",
       "\n",
       "   Recommendation 3                                                Why  \n",
       "0               NaN  Regular screenings detect health issues early....  \n",
       "1               NaN  Convenient access reduces healthcare barriers....  \n",
       "2               NaN  Mindfulness practices reduce stress and anxiet...  \n",
       "3               NaN  Tracking and coaching improve condition manage...  \n",
       "4               NaN  Specialized care addresses complex health need...  \n",
       "5               NaN  Easy access to information empowers informed d...  \n",
       "6               NaN  Mindfulness practices reduce stress and anxiet...  \n",
       "7               NaN  Tracking and coaching improve condition manage...  \n",
       "8               NaN  Convenient access reduces healthcare barriers....  \n",
       "9               NaN  Specialized care addresses complex health need...  "
      ]
     },
     "execution_count": 5,
     "metadata": {},
     "output_type": "execute_result"
    }
   ],
   "source": [
    "import pandas as pd\n",
    "mock_df = pd.read_excel(\"mock_recomm_library_lat.xlsx\")\n",
    "mock_df"
   ]
  },
  {
   "cell_type": "markdown",
   "metadata": {},
   "source": [
    "Create Pandas Dataframe Agent & ZeroShot Reasoning"
   ]
  },
  {
   "cell_type": "code",
   "execution_count": null,
   "metadata": {},
   "outputs": [],
   "source": [
    "from langchain_experimental.agents.agent_toolkits import create_pandas_dataframe_agent\n",
    "import pandas as pd\n",
    "from langchain_openai import OpenAI\n",
    "\n",
    "Prompt = \"\"\"\n",
    "        You have to remember the below product & theme relationship. From the user query find the theme by referring below product & theme relationship and search the dataframe to Provide Product/ Reporting Category and recommendations corresponding to the theme. if you found multiple Product/ Reporting Category for the theme please provide recommendations for all.\n",
    "\n",
    "            1) HealthHive Preventive care Kit Product/ Reporting Category and HealthHero Preventive Care Chatbot  Product/ Reporting Category are related to Preventive care theme.\n",
    "            2) CareBridge Access to Care Platform  Product/ Reporting Category and Careconnect Access Platform Kit Product/ Reporting Category are related to Access to care theme.\n",
    "            3) MindWave Behavioral Kit Product/ Reporting Category is related to Behavioral theme.\n",
    "            4) ChronicCare Program Kit Product/ Reporting Category is related to Chronic theme\n",
    "            5) Specialityscript Medical Kit Product/ Reporting Category is related to Pharmacy theme.\n",
    "       \n",
    "        \"\"\"\n",
    "\n",
    "df_agent = create_pandas_dataframe_agent(OpenAI(temperature=0), mock_df,  prefix=Prompt, verbose=True)"
   ]
  },
  {
   "cell_type": "code",
   "execution_count": 7,
   "metadata": {},
   "outputs": [
    {
     "name": "stdout",
     "output_type": "stream",
     "text": [
      "\n",
      "\n",
      "\u001b[1m> Entering new AgentExecutor chain...\u001b[0m\n",
      "\u001b[32;1m\u001b[1;3mThought: I should find the theme in the dataframe and then retrieve the corresponding recommendations.\n",
      "Action: python_repl_ast\n",
      "Action Input: df[df['Product/ Reporting Category*'].str.contains('Preventive care')]\u001b[0m\u001b[36;1m\u001b[1;3mEmpty DataFrame\n",
      "Columns: [Product/ Reporting Category*, Observation, Recommendation 1, Recommendation 2, Recommendation 3, Why]\n",
      "Index: []\u001b[0m\u001b[32;1m\u001b[1;3mI should check for any typos or formatting differences in the dataframe.\n",
      "Action: python_repl_ast\n",
      "Action Input: df['Product/ Reporting Category*'].unique()\u001b[0m\u001b[36;1m\u001b[1;3m['HealthHive Preventive Care Kit' 'CareConnect Access Platform'\n",
      " 'MindWave Behavioral Health App' 'ChronicCare Companion Program'\n",
      " 'SpecialtyScript Medical Specialty RX'\n",
      " 'HealthHero Preventive Care Chatbot' 'MindfulMind Behavioral Health App'\n",
      " 'ChronicCarePlus Chronic Conditions Program'\n",
      " 'CareBridge Access to Care Platform' 'SpecialtyCare Medical Specialty RX']\u001b[0m\u001b[32;1m\u001b[1;3m I should try searching for the theme using a different keyword.\n",
      "Action: python_repl_ast\n",
      "Action Input: df[df['Product/ Reporting Category*'].str.contains('Preventive')]\u001b[0m\u001b[36;1m\u001b[1;3m         Product/ Reporting Category*  \\\n",
      "0      HealthHive Preventive Care Kit   \n",
      "5  HealthHero Preventive Care Chatbot   \n",
      "\n",
      "                                         Observation  \\\n",
      "0  70% of our 10,000 members have reported diffic...   \n",
      "5  65% of our 9,000 members have reported having ...   \n",
      "\n",
      "                                    Recommendation 1  Recommendation 2  \\\n",
      "0  Use HealthHive to schedule and track preventiv...               NaN   \n",
      "5  Use HealthHero to ask questions and receive pe...               NaN   \n",
      "\n",
      "   Recommendation 3                                                Why  \n",
      "0               NaN  Regular screenings detect health issues early....  \n",
      "5               NaN  Easy access to information empowers informed d...  \u001b[0m\u001b[32;1m\u001b[1;3m I should retrieve the recommendations for both products.\n",
      "Action: python_repl_ast\n",
      "Action Input: df[df['Product/ Reporting Category*'].str.contains('Preventive')][['Product/ Reporting Category*', 'Recommendation 1', 'Recommendation 2', 'Recommendation 3']]\u001b[0m\u001b[36;1m\u001b[1;3m         Product/ Reporting Category*  \\\n",
      "0      HealthHive Preventive Care Kit   \n",
      "5  HealthHero Preventive Care Chatbot   \n",
      "\n",
      "                                    Recommendation 1  Recommendation 2  \\\n",
      "0  Use HealthHive to schedule and track preventiv...               NaN   \n",
      "5  Use HealthHero to ask questions and receive pe...               NaN   \n",
      "\n",
      "   Recommendation 3  \n",
      "0               NaN  \n",
      "5               NaN  \u001b[0m\u001b[32;1m\u001b[1;3m I now know the final answer.\n",
      "Final Answer: The recommendations for the Preventive care theme are to use HealthHive to schedule and track preventive care appointments, receive personalized reminders for recommended screenings and vaccinations, access educational resources to understand the importance of preventive care, and use HealthHero to ask questions and receive personalized responses about preventive care.\u001b[0m\n",
      "\n",
      "\u001b[1m> Finished chain.\u001b[0m\n"
     ]
    }
   ],
   "source": [
    "output_resp = df_agent.invoke(\"what are the recommendations for Preventive care theme?\")"
   ]
  },
  {
   "cell_type": "code",
   "execution_count": 9,
   "metadata": {},
   "outputs": [
    {
     "name": "stdout",
     "output_type": "stream",
     "text": [
      "{'input': 'what are the recommendations for Preventive care theme?', 'output': 'The recommendations for the Preventive care theme are to use HealthHive to schedule and track preventive care appointments, receive personalized reminders for recommended screenings and vaccinations, access educational resources to understand the importance of preventive care, and use HealthHero to ask questions and receive personalized responses about preventive care.'}\n",
      "what are the recommendations for Preventive care theme?\n",
      "The recommendations for the Preventive care theme are to use HealthHive to schedule and track preventive care appointments, receive personalized reminders for recommended screenings and vaccinations, access educational resources to understand the importance of preventive care, and use HealthHero to ask questions and receive personalized responses about preventive care.\n"
     ]
    }
   ],
   "source": [
    "print(output_resp)\n",
    "print(output_resp['input'])\n",
    "print(output_resp['output'])"
   ]
  },
  {
   "cell_type": "markdown",
   "metadata": {},
   "source": [
    "Convert to Langchain document to store in Vectore database"
   ]
  },
  {
   "cell_type": "code",
   "execution_count": 14,
   "metadata": {},
   "outputs": [],
   "source": [
    "from langchain.docstore.document import Document"
   ]
  },
  {
   "cell_type": "code",
   "execution_count": 27,
   "metadata": {},
   "outputs": [],
   "source": [
    "recomm_lib_output = []\n",
    "doc =  Document(page_content=\"{} {}\".format(output_resp['input'], output_resp['output']), metadata={\"client_name\": \"mock_client\", \"year\": \"2024\"})\n",
    "recomm_lib_output.append(doc)"
   ]
  },
  {
   "cell_type": "markdown",
   "metadata": {},
   "source": [
    "convert to embeddings and upload to Vectordb"
   ]
  },
  {
   "cell_type": "code",
   "execution_count": 28,
   "metadata": {},
   "outputs": [],
   "source": [
    "import chromadb\n",
    "\n",
    "from langchain_community.vectorstores import Chroma\n",
    "from langchain_openai import OpenAIEmbeddings\n",
    "\n",
    "embeddings = OpenAIEmbeddings()\n",
    "new_client = chromadb.EphemeralClient()\n",
    "vector_stor = Chroma.from_documents(recomm_lib_output, embeddings, client=new_client, collection_name = \"openai_collection\")"
   ]
  },
  {
   "cell_type": "markdown",
   "metadata": {},
   "source": [
    "Unstructured PDF Partition as Data Loader"
   ]
  },
  {
   "cell_type": "code",
   "execution_count": 29,
   "metadata": {},
   "outputs": [],
   "source": [
    "from langchain_community.document_loaders import UnstructuredPDFLoader\n"
   ]
  },
  {
   "cell_type": "code",
   "execution_count": 31,
   "metadata": {},
   "outputs": [
    {
     "name": "stdout",
     "output_type": "stream",
     "text": [
      "[Document(page_content='Current Themes and Recommendations\\n\\nPreventative Care\\n\\nAccess to Care\\n\\nBehavioral Health\\n\\nThemes\\n\\nPreventative\\n\\nER utilization and urgent care visits are low • Convenience\\n\\nER utilization and urgent care visits are low • Convenience\\n\\ncare increased\\n\\nTelehealth\\n\\nutilized by 30% of members\\n\\n\\n\\n\\n\\n\\n\\n30% of members had a behavioral health conditions 35% of behavioral members are dependents 25% of prescriptions dispensed without PCP visit\\n\\nRecommendations HealthHive\\n\\nPreventive Care Kit Use HealthHive to schedule and track preventive care appointments.\\n\\nCareConnect Access Platform\\n\\nChronic Conditions\\n\\nObesity and hypertension were top chronic conditions, both are risk factors for Type 2 diabetes ChronicCare Companion Program\\n\\nObesity and hypertension were top chronic conditions, both are risk factors for Type 2 diabetes ChronicCare Companion Program\\n\\nPharmacy\\n\\nSpecialty drugs were a large part of expenses of high cost claims\\n\\nSpecialtyScript\\n\\nRecommendations and Future State\\n\\nPreventative/ Wellness Initiative\\n\\nAccess to Care\\n\\nBehavioral\\n\\nUse HealthHive to schedule and track preventive care appointments.\\n\\nReceive personalized reminders for recommended screenings and vaccinations.\\n\\nAccess educational resources to understand the importance of preventive care\\n\\nUse CareConnect to find nearby healthcare providers and services.\\n\\nCompare prices and availability to make informed choices.\\n\\nAccess telemedicine options for remote consultations.\\n\\nUse MindWave to access guided meditations and therapy sessions.\\n\\nTrack mood and progress to identify patterns and growth.\\n\\nConnect with a supportive community for encouragement.\\n\\nPharmacy\\n\\nUse\\n\\nSpecialtyScript to find nearby medical specialists.\\n\\nAccess affordable and convenient prescription services. • Receive personalized support for medication management.', metadata={'source': 'pdf_files/mock_client_slide_deck_lat.pdf'})]\n"
     ]
    }
   ],
   "source": [
    "loader = UnstructuredPDFLoader(\"pdf_files/mock_client_slide_deck_lat.pdf\")\n",
    "recomm_deck = loader.load()\n",
    "print(recomm_deck)"
   ]
  },
  {
   "cell_type": "markdown",
   "metadata": {},
   "source": [
    "Add Metadata to the Documents"
   ]
  },
  {
   "cell_type": "code",
   "execution_count": 32,
   "metadata": {},
   "outputs": [],
   "source": [
    "recomm_deck[0].metadata['client_name'] = 'mock_client'\n",
    "recomm_deck[0].metadata['year'] = '2024'"
   ]
  },
  {
   "cell_type": "code",
   "execution_count": 33,
   "metadata": {},
   "outputs": [],
   "source": [
    "import chromadb\n",
    "\n",
    "from langchain_community.vectorstores import Chroma\n",
    "from langchain_openai import OpenAIEmbeddings\n",
    "\n",
    "embeddings = OpenAIEmbeddings()\n",
    "new_client = chromadb.EphemeralClient()\n",
    "vector_stor = Chroma.from_documents(recomm_deck, embeddings, client=new_client, collection_name = \"openai_collection\")"
   ]
  },
  {
   "cell_type": "markdown",
   "metadata": {},
   "source": [
    "Describe the metadata for Self Query Retriever"
   ]
  },
  {
   "cell_type": "code",
   "execution_count": 37,
   "metadata": {},
   "outputs": [],
   "source": [
    "from langchain.chains.query_constructor.base import AttributeInfo\n",
    "from langchain.retrievers.self_query.base import SelfQueryRetriever\n",
    "from langchain_openai import ChatOpenAI\n",
    "\n",
    "metadata_field_info = [\n",
    "    AttributeInfo(\n",
    "        name = \"source\",\n",
    "        description=\"Name of the document\",\n",
    "        type=\"string\",\n",
    "    ),\n",
    "    AttributeInfo(\n",
    "        name = \"client_name\",\n",
    "        description=\"Name of the client\",\n",
    "        type=\"string\",\n",
    "    ),\n",
    "    AttributeInfo(\n",
    "        name = \"year\",\n",
    "        description=\"Document created year\",\n",
    "        type=\"string\",\n",
    "    ),\n",
    "\n",
    "]\n",
    "document_content_desc = \"mock client recommendations\"\n",
    "llm = ChatOpenAI(temperature=0)\n",
    "retriever = SelfQueryRetriever.from_llm(llm,\n",
    "                                        vector_stor,\n",
    "                                        document_content_desc,\n",
    "                                        metadata_field_info, search_kwargs={\"k\":1})"
   ]
  },
  {
   "cell_type": "markdown",
   "metadata": {},
   "source": [
    "Langchain RAG Prompt"
   ]
  },
  {
   "cell_type": "code",
   "execution_count": 38,
   "metadata": {},
   "outputs": [
    {
     "name": "stdout",
     "output_type": "stream",
     "text": [
      "input_variables=['context', 'question'] metadata={'lc_hub_owner': 'rlm', 'lc_hub_repo': 'rag-prompt', 'lc_hub_commit_hash': '50442af133e61576e74536c6556cefe1fac147cad032f4377b60c436e6cdcb6e'} messages=[HumanMessagePromptTemplate(prompt=PromptTemplate(input_variables=['context', 'question'], template=\"You are an assistant for question-answering tasks. Use the following pieces of retrieved context to answer the question. If you don't know the answer, just say that you don't know. Use three sentences maximum and keep the answer concise.\\nQuestion: {question} \\nContext: {context} \\nAnswer:\"))]\n"
     ]
    }
   ],
   "source": [
    "from langchain import hub\n",
    "rag_prompt = hub.pull(\"rlm/rag-prompt\")\n",
    "print(rag_prompt)"
   ]
  },
  {
   "cell_type": "code",
   "execution_count": 39,
   "metadata": {},
   "outputs": [
    {
     "name": "stdout",
     "output_type": "stream",
     "text": [
      "input_variables=['context'] messages=[HumanMessagePromptTemplate(prompt=PromptTemplate(input_variables=['context'], template=\"You are an assistant for question answering tasks. Use the following pieces of retrieved context to answer the question. if you don't know the answer just say don't know. \\nQuestion \\nContext: {context} \\nAnswer\"))]\n"
     ]
    }
   ],
   "source": [
    "from langchain_openai import ChatOpenAI\n",
    "llm = ChatOpenAI(model=\"gpt-4\", temperature=0)\n",
    "from langchain_core.prompts import ChatPromptTemplate\n",
    "from langchain_core.prompts import HumanMessagePromptTemplate\n",
    "from langchain_core.prompts import PromptTemplate\n",
    "\n",
    "prompt = ChatPromptTemplate(input_variables=['context', 'question'], messages=[HumanMessagePromptTemplate(prompt=PromptTemplate(input_variables=['context', 'question'],\n",
    "    template = \"You are an assistant for question answering tasks. Use the following pieces of retrieved context to answer the question. if you don't know the answer just say don't know. \\nQuestion \\nContext: {context} \\nAnswer\"))])\n",
    "print(prompt)"
   ]
  },
  {
   "cell_type": "markdown",
   "metadata": {},
   "source": [
    "Invoke RAG Chain"
   ]
  },
  {
   "cell_type": "code",
   "execution_count": 42,
   "metadata": {},
   "outputs": [
    {
     "data": {
      "text/plain": [
       "'The preventive care recommendations for mock_client in 2024 include using HealthHive to schedule and track preventive care appointments, receiving personalized reminders for recommended screenings and vaccinations, and accessing educational resources to understand the importance of preventive care. They can also use HealthHero to ask questions and receive personalized recommendations for preventive care. Regular screenings and vaccinations are also recommended to prevent illnesses and outbreaks.'"
      ]
     },
     "execution_count": 42,
     "metadata": {},
     "output_type": "execute_result"
    }
   ],
   "source": [
    "from langchain_core.output_parsers import StrOutputParser\n",
    "from langchain_core.runnables import RunnablePassthrough\n",
    "rag_chain = ({\"context\": retriever, \"question\": RunnablePassthrough()}\n",
    "            | rag_prompt\n",
    "             | llm\n",
    "             | StrOutputParser()\n",
    "            )\n",
    "rag_chain.invoke(\"What are the Preventive care recommendations in 2024 for mock_client?\")"
   ]
  }
 ],
 "metadata": {
  "kernelspec": {
   "display_name": "my-python3-kernel-jupyter",
   "language": "python",
   "name": "my-python3-kernel-jupyter"
  },
  "language_info": {
   "codemirror_mode": {
    "name": "ipython",
    "version": 3
   },
   "file_extension": ".py",
   "mimetype": "text/x-python",
   "name": "python",
   "nbconvert_exporter": "python",
   "pygments_lexer": "ipython3",
   "version": "3.9.6"
  }
 },
 "nbformat": 4,
 "nbformat_minor": 2
}
