{
 "cells": [
  {
   "cell_type": "code",
   "execution_count": 1,
   "metadata": {},
   "outputs": [
    {
     "name": "stdout",
     "output_type": "stream",
     "text": [
      "Defaulting to user installation because normal site-packages is not writeable\n",
      "Requirement already satisfied: nest_asyncio in /Users/dileepbarla/Library/Python/3.9/lib/python/site-packages (from -r ./requirements.txt (line 1)) (1.6.0)\n",
      "Requirement already satisfied: llama-index in /Users/dileepbarla/Library/Python/3.9/lib/python/site-packages (from -r ./requirements.txt (line 2)) (0.10.39)\n",
      "Requirement already satisfied: llama-index-embeddings-openai in /Users/dileepbarla/Library/Python/3.9/lib/python/site-packages (from -r ./requirements.txt (line 3)) (0.1.10)\n",
      "Requirement already satisfied: openpyxl in /Users/dileepbarla/Library/Python/3.9/lib/python/site-packages (from -r ./requirements.txt (line 4)) (3.1.3)\n",
      "Requirement already satisfied: langchain_experimental in /Users/dileepbarla/Library/Python/3.9/lib/python/site-packages (from -r ./requirements.txt (line 5)) (0.0.59)\n",
      "Requirement already satisfied: llama-index-agent-openai<0.3.0,>=0.1.4 in /Users/dileepbarla/Library/Python/3.9/lib/python/site-packages (from llama-index->-r ./requirements.txt (line 2)) (0.2.5)\n",
      "Requirement already satisfied: llama-index-cli<0.2.0,>=0.1.2 in /Users/dileepbarla/Library/Python/3.9/lib/python/site-packages (from llama-index->-r ./requirements.txt (line 2)) (0.1.12)\n",
      "Requirement already satisfied: llama-index-core<0.11.0,>=0.10.39 in /Users/dileepbarla/Library/Python/3.9/lib/python/site-packages (from llama-index->-r ./requirements.txt (line 2)) (0.10.39.post1)\n",
      "Requirement already satisfied: llama-index-indices-managed-llama-cloud<0.2.0,>=0.1.2 in /Users/dileepbarla/Library/Python/3.9/lib/python/site-packages (from llama-index->-r ./requirements.txt (line 2)) (0.1.6)\n",
      "Requirement already satisfied: llama-index-legacy<0.10.0,>=0.9.48 in /Users/dileepbarla/Library/Python/3.9/lib/python/site-packages (from llama-index->-r ./requirements.txt (line 2)) (0.9.48)\n",
      "Requirement already satisfied: llama-index-llms-openai<0.2.0,>=0.1.13 in /Users/dileepbarla/Library/Python/3.9/lib/python/site-packages (from llama-index->-r ./requirements.txt (line 2)) (0.1.21)\n",
      "Requirement already satisfied: llama-index-multi-modal-llms-openai<0.2.0,>=0.1.3 in /Users/dileepbarla/Library/Python/3.9/lib/python/site-packages (from llama-index->-r ./requirements.txt (line 2)) (0.1.6)\n",
      "Requirement already satisfied: llama-index-program-openai<0.2.0,>=0.1.3 in /Users/dileepbarla/Library/Python/3.9/lib/python/site-packages (from llama-index->-r ./requirements.txt (line 2)) (0.1.6)\n",
      "Requirement already satisfied: llama-index-question-gen-openai<0.2.0,>=0.1.2 in /Users/dileepbarla/Library/Python/3.9/lib/python/site-packages (from llama-index->-r ./requirements.txt (line 2)) (0.1.3)\n",
      "Requirement already satisfied: llama-index-readers-file<0.2.0,>=0.1.4 in /Users/dileepbarla/Library/Python/3.9/lib/python/site-packages (from llama-index->-r ./requirements.txt (line 2)) (0.1.23)\n",
      "Requirement already satisfied: llama-index-readers-llama-parse<0.2.0,>=0.1.2 in /Users/dileepbarla/Library/Python/3.9/lib/python/site-packages (from llama-index->-r ./requirements.txt (line 2)) (0.1.4)\n",
      "Requirement already satisfied: et-xmlfile in /Users/dileepbarla/Library/Python/3.9/lib/python/site-packages (from openpyxl->-r ./requirements.txt (line 4)) (1.1.0)\n",
      "Requirement already satisfied: langchain-community<0.3,>=0.2 in /Users/dileepbarla/Library/Python/3.9/lib/python/site-packages (from langchain_experimental->-r ./requirements.txt (line 5)) (0.2.1)\n",
      "Requirement already satisfied: langchain-core<0.3,>=0.2 in /Users/dileepbarla/Library/Python/3.9/lib/python/site-packages (from langchain_experimental->-r ./requirements.txt (line 5)) (0.2.2)\n",
      "Requirement already satisfied: PyYAML>=5.3 in /Users/dileepbarla/Library/Python/3.9/lib/python/site-packages (from langchain-community<0.3,>=0.2->langchain_experimental->-r ./requirements.txt (line 5)) (6.0.1)\n",
      "Requirement already satisfied: SQLAlchemy<3,>=1.4 in /Users/dileepbarla/Library/Python/3.9/lib/python/site-packages (from langchain-community<0.3,>=0.2->langchain_experimental->-r ./requirements.txt (line 5)) (2.0.29)\n",
      "Requirement already satisfied: aiohttp<4.0.0,>=3.8.3 in /Users/dileepbarla/Library/Python/3.9/lib/python/site-packages (from langchain-community<0.3,>=0.2->langchain_experimental->-r ./requirements.txt (line 5)) (3.9.5)\n",
      "Requirement already satisfied: dataclasses-json<0.7,>=0.5.7 in /Users/dileepbarla/Library/Python/3.9/lib/python/site-packages (from langchain-community<0.3,>=0.2->langchain_experimental->-r ./requirements.txt (line 5)) (0.6.4)\n",
      "Requirement already satisfied: langchain<0.3.0,>=0.2.0 in /Users/dileepbarla/Library/Python/3.9/lib/python/site-packages (from langchain-community<0.3,>=0.2->langchain_experimental->-r ./requirements.txt (line 5)) (0.2.1)\n",
      "Requirement already satisfied: langsmith<0.2.0,>=0.1.0 in /Users/dileepbarla/Library/Python/3.9/lib/python/site-packages (from langchain-community<0.3,>=0.2->langchain_experimental->-r ./requirements.txt (line 5)) (0.1.50)\n",
      "Requirement already satisfied: numpy<2,>=1 in /Users/dileepbarla/Library/Python/3.9/lib/python/site-packages (from langchain-community<0.3,>=0.2->langchain_experimental->-r ./requirements.txt (line 5)) (1.26.4)\n",
      "Requirement already satisfied: requests<3,>=2 in /Users/dileepbarla/Library/Python/3.9/lib/python/site-packages (from langchain-community<0.3,>=0.2->langchain_experimental->-r ./requirements.txt (line 5)) (2.31.0)\n",
      "Requirement already satisfied: tenacity<9.0.0,>=8.1.0 in /Users/dileepbarla/Library/Python/3.9/lib/python/site-packages (from langchain-community<0.3,>=0.2->langchain_experimental->-r ./requirements.txt (line 5)) (8.2.3)\n",
      "Requirement already satisfied: jsonpatch<2.0,>=1.33 in /Users/dileepbarla/Library/Python/3.9/lib/python/site-packages (from langchain-core<0.3,>=0.2->langchain_experimental->-r ./requirements.txt (line 5)) (1.33)\n",
      "Requirement already satisfied: packaging<24.0,>=23.2 in /Users/dileepbarla/Library/Python/3.9/lib/python/site-packages (from langchain-core<0.3,>=0.2->langchain_experimental->-r ./requirements.txt (line 5)) (23.2)\n",
      "Requirement already satisfied: pydantic<3,>=1 in /Users/dileepbarla/Library/Python/3.9/lib/python/site-packages (from langchain-core<0.3,>=0.2->langchain_experimental->-r ./requirements.txt (line 5)) (2.7.1)\n",
      "Requirement already satisfied: openai>=1.14.0 in /Users/dileepbarla/Library/Python/3.9/lib/python/site-packages (from llama-index-agent-openai<0.3.0,>=0.1.4->llama-index->-r ./requirements.txt (line 2)) (1.23.3)\n",
      "Requirement already satisfied: deprecated>=1.2.9.3 in /Users/dileepbarla/Library/Python/3.9/lib/python/site-packages (from llama-index-core<0.11.0,>=0.10.39->llama-index->-r ./requirements.txt (line 2)) (1.2.14)\n",
      "Requirement already satisfied: dirtyjson<2.0.0,>=1.0.8 in /Users/dileepbarla/Library/Python/3.9/lib/python/site-packages (from llama-index-core<0.11.0,>=0.10.39->llama-index->-r ./requirements.txt (line 2)) (1.0.8)\n",
      "Requirement already satisfied: fsspec>=2023.5.0 in /Users/dileepbarla/Library/Python/3.9/lib/python/site-packages (from llama-index-core<0.11.0,>=0.10.39->llama-index->-r ./requirements.txt (line 2)) (2024.3.1)\n",
      "Requirement already satisfied: httpx in /Users/dileepbarla/Library/Python/3.9/lib/python/site-packages (from llama-index-core<0.11.0,>=0.10.39->llama-index->-r ./requirements.txt (line 2)) (0.27.0)\n",
      "Requirement already satisfied: llamaindex-py-client<0.2.0,>=0.1.18 in /Users/dileepbarla/Library/Python/3.9/lib/python/site-packages (from llama-index-core<0.11.0,>=0.10.39->llama-index->-r ./requirements.txt (line 2)) (0.1.19)\n",
      "Requirement already satisfied: networkx>=3.0 in /Users/dileepbarla/Library/Python/3.9/lib/python/site-packages (from llama-index-core<0.11.0,>=0.10.39->llama-index->-r ./requirements.txt (line 2)) (3.2.1)\n",
      "Requirement already satisfied: nltk<4.0.0,>=3.8.1 in /Users/dileepbarla/Library/Python/3.9/lib/python/site-packages (from llama-index-core<0.11.0,>=0.10.39->llama-index->-r ./requirements.txt (line 2)) (3.8.1)\n",
      "Requirement already satisfied: pandas in /Users/dileepbarla/Library/Python/3.9/lib/python/site-packages (from llama-index-core<0.11.0,>=0.10.39->llama-index->-r ./requirements.txt (line 2)) (2.2.2)\n",
      "Requirement already satisfied: pillow>=9.0.0 in /Users/dileepbarla/Library/Python/3.9/lib/python/site-packages (from llama-index-core<0.11.0,>=0.10.39->llama-index->-r ./requirements.txt (line 2)) (10.3.0)\n",
      "Requirement already satisfied: tiktoken>=0.3.3 in /Users/dileepbarla/Library/Python/3.9/lib/python/site-packages (from llama-index-core<0.11.0,>=0.10.39->llama-index->-r ./requirements.txt (line 2)) (0.6.0)\n",
      "Requirement already satisfied: tqdm<5.0.0,>=4.66.1 in /Users/dileepbarla/Library/Python/3.9/lib/python/site-packages (from llama-index-core<0.11.0,>=0.10.39->llama-index->-r ./requirements.txt (line 2)) (4.66.2)\n",
      "Requirement already satisfied: typing-extensions>=4.5.0 in /Users/dileepbarla/Library/Python/3.9/lib/python/site-packages (from llama-index-core<0.11.0,>=0.10.39->llama-index->-r ./requirements.txt (line 2)) (4.11.0)\n",
      "Requirement already satisfied: typing-inspect>=0.8.0 in /Users/dileepbarla/Library/Python/3.9/lib/python/site-packages (from llama-index-core<0.11.0,>=0.10.39->llama-index->-r ./requirements.txt (line 2)) (0.9.0)\n",
      "Requirement already satisfied: wrapt in /Users/dileepbarla/Library/Python/3.9/lib/python/site-packages (from llama-index-core<0.11.0,>=0.10.39->llama-index->-r ./requirements.txt (line 2)) (1.16.0)\n",
      "Requirement already satisfied: beautifulsoup4<5.0.0,>=4.12.3 in /Users/dileepbarla/Library/Python/3.9/lib/python/site-packages (from llama-index-readers-file<0.2.0,>=0.1.4->llama-index->-r ./requirements.txt (line 2)) (4.12.3)\n",
      "Requirement already satisfied: pypdf<5.0.0,>=4.0.1 in /Users/dileepbarla/Library/Python/3.9/lib/python/site-packages (from llama-index-readers-file<0.2.0,>=0.1.4->llama-index->-r ./requirements.txt (line 2)) (4.2.0)\n",
      "Requirement already satisfied: striprtf<0.0.27,>=0.0.26 in /Users/dileepbarla/Library/Python/3.9/lib/python/site-packages (from llama-index-readers-file<0.2.0,>=0.1.4->llama-index->-r ./requirements.txt (line 2)) (0.0.26)\n",
      "Requirement already satisfied: llama-parse<0.5.0,>=0.4.0 in /Users/dileepbarla/Library/Python/3.9/lib/python/site-packages (from llama-index-readers-llama-parse<0.2.0,>=0.1.2->llama-index->-r ./requirements.txt (line 2)) (0.4.3)\n",
      "Requirement already satisfied: aiosignal>=1.1.2 in /Users/dileepbarla/Library/Python/3.9/lib/python/site-packages (from aiohttp<4.0.0,>=3.8.3->langchain-community<0.3,>=0.2->langchain_experimental->-r ./requirements.txt (line 5)) (1.3.1)\n",
      "Requirement already satisfied: attrs>=17.3.0 in /Users/dileepbarla/Library/Python/3.9/lib/python/site-packages (from aiohttp<4.0.0,>=3.8.3->langchain-community<0.3,>=0.2->langchain_experimental->-r ./requirements.txt (line 5)) (23.2.0)\n",
      "Requirement already satisfied: frozenlist>=1.1.1 in /Users/dileepbarla/Library/Python/3.9/lib/python/site-packages (from aiohttp<4.0.0,>=3.8.3->langchain-community<0.3,>=0.2->langchain_experimental->-r ./requirements.txt (line 5)) (1.4.1)\n",
      "Requirement already satisfied: multidict<7.0,>=4.5 in /Users/dileepbarla/Library/Python/3.9/lib/python/site-packages (from aiohttp<4.0.0,>=3.8.3->langchain-community<0.3,>=0.2->langchain_experimental->-r ./requirements.txt (line 5)) (6.0.5)\n",
      "Requirement already satisfied: yarl<2.0,>=1.0 in /Users/dileepbarla/Library/Python/3.9/lib/python/site-packages (from aiohttp<4.0.0,>=3.8.3->langchain-community<0.3,>=0.2->langchain_experimental->-r ./requirements.txt (line 5)) (1.9.4)\n",
      "Requirement already satisfied: async-timeout<5.0,>=4.0 in /Users/dileepbarla/Library/Python/3.9/lib/python/site-packages (from aiohttp<4.0.0,>=3.8.3->langchain-community<0.3,>=0.2->langchain_experimental->-r ./requirements.txt (line 5)) (4.0.3)\n",
      "Requirement already satisfied: soupsieve>1.2 in /Users/dileepbarla/Library/Python/3.9/lib/python/site-packages (from beautifulsoup4<5.0.0,>=4.12.3->llama-index-readers-file<0.2.0,>=0.1.4->llama-index->-r ./requirements.txt (line 2)) (2.5)\n",
      "Requirement already satisfied: marshmallow<4.0.0,>=3.18.0 in /Users/dileepbarla/Library/Python/3.9/lib/python/site-packages (from dataclasses-json<0.7,>=0.5.7->langchain-community<0.3,>=0.2->langchain_experimental->-r ./requirements.txt (line 5)) (3.21.1)\n",
      "Requirement already satisfied: jsonpointer>=1.9 in /Users/dileepbarla/Library/Python/3.9/lib/python/site-packages (from jsonpatch<2.0,>=1.33->langchain-core<0.3,>=0.2->langchain_experimental->-r ./requirements.txt (line 5)) (2.4)\n",
      "Requirement already satisfied: langchain-text-splitters<0.3.0,>=0.2.0 in /Users/dileepbarla/Library/Python/3.9/lib/python/site-packages (from langchain<0.3.0,>=0.2.0->langchain-community<0.3,>=0.2->langchain_experimental->-r ./requirements.txt (line 5)) (0.2.0)\n",
      "Requirement already satisfied: orjson<4.0.0,>=3.9.14 in /Users/dileepbarla/Library/Python/3.9/lib/python/site-packages (from langsmith<0.2.0,>=0.1.0->langchain-community<0.3,>=0.2->langchain_experimental->-r ./requirements.txt (line 5)) (3.10.1)\n",
      "Requirement already satisfied: anyio in /Users/dileepbarla/Library/Python/3.9/lib/python/site-packages (from httpx->llama-index-core<0.11.0,>=0.10.39->llama-index->-r ./requirements.txt (line 2)) (4.3.0)\n",
      "Requirement already satisfied: certifi in /Users/dileepbarla/Library/Python/3.9/lib/python/site-packages (from httpx->llama-index-core<0.11.0,>=0.10.39->llama-index->-r ./requirements.txt (line 2)) (2024.2.2)\n",
      "Requirement already satisfied: httpcore==1.* in /Users/dileepbarla/Library/Python/3.9/lib/python/site-packages (from httpx->llama-index-core<0.11.0,>=0.10.39->llama-index->-r ./requirements.txt (line 2)) (1.0.5)\n",
      "Requirement already satisfied: idna in /Users/dileepbarla/Library/Python/3.9/lib/python/site-packages (from httpx->llama-index-core<0.11.0,>=0.10.39->llama-index->-r ./requirements.txt (line 2)) (3.7)\n",
      "Requirement already satisfied: sniffio in /Users/dileepbarla/Library/Python/3.9/lib/python/site-packages (from httpx->llama-index-core<0.11.0,>=0.10.39->llama-index->-r ./requirements.txt (line 2)) (1.3.1)\n",
      "Requirement already satisfied: h11<0.15,>=0.13 in /Users/dileepbarla/Library/Python/3.9/lib/python/site-packages (from httpcore==1.*->httpx->llama-index-core<0.11.0,>=0.10.39->llama-index->-r ./requirements.txt (line 2)) (0.14.0)\n",
      "Requirement already satisfied: click in /Users/dileepbarla/Library/Python/3.9/lib/python/site-packages (from nltk<4.0.0,>=3.8.1->llama-index-core<0.11.0,>=0.10.39->llama-index->-r ./requirements.txt (line 2)) (8.1.7)\n",
      "Requirement already satisfied: joblib in /Users/dileepbarla/Library/Python/3.9/lib/python/site-packages (from nltk<4.0.0,>=3.8.1->llama-index-core<0.11.0,>=0.10.39->llama-index->-r ./requirements.txt (line 2)) (1.4.0)\n",
      "Requirement already satisfied: regex>=2021.8.3 in /Users/dileepbarla/Library/Python/3.9/lib/python/site-packages (from nltk<4.0.0,>=3.8.1->llama-index-core<0.11.0,>=0.10.39->llama-index->-r ./requirements.txt (line 2)) (2024.4.16)\n",
      "Requirement already satisfied: distro<2,>=1.7.0 in /Users/dileepbarla/Library/Python/3.9/lib/python/site-packages (from openai>=1.14.0->llama-index-agent-openai<0.3.0,>=0.1.4->llama-index->-r ./requirements.txt (line 2)) (1.9.0)\n",
      "Requirement already satisfied: annotated-types>=0.4.0 in /Users/dileepbarla/Library/Python/3.9/lib/python/site-packages (from pydantic<3,>=1->langchain-core<0.3,>=0.2->langchain_experimental->-r ./requirements.txt (line 5)) (0.6.0)\n",
      "Requirement already satisfied: pydantic-core==2.18.2 in /Users/dileepbarla/Library/Python/3.9/lib/python/site-packages (from pydantic<3,>=1->langchain-core<0.3,>=0.2->langchain_experimental->-r ./requirements.txt (line 5)) (2.18.2)\n",
      "Requirement already satisfied: charset-normalizer<4,>=2 in /Users/dileepbarla/Library/Python/3.9/lib/python/site-packages (from requests<3,>=2->langchain-community<0.3,>=0.2->langchain_experimental->-r ./requirements.txt (line 5)) (3.3.2)\n",
      "Requirement already satisfied: urllib3<3,>=1.21.1 in /Users/dileepbarla/Library/Python/3.9/lib/python/site-packages (from requests<3,>=2->langchain-community<0.3,>=0.2->langchain_experimental->-r ./requirements.txt (line 5)) (2.2.1)\n",
      "Requirement already satisfied: greenlet!=0.4.17 in /Users/dileepbarla/Library/Python/3.9/lib/python/site-packages (from SQLAlchemy[asyncio]>=1.4.49->llama-index-core<0.11.0,>=0.10.39->llama-index->-r ./requirements.txt (line 2)) (3.0.3)\n",
      "Requirement already satisfied: mypy-extensions>=0.3.0 in /Users/dileepbarla/Library/Python/3.9/lib/python/site-packages (from typing-inspect>=0.8.0->llama-index-core<0.11.0,>=0.10.39->llama-index->-r ./requirements.txt (line 2)) (1.0.0)\n",
      "Requirement already satisfied: python-dateutil>=2.8.2 in /Users/dileepbarla/Library/Python/3.9/lib/python/site-packages (from pandas->llama-index-core<0.11.0,>=0.10.39->llama-index->-r ./requirements.txt (line 2)) (2.9.0.post0)\n",
      "Requirement already satisfied: pytz>=2020.1 in /Users/dileepbarla/Library/Python/3.9/lib/python/site-packages (from pandas->llama-index-core<0.11.0,>=0.10.39->llama-index->-r ./requirements.txt (line 2)) (2024.1)\n",
      "Requirement already satisfied: tzdata>=2022.7 in /Users/dileepbarla/Library/Python/3.9/lib/python/site-packages (from pandas->llama-index-core<0.11.0,>=0.10.39->llama-index->-r ./requirements.txt (line 2)) (2024.1)\n",
      "Requirement already satisfied: exceptiongroup>=1.0.2 in /Users/dileepbarla/Library/Python/3.9/lib/python/site-packages (from anyio->httpx->llama-index-core<0.11.0,>=0.10.39->llama-index->-r ./requirements.txt (line 2)) (1.2.1)\n",
      "Requirement already satisfied: six>=1.5 in /Users/dileepbarla/Library/Python/3.9/lib/python/site-packages (from python-dateutil>=2.8.2->pandas->llama-index-core<0.11.0,>=0.10.39->llama-index->-r ./requirements.txt (line 2)) (1.16.0)\n",
      "Note: you may need to restart the kernel to use updated packages.\n"
     ]
    }
   ],
   "source": [
    "%pip install -r ./requirements.txt"
   ]
  },
  {
   "cell_type": "code",
   "execution_count": 2,
   "metadata": {},
   "outputs": [
    {
     "data": {
      "text/plain": [
       "True"
      ]
     },
     "execution_count": 2,
     "metadata": {},
     "output_type": "execute_result"
    }
   ],
   "source": [
    "from dotenv import load_dotenv\n",
    "load_dotenv()"
   ]
  },
  {
   "cell_type": "code",
   "execution_count": 3,
   "metadata": {},
   "outputs": [
    {
     "data": {
      "text/html": [
       "<div>\n",
       "<style scoped>\n",
       "    .dataframe tbody tr th:only-of-type {\n",
       "        vertical-align: middle;\n",
       "    }\n",
       "\n",
       "    .dataframe tbody tr th {\n",
       "        vertical-align: top;\n",
       "    }\n",
       "\n",
       "    .dataframe thead th {\n",
       "        text-align: right;\n",
       "    }\n",
       "</style>\n",
       "<table border=\"1\" class=\"dataframe\">\n",
       "  <thead>\n",
       "    <tr style=\"text-align: right;\">\n",
       "      <th></th>\n",
       "      <th>Product/ Reporting Category*</th>\n",
       "      <th>Observation</th>\n",
       "      <th>Recommendation 1</th>\n",
       "      <th>Recommendation 2</th>\n",
       "      <th>Recommendation 3</th>\n",
       "      <th>Why</th>\n",
       "    </tr>\n",
       "  </thead>\n",
       "  <tbody>\n",
       "    <tr>\n",
       "      <th>0</th>\n",
       "      <td>HealthHive Preventive Care Kit</td>\n",
       "      <td>70% of our 10,000 members have reported diffic...</td>\n",
       "      <td>Use HealthHive to schedule and track preventiv...</td>\n",
       "      <td>NaN</td>\n",
       "      <td>NaN</td>\n",
       "      <td>Regular screenings detect health issues early....</td>\n",
       "    </tr>\n",
       "    <tr>\n",
       "      <th>1</th>\n",
       "      <td>CareConnect Access Platform</td>\n",
       "      <td>75% of our 5,000 members have expressed a desi...</td>\n",
       "      <td>Use CareConnect to find nearby healthcare prov...</td>\n",
       "      <td>NaN</td>\n",
       "      <td>NaN</td>\n",
       "      <td>Convenient access reduces healthcare barriers....</td>\n",
       "    </tr>\n",
       "    <tr>\n",
       "      <th>2</th>\n",
       "      <td>MindWave Behavioral Health App</td>\n",
       "      <td>90% of our 12,000 members have reported experi...</td>\n",
       "      <td>Use MindWave to access guided meditations and ...</td>\n",
       "      <td>NaN</td>\n",
       "      <td>NaN</td>\n",
       "      <td>Mindfulness practices reduce stress and anxiet...</td>\n",
       "    </tr>\n",
       "    <tr>\n",
       "      <th>3</th>\n",
       "      <td>ChronicCare Companion Program</td>\n",
       "      <td>75% of our 9,000 members have reported feeling...</td>\n",
       "      <td>Use ChronicCare to track medication and appoin...</td>\n",
       "      <td>NaN</td>\n",
       "      <td>NaN</td>\n",
       "      <td>Tracking and coaching improve condition manage...</td>\n",
       "    </tr>\n",
       "    <tr>\n",
       "      <th>4</th>\n",
       "      <td>SpecialtyScript Medical Specialty RX</td>\n",
       "      <td>85% of our 11,000 members have reported diffic...</td>\n",
       "      <td>Use SpecialtyScript to find nearby medical spe...</td>\n",
       "      <td>NaN</td>\n",
       "      <td>NaN</td>\n",
       "      <td>Specialized care addresses complex health need...</td>\n",
       "    </tr>\n",
       "    <tr>\n",
       "      <th>5</th>\n",
       "      <td>HealthHero Preventive Care Chatbot</td>\n",
       "      <td>65% of our 9,000 members have reported having ...</td>\n",
       "      <td>Use HealthHero to ask questions and receive pe...</td>\n",
       "      <td>NaN</td>\n",
       "      <td>NaN</td>\n",
       "      <td>Easy access to information empowers informed d...</td>\n",
       "    </tr>\n",
       "    <tr>\n",
       "      <th>6</th>\n",
       "      <td>MindfulMind Behavioral Health App</td>\n",
       "      <td>85% of our 10,500 members have reported experi...</td>\n",
       "      <td>Use MindfulMind to access guided meditations a...</td>\n",
       "      <td>NaN</td>\n",
       "      <td>NaN</td>\n",
       "      <td>Mindfulness practices reduce stress and anxiet...</td>\n",
       "    </tr>\n",
       "    <tr>\n",
       "      <th>7</th>\n",
       "      <td>ChronicCarePlus Chronic Conditions Program</td>\n",
       "      <td>80% of our 9,500 members have reported feeling...</td>\n",
       "      <td>Use ChronicCarePlus to track medication and ap...</td>\n",
       "      <td>NaN</td>\n",
       "      <td>NaN</td>\n",
       "      <td>Tracking and coaching improve condition manage...</td>\n",
       "    </tr>\n",
       "    <tr>\n",
       "      <th>8</th>\n",
       "      <td>CareBridge Access to Care Platform</td>\n",
       "      <td>70% of our 8,500 members have reported difficu...</td>\n",
       "      <td>Use CareBridge to find nearby healthcare provi...</td>\n",
       "      <td>NaN</td>\n",
       "      <td>NaN</td>\n",
       "      <td>Convenient access reduces healthcare barriers....</td>\n",
       "    </tr>\n",
       "    <tr>\n",
       "      <th>9</th>\n",
       "      <td>SpecialtyCare Medical Specialty RX</td>\n",
       "      <td>90% of our 11,500 members have reported diffic...</td>\n",
       "      <td>Use SpecialtyCare to find nearby medical speci...</td>\n",
       "      <td>NaN</td>\n",
       "      <td>NaN</td>\n",
       "      <td>Specialized care addresses complex health need...</td>\n",
       "    </tr>\n",
       "  </tbody>\n",
       "</table>\n",
       "</div>"
      ],
      "text/plain": [
       "                 Product/ Reporting Category*  \\\n",
       "0              HealthHive Preventive Care Kit   \n",
       "1                 CareConnect Access Platform   \n",
       "2              MindWave Behavioral Health App   \n",
       "3               ChronicCare Companion Program   \n",
       "4        SpecialtyScript Medical Specialty RX   \n",
       "5          HealthHero Preventive Care Chatbot   \n",
       "6           MindfulMind Behavioral Health App   \n",
       "7  ChronicCarePlus Chronic Conditions Program   \n",
       "8          CareBridge Access to Care Platform   \n",
       "9          SpecialtyCare Medical Specialty RX   \n",
       "\n",
       "                                         Observation  \\\n",
       "0  70% of our 10,000 members have reported diffic...   \n",
       "1  75% of our 5,000 members have expressed a desi...   \n",
       "2  90% of our 12,000 members have reported experi...   \n",
       "3  75% of our 9,000 members have reported feeling...   \n",
       "4  85% of our 11,000 members have reported diffic...   \n",
       "5  65% of our 9,000 members have reported having ...   \n",
       "6  85% of our 10,500 members have reported experi...   \n",
       "7  80% of our 9,500 members have reported feeling...   \n",
       "8  70% of our 8,500 members have reported difficu...   \n",
       "9  90% of our 11,500 members have reported diffic...   \n",
       "\n",
       "                                    Recommendation 1  Recommendation 2  \\\n",
       "0  Use HealthHive to schedule and track preventiv...               NaN   \n",
       "1  Use CareConnect to find nearby healthcare prov...               NaN   \n",
       "2  Use MindWave to access guided meditations and ...               NaN   \n",
       "3  Use ChronicCare to track medication and appoin...               NaN   \n",
       "4  Use SpecialtyScript to find nearby medical spe...               NaN   \n",
       "5  Use HealthHero to ask questions and receive pe...               NaN   \n",
       "6  Use MindfulMind to access guided meditations a...               NaN   \n",
       "7  Use ChronicCarePlus to track medication and ap...               NaN   \n",
       "8  Use CareBridge to find nearby healthcare provi...               NaN   \n",
       "9  Use SpecialtyCare to find nearby medical speci...               NaN   \n",
       "\n",
       "   Recommendation 3                                                Why  \n",
       "0               NaN  Regular screenings detect health issues early....  \n",
       "1               NaN  Convenient access reduces healthcare barriers....  \n",
       "2               NaN  Mindfulness practices reduce stress and anxiet...  \n",
       "3               NaN  Tracking and coaching improve condition manage...  \n",
       "4               NaN  Specialized care addresses complex health need...  \n",
       "5               NaN  Easy access to information empowers informed d...  \n",
       "6               NaN  Mindfulness practices reduce stress and anxiet...  \n",
       "7               NaN  Tracking and coaching improve condition manage...  \n",
       "8               NaN  Convenient access reduces healthcare barriers....  \n",
       "9               NaN  Specialized care addresses complex health need...  "
      ]
     },
     "execution_count": 3,
     "metadata": {},
     "output_type": "execute_result"
    }
   ],
   "source": [
    "import pandas as pd\n",
    "mock_df = pd.read_excel(\"xlfiles/mock_recomm_library_lat.xlsx\")\n",
    "mock_df"
   ]
  },
  {
   "cell_type": "code",
   "execution_count": 4,
   "metadata": {},
   "outputs": [
    {
     "name": "stderr",
     "output_type": "stream",
     "text": [
      "/Users/dileepbarla/Library/Python/3.9/lib/python/site-packages/urllib3/__init__.py:35: NotOpenSSLWarning: urllib3 v2 only supports OpenSSL 1.1.1+, currently the 'ssl' module is compiled with 'LibreSSL 2.8.3'. See: https://github.com/urllib3/urllib3/issues/3020\n",
      "  warnings.warn(\n"
     ]
    }
   ],
   "source": [
    "from langchain_experimental.agents.agent_toolkits import create_pandas_dataframe_agent"
   ]
  },
  {
   "cell_type": "code",
   "execution_count": 5,
   "metadata": {},
   "outputs": [],
   "source": [
    "import pandas as pd\n",
    "from langchain_openai import OpenAI"
   ]
  },
  {
   "cell_type": "code",
   "execution_count": 7,
   "metadata": {},
   "outputs": [],
   "source": [
    "Prompt = \"\"\"\n",
    "        You have to remember the below product & theme relationship. From the user query find the theme by referring below product & theme relationship and search the dataframe to Provide Product/ Reporting Category and recommendations corresponding to the theme. if you found multiple Product/ Reporting Category for the theme please provide recommendations for all.\n",
    "\n",
    "            1) HealthHive Preventive care Kit Product/ Reporting Category and HealthHero Preventive Care Chatbot  Product/ Reporting Category are related to Preventive care theme.\n",
    "            2) CareBridge Access to Care Platform  Product/ Reporting Category and Careconnect Access Platform Kit Product/ Reporting Category are related to Access to care theme.\n",
    "            3) MindWave Behavioral Kit Product/ Reporting Category is related to Behavioral theme.\n",
    "            4) ChronicCare Program Kit Product/ Reporting Category is related to Chronic theme\n",
    "            5) Specialityscript Medical Kit Product/ Reporting Category is related to Pharmacy theme.\n",
    "       \n",
    "        \"\"\""
   ]
  },
  {
   "cell_type": "code",
   "execution_count": 8,
   "metadata": {},
   "outputs": [],
   "source": [
    "df_agent = create_pandas_dataframe_agent(OpenAI(temperature=0), mock_df,  prefix=Prompt, verbose=True)\n"
   ]
  },
  {
   "cell_type": "code",
   "execution_count": 10,
   "metadata": {},
   "outputs": [
    {
     "name": "stdout",
     "output_type": "stream",
     "text": [
      "\n",
      "\n",
      "\u001b[1m> Entering new AgentExecutor chain...\u001b[0m\n",
      "\u001b[32;1m\u001b[1;3mThought: I should find the theme in the dataframe and then retrieve the corresponding recommendations.\n",
      "Action: python_repl_ast\n",
      "Action Input: df[df['Product/ Reporting Category*'].str.contains('Preventive care')]\u001b[0m\u001b[36;1m\u001b[1;3mEmpty DataFrame\n",
      "Columns: [Product/ Reporting Category*, Observation, Recommendation 1, Recommendation 2, Recommendation 3, Why]\n",
      "Index: []\u001b[0m\u001b[32;1m\u001b[1;3mI should check for any typos or formatting differences in the dataframe.\n",
      "Action: python_repl_ast\n",
      "Action Input: df['Product/ Reporting Category*'].unique()\u001b[0m\u001b[36;1m\u001b[1;3m['HealthHive Preventive Care Kit' 'CareConnect Access Platform'\n",
      " 'MindWave Behavioral Health App' 'ChronicCare Companion Program'\n",
      " 'SpecialtyScript Medical Specialty RX'\n",
      " 'HealthHero Preventive Care Chatbot' 'MindfulMind Behavioral Health App'\n",
      " 'ChronicCarePlus Chronic Conditions Program'\n",
      " 'CareBridge Access to Care Platform' 'SpecialtyCare Medical Specialty RX']\u001b[0m\u001b[32;1m\u001b[1;3m I should try searching for the theme using a different keyword.\n",
      "Action: python_repl_ast\n",
      "Action Input: df[df['Product/ Reporting Category*'].str.contains('Preventive')]\u001b[0m\u001b[36;1m\u001b[1;3m         Product/ Reporting Category*  \\\n",
      "0      HealthHive Preventive Care Kit   \n",
      "5  HealthHero Preventive Care Chatbot   \n",
      "\n",
      "                                         Observation  \\\n",
      "0  70% of our 10,000 members have reported diffic...   \n",
      "5  65% of our 9,000 members have reported having ...   \n",
      "\n",
      "                                    Recommendation 1  Recommendation 2  \\\n",
      "0  Use HealthHive to schedule and track preventiv...               NaN   \n",
      "5  Use HealthHero to ask questions and receive pe...               NaN   \n",
      "\n",
      "   Recommendation 3                                                Why  \n",
      "0               NaN  Regular screenings detect health issues early....  \n",
      "5               NaN  Easy access to information empowers informed d...  \u001b[0m\u001b[32;1m\u001b[1;3m I should now have the final answer.\n",
      "Final Answer: Use HealthHive to schedule and track preventive care appointments. Receive personalized reminders for recommended screenings and vaccinations. Access educational resources to understand the importance of preventive care. Use HealthHero to ask questions and receive personalized recommendations for preventive care. Easy access to information empowers informed decision-making. Regular screenings and vaccinations prevent illnesses and outbreaks.\u001b[0m\n",
      "\n",
      "\u001b[1m> Finished chain.\u001b[0m\n"
     ]
    }
   ],
   "source": [
    "output_resp = df_agent.invoke(\"what are the recommendations for Preventive care theme?\")"
   ]
  },
  {
   "cell_type": "code",
   "execution_count": 16,
   "metadata": {},
   "outputs": [
    {
     "name": "stdout",
     "output_type": "stream",
     "text": [
      "{'input': 'what are the recommendations for Preventive care theme?', 'output': 'Use HealthHive to schedule and track preventive care appointments. Receive personalized reminders for recommended screenings and vaccinations. Access educational resources to understand the importance of preventive care. Use HealthHero to ask questions and receive personalized recommendations for preventive care. Easy access to information empowers informed decision-making. Regular screenings and vaccinations prevent illnesses and outbreaks.'}\n"
     ]
    }
   ],
   "source": [
    "print(output_resp)"
   ]
  },
  {
   "cell_type": "code",
   "execution_count": 14,
   "metadata": {},
   "outputs": [],
   "source": [
    "from langchain.docstore.document import Document"
   ]
  },
  {
   "cell_type": "code",
   "execution_count": 27,
   "metadata": {},
   "outputs": [],
   "source": [
    "recomm_lib_output = []\n",
    "doc =  Document(page_content=\"{} {}\".format(output_resp['input'], output_resp['output']), metadata={\"client_name\": \"mock_client\", \"year\": \"2024\"})\n",
    "recomm_lib_output.append(doc)"
   ]
  },
  {
   "cell_type": "code",
   "execution_count": 28,
   "metadata": {},
   "outputs": [],
   "source": [
    "import chromadb\n",
    "\n",
    "from langchain_community.vectorstores import Chroma\n",
    "from langchain_openai import OpenAIEmbeddings\n",
    "\n",
    "embeddings = OpenAIEmbeddings()\n",
    "new_client = chromadb.EphemeralClient()\n",
    "vector_stor = Chroma.from_documents(recomm_lib_output, embeddings, client=new_client, collection_name = \"openai_collection\")"
   ]
  },
  {
   "cell_type": "code",
   "execution_count": 29,
   "metadata": {},
   "outputs": [],
   "source": [
    "from langchain_community.document_loaders import UnstructuredPDFLoader\n"
   ]
  },
  {
   "cell_type": "code",
   "execution_count": 31,
   "metadata": {},
   "outputs": [
    {
     "name": "stdout",
     "output_type": "stream",
     "text": [
      "[Document(page_content='Current Themes and Recommendations\\n\\nPreventative Care\\n\\nAccess to Care\\n\\nBehavioral Health\\n\\nThemes\\n\\nPreventative\\n\\nER utilization and urgent care visits are low • Convenience\\n\\nER utilization and urgent care visits are low • Convenience\\n\\ncare increased\\n\\nTelehealth\\n\\nutilized by 30% of members\\n\\n\\n\\n\\n\\n\\n\\n30% of members had a behavioral health conditions 35% of behavioral members are dependents 25% of prescriptions dispensed without PCP visit\\n\\nRecommendations HealthHive\\n\\nPreventive Care Kit Use HealthHive to schedule and track preventive care appointments.\\n\\nCareConnect Access Platform\\n\\nChronic Conditions\\n\\nObesity and hypertension were top chronic conditions, both are risk factors for Type 2 diabetes ChronicCare Companion Program\\n\\nObesity and hypertension were top chronic conditions, both are risk factors for Type 2 diabetes ChronicCare Companion Program\\n\\nPharmacy\\n\\nSpecialty drugs were a large part of expenses of high cost claims\\n\\nSpecialtyScript\\n\\nRecommendations and Future State\\n\\nPreventative/ Wellness Initiative\\n\\nAccess to Care\\n\\nBehavioral\\n\\nUse HealthHive to schedule and track preventive care appointments.\\n\\nReceive personalized reminders for recommended screenings and vaccinations.\\n\\nAccess educational resources to understand the importance of preventive care\\n\\nUse CareConnect to find nearby healthcare providers and services.\\n\\nCompare prices and availability to make informed choices.\\n\\nAccess telemedicine options for remote consultations.\\n\\nUse MindWave to access guided meditations and therapy sessions.\\n\\nTrack mood and progress to identify patterns and growth.\\n\\nConnect with a supportive community for encouragement.\\n\\nPharmacy\\n\\nUse\\n\\nSpecialtyScript to find nearby medical specialists.\\n\\nAccess affordable and convenient prescription services. • Receive personalized support for medication management.', metadata={'source': 'pdf_files/mock_client_slide_deck_lat.pdf'})]\n"
     ]
    }
   ],
   "source": [
    "loader = UnstructuredPDFLoader(\"pdf_files/mock_client_slide_deck_lat.pdf\")\n",
    "recomm_deck = loader.load()\n",
    "print(recomm_deck)"
   ]
  },
  {
   "cell_type": "code",
   "execution_count": 32,
   "metadata": {},
   "outputs": [],
   "source": [
    "recomm_deck[0].metadata['client_name'] = 'mock_client'\n",
    "recomm_deck[0].metadata['year'] = '2024'"
   ]
  },
  {
   "cell_type": "code",
   "execution_count": 33,
   "metadata": {},
   "outputs": [],
   "source": [
    "import chromadb\n",
    "\n",
    "from langchain_community.vectorstores import Chroma\n",
    "from langchain_openai import OpenAIEmbeddings\n",
    "\n",
    "embeddings = OpenAIEmbeddings()\n",
    "new_client = chromadb.EphemeralClient()\n",
    "vector_stor = Chroma.from_documents(recomm_deck, embeddings, client=new_client, collection_name = \"openai_collection\")"
   ]
  },
  {
   "cell_type": "code",
   "execution_count": 37,
   "metadata": {},
   "outputs": [],
   "source": [
    "from langchain.chains.query_constructor.base import AttributeInfo\n",
    "from langchain.retrievers.self_query.base import SelfQueryRetriever\n",
    "from langchain_openai import ChatOpenAI\n",
    "\n",
    "metadata_field_info = [\n",
    "    AttributeInfo(\n",
    "        name = \"source\",\n",
    "        description=\"Name of the document\",\n",
    "        type=\"string\",\n",
    "    ),\n",
    "    AttributeInfo(\n",
    "        name = \"client_name\",\n",
    "        description=\"Name of the client\",\n",
    "        type=\"string\",\n",
    "    ),\n",
    "    AttributeInfo(\n",
    "        name = \"year\",\n",
    "        description=\"Document created year\",\n",
    "        type=\"string\",\n",
    "    ),\n",
    "\n",
    "]\n",
    "document_content_desc = \"mock client recommendations\"\n",
    "llm = ChatOpenAI(temperature=0)\n",
    "retriever = SelfQueryRetriever.from_llm(llm,\n",
    "                                        vector_stor,\n",
    "                                        document_content_desc,\n",
    "                                        metadata_field_info, search_kwargs={\"k\":1})"
   ]
  },
  {
   "cell_type": "code",
   "execution_count": 38,
   "metadata": {},
   "outputs": [
    {
     "name": "stdout",
     "output_type": "stream",
     "text": [
      "input_variables=['context', 'question'] metadata={'lc_hub_owner': 'rlm', 'lc_hub_repo': 'rag-prompt', 'lc_hub_commit_hash': '50442af133e61576e74536c6556cefe1fac147cad032f4377b60c436e6cdcb6e'} messages=[HumanMessagePromptTemplate(prompt=PromptTemplate(input_variables=['context', 'question'], template=\"You are an assistant for question-answering tasks. Use the following pieces of retrieved context to answer the question. If you don't know the answer, just say that you don't know. Use three sentences maximum and keep the answer concise.\\nQuestion: {question} \\nContext: {context} \\nAnswer:\"))]\n"
     ]
    }
   ],
   "source": [
    "from langchain import hub\n",
    "rag_prompt = hub.pull(\"rlm/rag-prompt\")\n",
    "print(rag_prompt)"
   ]
  },
  {
   "cell_type": "code",
   "execution_count": 39,
   "metadata": {},
   "outputs": [
    {
     "name": "stdout",
     "output_type": "stream",
     "text": [
      "input_variables=['context'] messages=[HumanMessagePromptTemplate(prompt=PromptTemplate(input_variables=['context'], template=\"You are an assistant for question answering tasks. Use the following pieces of retrieved context to answer the question. if you don't know the answer just say don't know. \\nQuestion \\nContext: {context} \\nAnswer\"))]\n"
     ]
    }
   ],
   "source": [
    "from langchain_openai import ChatOpenAI\n",
    "llm = ChatOpenAI(model=\"gpt-4\", temperature=0)\n",
    "from langchain_core.prompts import ChatPromptTemplate\n",
    "from langchain_core.prompts import HumanMessagePromptTemplate\n",
    "from langchain_core.prompts import PromptTemplate\n",
    "\n",
    "prompt = ChatPromptTemplate(input_variables=['context', 'question'], messages=[HumanMessagePromptTemplate(prompt=PromptTemplate(input_variables=['context', 'question'],\n",
    "    template = \"You are an assistant for question answering tasks. Use the following pieces of retrieved context to answer the question. if you don't know the answer just say don't know. \\nQuestion \\nContext: {context} \\nAnswer\"))])\n",
    "print(prompt)"
   ]
  },
  {
   "cell_type": "code",
   "execution_count": 42,
   "metadata": {},
   "outputs": [
    {
     "data": {
      "text/plain": [
       "'The preventive care recommendations for mock_client in 2024 include using HealthHive to schedule and track preventive care appointments, receiving personalized reminders for recommended screenings and vaccinations, and accessing educational resources to understand the importance of preventive care. They can also use HealthHero to ask questions and receive personalized recommendations for preventive care. Regular screenings and vaccinations are also recommended to prevent illnesses and outbreaks.'"
      ]
     },
     "execution_count": 42,
     "metadata": {},
     "output_type": "execute_result"
    }
   ],
   "source": [
    "from langchain_core.output_parsers import StrOutputParser\n",
    "from langchain_core.runnables import RunnablePassthrough\n",
    "rag_chain = ({\"context\": retriever, \"question\": RunnablePassthrough()}\n",
    "            | rag_prompt\n",
    "             | llm\n",
    "             | StrOutputParser()\n",
    "            )\n",
    "rag_chain.invoke(\"What are the Preventive care recommendations in 2024 for mock_client?\")"
   ]
  }
 ],
 "metadata": {
  "kernelspec": {
   "display_name": "my-python3-kernel-jupyter",
   "language": "python",
   "name": "my-python3-kernel-jupyter"
  },
  "language_info": {
   "codemirror_mode": {
    "name": "ipython",
    "version": 3
   },
   "file_extension": ".py",
   "mimetype": "text/x-python",
   "name": "python",
   "nbconvert_exporter": "python",
   "pygments_lexer": "ipython3",
   "version": "3.9.6"
  }
 },
 "nbformat": 4,
 "nbformat_minor": 2
}
